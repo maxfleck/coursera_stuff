{
 "cells": [
  {
   "cell_type": "markdown",
   "id": "46df368c-ce34-4fd1-ad4c-551eb0690e43",
   "metadata": {},
   "source": [
    "<p style=\"text-align:center\">\n",
    "    <a href=\"https://skills.network/?utm_medium=Exinfluencer&utm_source=Exinfluencer&utm_content=000026UJ&utm_term=10006555&utm_id=NA-SkillsNetwork-Channel-SkillsNetworkCoursesIBMML321ENSkillsNetwork817-2022-01-01\" target=\"_blank\">\n",
    "    <img src=\"https://cf-courses-data.s3.us.cloud-object-storage.appdomain.cloud/assets/logos/SN_web_lightmode.png\" width=\"200\" alt=\"Skills Network Logo\"  />\n",
    "    </a>\n",
    "</p>\n"
   ]
  },
  {
   "cell_type": "markdown",
   "id": "e26ae7dc-30c1-4330-9396-c26c1a5eb5f9",
   "metadata": {},
   "source": [
    "# **Regression-based Rating Score Prediction using Embedding Features**\n"
   ]
  },
  {
   "cell_type": "markdown",
   "id": "318a3af6-126b-4ddc-92fc-179f2c4f497f",
   "metadata": {},
   "source": [
    "Estimated time needed: **45** minutes\n"
   ]
  },
  {
   "cell_type": "markdown",
   "id": "94d81798-9542-4d8c-9456-c387d81bd8fe",
   "metadata": {},
   "source": [
    "In our previous lab, you have trained a neural network to predict the user-item interactions while simultaneously extracting the user and item embedding features. In the neural network, extends this by using  two embedding vectors as an input into a Neural Network to predict the rating.\n"
   ]
  },
  {
   "cell_type": "markdown",
   "id": "fb14a781-d729-4f05-acc9-5ea26d4e1003",
   "metadata": {},
   "source": [
    "![](https://cf-courses-data.s3.us.cloud-object-storage.appdomain.cloud/IBM-ML321EN-SkillsNetwork/labs/module_4/images/rating_regression.png)\n"
   ]
  },
  {
   "cell_type": "markdown",
   "id": "be6a2d03-1b18-4280-8b05-4121853975db",
   "metadata": {},
   "source": [
    "\n",
    "Another way to make rating predictions is to use the embedding as an input to a neural network by aggregating them into a single feature vector as input data `X`. \n",
    "\n",
    "With the interaction label `Y` such as a rating score or an enrollment mode, we can build our other standalone predictive models to approximate the mapping from `X` to `Y`, as shown in the above flowchart.\n"
   ]
  },
  {
   "cell_type": "markdown",
   "id": "674eaebd-f9fb-4ae8-b360-c42920dd1b26",
   "metadata": {},
   "source": [
    "In this lab, you will be given the course interaction feature vectors as input data `X` and consider label `Y` as the numerical rating scores. As such, we turn the recommender system into a common regression task and you can apply what you have learned about regression modeling to predict the ratings.\n"
   ]
  },
  {
   "cell_type": "markdown",
   "id": "8667b5a0-6a18-4023-8d79-563fa5bc2ccd",
   "metadata": {},
   "source": [
    "## Objectives\n"
   ]
  },
  {
   "cell_type": "markdown",
   "id": "73f22e1e-86be-4140-b5f6-e45e98535205",
   "metadata": {},
   "source": [
    "After completing this lab you will be able to:\n"
   ]
  },
  {
   "cell_type": "markdown",
   "id": "b23e6e7d-6ce1-4afa-a43f-cbcecf81fc28",
   "metadata": {},
   "source": [
    "* Build regression models to predict ratings using the combined embedding vectors\n"
   ]
  },
  {
   "cell_type": "markdown",
   "id": "44aec5cf-9d36-4bda-86d4-d328b7679b83",
   "metadata": {},
   "source": [
    "----\n"
   ]
  },
  {
   "cell_type": "markdown",
   "id": "87d7f0b9-03ea-4788-aa0f-ff1acb0fb5ce",
   "metadata": {},
   "source": [
    "## Prepare and setup lab environment\n"
   ]
  },
  {
   "cell_type": "markdown",
   "id": "d29231cf-dc00-415e-8c8a-6ef9b7864354",
   "metadata": {},
   "source": [
    "First install and import required libraries:\n"
   ]
  },
  {
   "cell_type": "code",
   "execution_count": 1,
   "id": "c87016bb-3a84-4b7a-a495-06fae74a70c2",
   "metadata": {},
   "outputs": [],
   "source": [
    "#!pip install scikit-learn==1.0.2"
   ]
  },
  {
   "cell_type": "code",
   "execution_count": 2,
   "id": "19424a54-df23-4944-9f7a-79166eccc5fa",
   "metadata": {},
   "outputs": [],
   "source": [
    "# also set a random state\n",
    "rs = 123"
   ]
  },
  {
   "cell_type": "code",
   "execution_count": 3,
   "id": "3623f781-1884-4251-841e-89da26acc715",
   "metadata": {},
   "outputs": [
    {
     "name": "stderr",
     "output_type": "stream",
     "text": [
      "2024-01-16 15:47:34.034330: I external/local_tsl/tsl/cuda/cudart_stub.cc:31] Could not find cuda drivers on your machine, GPU will not be used.\n",
      "2024-01-16 15:47:34.069853: E external/local_xla/xla/stream_executor/cuda/cuda_dnn.cc:9261] Unable to register cuDNN factory: Attempting to register factory for plugin cuDNN when one has already been registered\n",
      "2024-01-16 15:47:34.069881: E external/local_xla/xla/stream_executor/cuda/cuda_fft.cc:607] Unable to register cuFFT factory: Attempting to register factory for plugin cuFFT when one has already been registered\n",
      "2024-01-16 15:47:34.070846: E external/local_xla/xla/stream_executor/cuda/cuda_blas.cc:1515] Unable to register cuBLAS factory: Attempting to register factory for plugin cuBLAS when one has already been registered\n",
      "2024-01-16 15:47:34.075968: I external/local_tsl/tsl/cuda/cudart_stub.cc:31] Could not find cuda drivers on your machine, GPU will not be used.\n",
      "2024-01-16 15:47:34.076433: I tensorflow/core/platform/cpu_feature_guard.cc:182] This TensorFlow binary is optimized to use available CPU instructions in performance-critical operations.\n",
      "To enable the following instructions: AVX2 FMA, in other operations, rebuild TensorFlow with the appropriate compiler flags.\n",
      "2024-01-16 15:47:34.911411: W tensorflow/compiler/tf2tensorrt/utils/py_utils.cc:38] TF-TRT Warning: Could not find TensorRT\n"
     ]
    }
   ],
   "source": [
    "import pandas as pd\n",
    "import matplotlib.pyplot as plt\n",
    "\n",
    "import numpy as np\n",
    "import random\n",
    "\n",
    "from sklearn.model_selection import train_test_split\n",
    "from sklearn import linear_model\n",
    "from sklearn.metrics import mean_squared_error\n",
    "\n",
    "import tensorflow as tf\n",
    "from tensorflow import keras\n",
    "from tensorflow.keras import layers\n"
   ]
  },
  {
   "cell_type": "markdown",
   "id": "e81f8e1e-6543-4247-872d-f89b10101abf",
   "metadata": {},
   "source": [
    "### Load datasets\n"
   ]
  },
  {
   "cell_type": "code",
   "execution_count": 4,
   "id": "50625791-c7ba-425a-8876-30a11eeda4c3",
   "metadata": {},
   "outputs": [],
   "source": [
    "rating_url = \"nice_data.csv\"\n",
    "\n",
    "bias = False\n",
    "if bias:\n",
    "    emb_url = \"bui_df.csv\"\n",
    "else:\n",
    "    emb_url = \"ui_df.csv\"\n",
    "    "
   ]
  },
  {
   "cell_type": "markdown",
   "id": "8ceb2b1b-6b47-4733-ba07-9da2f47d4c1d",
   "metadata": {},
   "source": [
    "\n",
    "\n",
    "The first dataset is the rating dataset that contains a user-item interaction matrix\n"
   ]
  },
  {
   "cell_type": "code",
   "execution_count": 5,
   "id": "0cad71a4-13e5-4b62-894b-fff732d73aed",
   "metadata": {},
   "outputs": [],
   "source": [
    "rating_df = pd.read_csv(rating_url)"
   ]
  },
  {
   "cell_type": "code",
   "execution_count": 6,
   "id": "d5775821-c2cc-40d6-8b7d-495afd9c0bbb",
   "metadata": {},
   "outputs": [
    {
     "name": "stderr",
     "output_type": "stream",
     "text": [
      "/tmp/ipykernel_18115/1460399333.py:1: SettingWithCopyWarning: \n",
      "A value is trying to be set on a copy of a slice from a DataFrame\n",
      "\n",
      "See the caveats in the documentation: https://pandas.pydata.org/pandas-docs/stable/user_guide/indexing.html#returning-a-view-versus-a-copy\n",
      "  rating_df[\"rating\"][ rating_df[\"rating\"] < 1  ] = 0\n",
      "/tmp/ipykernel_18115/1460399333.py:2: SettingWithCopyWarning: \n",
      "A value is trying to be set on a copy of a slice from a DataFrame\n",
      "\n",
      "See the caveats in the documentation: https://pandas.pydata.org/pandas-docs/stable/user_guide/indexing.html#returning-a-view-versus-a-copy\n",
      "  rating_df[\"rating\"][ rating_df[\"rating\"]  > 1 ] = 1\n"
     ]
    },
    {
     "data": {
      "text/html": [
       "<div>\n",
       "<style scoped>\n",
       "    .dataframe tbody tr th:only-of-type {\n",
       "        vertical-align: middle;\n",
       "    }\n",
       "\n",
       "    .dataframe tbody tr th {\n",
       "        vertical-align: top;\n",
       "    }\n",
       "\n",
       "    .dataframe thead th {\n",
       "        text-align: right;\n",
       "    }\n",
       "</style>\n",
       "<table border=\"1\" class=\"dataframe\">\n",
       "  <thead>\n",
       "    <tr style=\"text-align: right;\">\n",
       "      <th></th>\n",
       "      <th>user</th>\n",
       "      <th>item</th>\n",
       "      <th>rating</th>\n",
       "    </tr>\n",
       "  </thead>\n",
       "  <tbody>\n",
       "    <tr>\n",
       "      <th>0</th>\n",
       "      <td>2</td>\n",
       "      <td>BD0221EN</td>\n",
       "      <td>1.0</td>\n",
       "    </tr>\n",
       "    <tr>\n",
       "      <th>1</th>\n",
       "      <td>2</td>\n",
       "      <td>LB0107ENv1</td>\n",
       "      <td>1.0</td>\n",
       "    </tr>\n",
       "    <tr>\n",
       "      <th>2</th>\n",
       "      <td>2</td>\n",
       "      <td>SC0105EN</td>\n",
       "      <td>1.0</td>\n",
       "    </tr>\n",
       "    <tr>\n",
       "      <th>3</th>\n",
       "      <td>2</td>\n",
       "      <td>CO0201EN</td>\n",
       "      <td>0.0</td>\n",
       "    </tr>\n",
       "    <tr>\n",
       "      <th>4</th>\n",
       "      <td>2</td>\n",
       "      <td>BD0123EN</td>\n",
       "      <td>1.0</td>\n",
       "    </tr>\n",
       "  </tbody>\n",
       "</table>\n",
       "</div>"
      ],
      "text/plain": [
       "   user        item  rating\n",
       "0     2    BD0221EN     1.0\n",
       "1     2  LB0107ENv1     1.0\n",
       "2     2    SC0105EN     1.0\n",
       "3     2    CO0201EN     0.0\n",
       "4     2    BD0123EN     1.0"
      ]
     },
     "execution_count": 6,
     "metadata": {},
     "output_type": "execute_result"
    }
   ],
   "source": [
    "rating_df[\"rating\"][ rating_df[\"rating\"] < 1  ] = 0\n",
    "rating_df[\"rating\"][ rating_df[\"rating\"]  > 1 ] = 1\n",
    "rating_df.head()"
   ]
  },
  {
   "cell_type": "markdown",
   "id": "2a1d7915-d274-4aff-ae86-00b0c3c2cc17",
   "metadata": {},
   "source": [
    "As you can see from the above data, the user and item are just ids, let's substitute them by their embedding vectors:\n"
   ]
  },
  {
   "cell_type": "code",
   "execution_count": 21,
   "id": "80919644-94d3-4df5-b88a-f230621ebbf9",
   "metadata": {},
   "outputs": [
    {
     "data": {
      "text/html": [
       "<div>\n",
       "<style scoped>\n",
       "    .dataframe tbody tr th:only-of-type {\n",
       "        vertical-align: middle;\n",
       "    }\n",
       "\n",
       "    .dataframe tbody tr th {\n",
       "        vertical-align: top;\n",
       "    }\n",
       "\n",
       "    .dataframe thead th {\n",
       "        text-align: right;\n",
       "    }\n",
       "</style>\n",
       "<table border=\"1\" class=\"dataframe\">\n",
       "  <thead>\n",
       "    <tr style=\"text-align: right;\">\n",
       "      <th></th>\n",
       "      <th>user</th>\n",
       "      <th>item</th>\n",
       "      <th>rating</th>\n",
       "      <th>UFeature0</th>\n",
       "      <th>UFeature1</th>\n",
       "      <th>UFeature2</th>\n",
       "      <th>UFeature3</th>\n",
       "      <th>UFeature4</th>\n",
       "      <th>UFeature5</th>\n",
       "      <th>UFeature6</th>\n",
       "      <th>...</th>\n",
       "      <th>CFeature6</th>\n",
       "      <th>CFeature7</th>\n",
       "      <th>CFeature8</th>\n",
       "      <th>CFeature9</th>\n",
       "      <th>CFeature10</th>\n",
       "      <th>CFeature11</th>\n",
       "      <th>CFeature12</th>\n",
       "      <th>CFeature13</th>\n",
       "      <th>CFeature14</th>\n",
       "      <th>CFeature15</th>\n",
       "    </tr>\n",
       "  </thead>\n",
       "  <tbody>\n",
       "    <tr>\n",
       "      <th>0</th>\n",
       "      <td>2</td>\n",
       "      <td>BD0221EN</td>\n",
       "      <td>1.0</td>\n",
       "      <td>0.02163</td>\n",
       "      <td>0.025561</td>\n",
       "      <td>-0.116771</td>\n",
       "      <td>-0.026099</td>\n",
       "      <td>0.08159</td>\n",
       "      <td>0.118796</td>\n",
       "      <td>-0.110325</td>\n",
       "      <td>...</td>\n",
       "      <td>0.001127</td>\n",
       "      <td>-0.042721</td>\n",
       "      <td>-0.020004</td>\n",
       "      <td>-0.004160</td>\n",
       "      <td>-0.022699</td>\n",
       "      <td>-0.054916</td>\n",
       "      <td>-0.011230</td>\n",
       "      <td>-0.037942</td>\n",
       "      <td>-0.016477</td>\n",
       "      <td>0.016040</td>\n",
       "    </tr>\n",
       "    <tr>\n",
       "      <th>1</th>\n",
       "      <td>2</td>\n",
       "      <td>LB0107ENv1</td>\n",
       "      <td>1.0</td>\n",
       "      <td>0.02163</td>\n",
       "      <td>0.025561</td>\n",
       "      <td>-0.116771</td>\n",
       "      <td>-0.026099</td>\n",
       "      <td>0.08159</td>\n",
       "      <td>0.118796</td>\n",
       "      <td>-0.110325</td>\n",
       "      <td>...</td>\n",
       "      <td>0.026085</td>\n",
       "      <td>0.023909</td>\n",
       "      <td>-0.015020</td>\n",
       "      <td>0.018504</td>\n",
       "      <td>-0.033117</td>\n",
       "      <td>0.041930</td>\n",
       "      <td>-0.026071</td>\n",
       "      <td>0.011439</td>\n",
       "      <td>0.015818</td>\n",
       "      <td>-0.013199</td>\n",
       "    </tr>\n",
       "    <tr>\n",
       "      <th>2</th>\n",
       "      <td>2</td>\n",
       "      <td>SC0105EN</td>\n",
       "      <td>1.0</td>\n",
       "      <td>0.02163</td>\n",
       "      <td>0.025561</td>\n",
       "      <td>-0.116771</td>\n",
       "      <td>-0.026099</td>\n",
       "      <td>0.08159</td>\n",
       "      <td>0.118796</td>\n",
       "      <td>-0.110325</td>\n",
       "      <td>...</td>\n",
       "      <td>0.024451</td>\n",
       "      <td>-0.021855</td>\n",
       "      <td>0.076256</td>\n",
       "      <td>-0.004345</td>\n",
       "      <td>-0.012459</td>\n",
       "      <td>-0.015200</td>\n",
       "      <td>0.016222</td>\n",
       "      <td>0.002568</td>\n",
       "      <td>0.004560</td>\n",
       "      <td>0.035618</td>\n",
       "    </tr>\n",
       "    <tr>\n",
       "      <th>3</th>\n",
       "      <td>2</td>\n",
       "      <td>CO0201EN</td>\n",
       "      <td>0.0</td>\n",
       "      <td>0.02163</td>\n",
       "      <td>0.025561</td>\n",
       "      <td>-0.116771</td>\n",
       "      <td>-0.026099</td>\n",
       "      <td>0.08159</td>\n",
       "      <td>0.118796</td>\n",
       "      <td>-0.110325</td>\n",
       "      <td>...</td>\n",
       "      <td>-0.003080</td>\n",
       "      <td>0.023442</td>\n",
       "      <td>-0.018411</td>\n",
       "      <td>0.005600</td>\n",
       "      <td>-0.018589</td>\n",
       "      <td>-0.007688</td>\n",
       "      <td>-0.012450</td>\n",
       "      <td>-0.033382</td>\n",
       "      <td>0.017794</td>\n",
       "      <td>-0.000448</td>\n",
       "    </tr>\n",
       "    <tr>\n",
       "      <th>4</th>\n",
       "      <td>2</td>\n",
       "      <td>BD0123EN</td>\n",
       "      <td>1.0</td>\n",
       "      <td>0.02163</td>\n",
       "      <td>0.025561</td>\n",
       "      <td>-0.116771</td>\n",
       "      <td>-0.026099</td>\n",
       "      <td>0.08159</td>\n",
       "      <td>0.118796</td>\n",
       "      <td>-0.110325</td>\n",
       "      <td>...</td>\n",
       "      <td>0.006007</td>\n",
       "      <td>0.006638</td>\n",
       "      <td>-0.002519</td>\n",
       "      <td>0.016422</td>\n",
       "      <td>-0.054736</td>\n",
       "      <td>0.015872</td>\n",
       "      <td>0.015215</td>\n",
       "      <td>-0.012534</td>\n",
       "      <td>-0.009105</td>\n",
       "      <td>-0.017294</td>\n",
       "    </tr>\n",
       "  </tbody>\n",
       "</table>\n",
       "<p>5 rows × 35 columns</p>\n",
       "</div>"
      ],
      "text/plain": [
       "   user        item  rating  UFeature0  UFeature1  UFeature2  UFeature3  \\\n",
       "0     2    BD0221EN     1.0    0.02163   0.025561  -0.116771  -0.026099   \n",
       "1     2  LB0107ENv1     1.0    0.02163   0.025561  -0.116771  -0.026099   \n",
       "2     2    SC0105EN     1.0    0.02163   0.025561  -0.116771  -0.026099   \n",
       "3     2    CO0201EN     0.0    0.02163   0.025561  -0.116771  -0.026099   \n",
       "4     2    BD0123EN     1.0    0.02163   0.025561  -0.116771  -0.026099   \n",
       "\n",
       "   UFeature4  UFeature5  UFeature6  ...  CFeature6  CFeature7  CFeature8  \\\n",
       "0    0.08159   0.118796  -0.110325  ...   0.001127  -0.042721  -0.020004   \n",
       "1    0.08159   0.118796  -0.110325  ...   0.026085   0.023909  -0.015020   \n",
       "2    0.08159   0.118796  -0.110325  ...   0.024451  -0.021855   0.076256   \n",
       "3    0.08159   0.118796  -0.110325  ...  -0.003080   0.023442  -0.018411   \n",
       "4    0.08159   0.118796  -0.110325  ...   0.006007   0.006638  -0.002519   \n",
       "\n",
       "   CFeature9  CFeature10  CFeature11  CFeature12  CFeature13  CFeature14  \\\n",
       "0  -0.004160   -0.022699   -0.054916   -0.011230   -0.037942   -0.016477   \n",
       "1   0.018504   -0.033117    0.041930   -0.026071    0.011439    0.015818   \n",
       "2  -0.004345   -0.012459   -0.015200    0.016222    0.002568    0.004560   \n",
       "3   0.005600   -0.018589   -0.007688   -0.012450   -0.033382    0.017794   \n",
       "4   0.016422   -0.054736    0.015872    0.015215   -0.012534   -0.009105   \n",
       "\n",
       "   CFeature15  \n",
       "0    0.016040  \n",
       "1   -0.013199  \n",
       "2    0.035618  \n",
       "3   -0.000448  \n",
       "4   -0.017294  \n",
       "\n",
       "[5 rows x 35 columns]"
      ]
     },
     "execution_count": 21,
     "metadata": {},
     "output_type": "execute_result"
    }
   ],
   "source": [
    "merged_df.head()"
   ]
  },
  {
   "cell_type": "markdown",
   "id": "fc2f1f0b-a19f-4c20-a8aa-31f72b669081",
   "metadata": {},
   "source": [
    "Next, we can combine the user features (the column labels starting with `UFeature` and item features (the column labels starting with `CFeature`. In machine learning, there are many ways to aggregate two feature vectors such as element-wise add, multiply, max/min, average, etc. Here we simply add the two sets of feature columns:\n"
   ]
  },
  {
   "cell_type": "code",
   "execution_count": null,
   "id": "9853d1c2-3b8d-4325-ad7b-79d9a4e31f39",
   "metadata": {},
   "outputs": [],
   "source": [
    "u_feautres = [f\"UFeature{i}\" for i in range(6)]\n",
    "c_features = [f\"CFeature{i}\" for i in range(6)]\n",
    "\n",
    "user_embeddings = merged_df[u_feautres]\n",
    "course_embeddings = merged_df[c_features]\n",
    "ratings = merged_df['rating']\n",
    "\n",
    "# Aggregate the two feature columns using element-wise add\n",
    "regression_dataset = user_embeddings + course_embeddings.values\n",
    "regression_dataset.columns = [f\"Feature{i}\" for i in range(16)]\n",
    "regression_dataset['rating'] = ratings\n",
    "regression_dataset.head()"
   ]
  },
  {
   "cell_type": "markdown",
   "id": "2e14398e-a11e-4b52-9823-83430e46ef37",
   "metadata": {},
   "source": [
    "By now, we have built the input dataset `X` and the output vector `y`:\n"
   ]
  },
  {
   "cell_type": "code",
   "execution_count": null,
   "id": "0592dd26-8f45-430c-a181-1c64954dd0b5",
   "metadata": {},
   "outputs": [],
   "source": [
    "X = regression_dataset.iloc[:, :-1]\n",
    "y = regression_dataset.iloc[:, -1]\n",
    "print(f\"Input data shape: {X.shape}, Output data shape: {y.shape}\")"
   ]
  },
  {
   "cell_type": "markdown",
   "id": "8e5a53a2-c035-4b26-8b03-1596d6a8ebf3",
   "metadata": {},
   "source": [
    "## TASK: Perform regression on the interaction dataset\n"
   ]
  },
  {
   "cell_type": "markdown",
   "id": "526e28fb-56a3-4d2b-b50b-ba0bdf80b85d",
   "metadata": {},
   "source": [
    "Now our input data `X` and output `y` are ready, let's build regression models to map X to y and predict ratings. \n"
   ]
  },
  {
   "cell_type": "markdown",
   "id": "4a2e7980-652c-47d4-9873-713fbd8802d6",
   "metadata": {},
   "source": [
    "y.unique()\n"
   ]
  },
  {
   "cell_type": "markdown",
   "id": "5467795b-c9b6-40ae-a753-27ba33a12237",
   "metadata": {},
   "source": [
    "In an online course system, we may consider the `Completion` mode to be `larger` than the `Audit` mode as a learner needs to put more efforts towards completion.  Now if we treat it as a regression problem,  we would expect the regression model to output ratings ranging from 2.0 to 3.0. To interpret regression model output, we can treat values closer to 2.0 as `Audit` and values closer to 3.0 as `Completion`.\n"
   ]
  },
  {
   "cell_type": "markdown",
   "id": "4d5de809-93a1-4673-bf11-b9c97b1a8213",
   "metadata": {},
   "source": [
    "You may use `sklearn` to train and evaluate various regression models.\n"
   ]
  },
  {
   "cell_type": "markdown",
   "id": "bf19a016-9324-418a-b29a-92e52dc4be66",
   "metadata": {},
   "source": [
    "_TODO: First split dataset into training and testing datasets_\n"
   ]
  },
  {
   "cell_type": "code",
   "execution_count": null,
   "id": "9926f131-863c-4cd5-8f6c-6730b861d8c6",
   "metadata": {},
   "outputs": [],
   "source": [
    "### WRITE YOUR CODE HERE\n",
    "from sklearn.preprocessing import StandardScaler\n",
    "\n",
    "#scaler = StandardScaler\n",
    "#X,y = scaler.fit_transform(X,y)\n",
    "#y = y -2\n",
    "\n",
    "X_train, X_test, y_train, y_test = train_test_split(X,y,random_state=rs,test_size=0.3)"
   ]
  },
  {
   "cell_type": "code",
   "execution_count": null,
   "metadata": {},
   "outputs": [],
   "source": [
    "X_train"
   ]
  },
  {
   "cell_type": "code",
   "execution_count": null,
   "metadata": {},
   "outputs": [],
   "source": [
    "sum( y_test == 2 ) , sum( y_test == 3 )"
   ]
  },
  {
   "cell_type": "markdown",
   "id": "19c74ca4-1fc9-49bf-b6ab-a69ba391b90b",
   "metadata": {},
   "source": [
    "<details>\n",
    "    <summary>Click here for Hints</summary>\n",
    "    \n",
    "Use `train_test_split()` to split dataset into training and testing datasets.  Use `X, y` as input dataset and output vector. Don't forget to specify `random_state = rs` and `test_size=0.3`.\n"
   ]
  },
  {
   "cell_type": "markdown",
   "id": "33d32313-59f5-4c79-9a85-2aec452dc371",
   "metadata": {},
   "source": [
    "_TODO: Create a basic linear regression model_\n"
   ]
  },
  {
   "cell_type": "code",
   "execution_count": null,
   "id": "9c92ddee-71d9-4a14-8a52-a5b64dbe078b",
   "metadata": {},
   "outputs": [],
   "source": [
    "### WRITE YOUR CODE HERE\n",
    "model = linear_model.Ridge(alpha=0.2)"
   ]
  },
  {
   "cell_type": "markdown",
   "id": "97186e6b-f8c9-4e3a-ac84-5b32370cdf8f",
   "metadata": {},
   "source": [
    "<details>\n",
    "    <summary>Click here for Hints</summary>\n",
    "    \n",
    "You can call `linear_model.Ridge()` method and specify `alpha=0.2` ( it's controlling regularization) in the parameters.\n"
   ]
  },
  {
   "cell_type": "markdown",
   "id": "2168b1fa-ce81-4f05-b378-d14ae39b0cd5",
   "metadata": {},
   "source": [
    "_TODO: Train the basic regression model with training data_\n"
   ]
  },
  {
   "cell_type": "code",
   "execution_count": null,
   "id": "47d7c7be-b5d4-42ca-9d69-89eca026c54e",
   "metadata": {},
   "outputs": [],
   "source": [
    "### WRITE YOUR CODE HERE\n",
    "model.fit(X_train, y_train)"
   ]
  },
  {
   "cell_type": "markdown",
   "id": "5b55b75f-444d-451f-8857-6d0811fb5c5c",
   "metadata": {},
   "source": [
    "<details>\n",
    "    <summary>Click here for Hints</summary>\n",
    "    \n",
    "You can call `model.fit()` method with `X_train, y_train` parameters.\n"
   ]
  },
  {
   "cell_type": "markdown",
   "id": "072232b0-d3cf-4e8a-b013-6cd996df38e0",
   "metadata": {},
   "source": [
    "_TODO: Evaluate the basic regression model_\n"
   ]
  },
  {
   "cell_type": "code",
   "execution_count": null,
   "id": "05b9d90e-60e6-4f0c-aa36-952bd35961b5",
   "metadata": {},
   "outputs": [],
   "source": [
    "### WRITE YOUR CODE HERE\n",
    "\n",
    "### The main evaluation metric is RMSE but you may use other metrics as well\n",
    "\n",
    "y_predict = model.predict(X_test)\n",
    "\n",
    "mean_squared_error(y_test,  y_predict, squared=False), y_predict.shape"
   ]
  },
  {
   "cell_type": "code",
   "execution_count": null,
   "metadata": {},
   "outputs": [],
   "source": [
    "min(y_train), max(y_train), min(y_predict), max(y_predict)"
   ]
  },
  {
   "cell_type": "code",
   "execution_count": null,
   "metadata": {},
   "outputs": [],
   "source": [
    "rmses = []\n",
    "alphas = np.arange( 0,10,0.5 )\n",
    "for alpha in alphas:\n",
    "    model = linear_model.Ridge(alpha=alpha)\n",
    "    model.fit(X_train, y_train)\n",
    "    y_predict = model.predict(X_test)\n",
    "    print( min(y_train), max(y_train), min(y_predict), max(y_predict) )\n",
    "    rmse = mean_squared_error(y_test,  y_predict, squared=False)\n",
    "    print(alpha,rmse)\n",
    "    rmses.append( rmse )\n",
    "    \n",
    "plt.plot( alphas, rmses )"
   ]
  },
  {
   "cell_type": "markdown",
   "id": "1725c415-c714-4f70-9b31-9abc2530a75a",
   "metadata": {},
   "source": [
    "<details>\n",
    "    <summary>Click here for Hints</summary>\n",
    "    \n",
    "You can call `model.predict()` method with `X_test` parameter to get model predictions. Then use `mean_squared_error()` with `y_test, your_predictions` parameters to calculate the RMSE. \n"
   ]
  },
  {
   "cell_type": "markdown",
   "id": "3e29b0ba-55b9-413b-b1b4-40ec8d3d99d9",
   "metadata": {},
   "source": [
    "_TODO: Try different regression models such as Ridge, Lasso, ElasticNet and tune their hyperparameters to see which one has the best performance_\n"
   ]
  },
  {
   "cell_type": "code",
   "execution_count": null,
   "id": "21112e72-fca8-4056-b966-d91dee039b4f",
   "metadata": {},
   "outputs": [],
   "source": [
    "### WRITE YOUR CODE HERE\n",
    "rmses = []\n",
    "alphas = np.arange( 0.01,10,0.5 )\n",
    "for alpha in alphas:\n",
    "    model = linear_model.Lasso(alpha=alpha)\n",
    "    model.fit(X_train, y_train)\n",
    "    y_predict = model.predict(X_test)\n",
    "    print( min(y_train), max(y_train), min(y_predict), max(y_predict) )\n",
    "    rmse = mean_squared_error(y_test,  y_predict, squared=False)\n",
    "    print(alpha,rmse)\n",
    "    rmses.append( rmse )\n",
    "    \n",
    "plt.plot( rmses )"
   ]
  },
  {
   "cell_type": "code",
   "execution_count": null,
   "metadata": {},
   "outputs": [],
   "source": [
    "min(y_predict), max(y_predict)"
   ]
  },
  {
   "cell_type": "code",
   "execution_count": null,
   "metadata": {},
   "outputs": [],
   "source": [
    "### WRITE YOUR CODE HERE\n",
    "rmses = []\n",
    "alphas = [ 0.00000001, 0.000001, 0.0001,0.01,0.1]\n",
    "for alpha in alphas:\n",
    "    model = linear_model.ElasticNet(alpha=alpha)\n",
    "    model.fit(X_train, y_train)\n",
    "    y_predict = model.predict(X_test)\n",
    "    print( min(y_train), max(y_train), min(y_predict), max(y_predict) )\n",
    "    rmse = mean_squared_error(y_test,  y_predict, squared=False)\n",
    "    print(alpha,rmse)\n",
    "    rmses.append( rmse )\n",
    "    \n",
    "plt.plot( rmses )"
   ]
  },
  {
   "cell_type": "markdown",
   "id": "91b2b82d-9525-441f-be28-0e803072e131",
   "metadata": {},
   "source": [
    "### Summary\n"
   ]
  },
  {
   "cell_type": "markdown",
   "id": "c40eb683-0bfd-4a2c-9c2f-3823453c46ad",
   "metadata": {},
   "source": [
    "In this lab, you have built regression models to predict numerical course ratings using the embedding feature vectors extracted from neural networks. In the next lab, we can treat the prediction problem as a classification problem as rating only has two categorical values so classification can be a more natural problem statement.\n"
   ]
  },
  {
   "cell_type": "markdown",
   "id": "600b79a4-2aa0-437e-894f-9fc9aa0580cc",
   "metadata": {},
   "source": [
    "## Authors\n"
   ]
  },
  {
   "cell_type": "markdown",
   "id": "39980484-9643-433f-a0b4-3ea8d522d8a4",
   "metadata": {},
   "source": [
    "[Yan Luo](https://www.linkedin.com/in/yan-luo-96288783/?utm_medium=Exinfluencer&utm_source=Exinfluencer&utm_content=000026UJ&utm_term=10006555&utm_id=NA-SkillsNetwork-Channel-SkillsNetworkCoursesIBMML321ENSkillsNetwork817-2022-01-01)\n"
   ]
  },
  {
   "cell_type": "markdown",
   "id": "7755011b-2382-4ad2-972f-1e59a712f34a",
   "metadata": {},
   "source": [
    "### Other Contributors\n"
   ]
  },
  {
   "cell_type": "markdown",
   "id": "5c132092-59a3-4f50-bfd4-526258cb672c",
   "metadata": {},
   "source": [
    "## Change Log\n"
   ]
  },
  {
   "cell_type": "markdown",
   "id": "6aa7b7b7-73fb-4dc8-9386-d5ca3d381b49",
   "metadata": {},
   "source": [
    "|Date (YYYY-MM-DD)|Version|Changed By|Change Description|\n",
    "|-|-|-|-|\n",
    "|2021-10-25|1.0|Yan|Created the initial version|\n"
   ]
  },
  {
   "cell_type": "markdown",
   "id": "04062d00-c4db-41d9-b72b-0a33c520effa",
   "metadata": {},
   "source": [
    "Copyright © 2021 IBM Corporation. All rights reserved.\n"
   ]
  }
 ],
 "metadata": {
  "kernelspec": {
   "display_name": "Python 3 (ipykernel)",
   "language": "python",
   "name": "python3"
  },
  "language_info": {
   "codemirror_mode": {
    "name": "ipython",
    "version": 3
   },
   "file_extension": ".py",
   "mimetype": "text/x-python",
   "name": "python",
   "nbconvert_exporter": "python",
   "pygments_lexer": "ipython3",
   "version": "3.10.12"
  }
 },
 "nbformat": 4,
 "nbformat_minor": 4
}
