{
 "cells": [
  {
   "cell_type": "markdown",
   "id": "46df368c-ce34-4fd1-ad4c-551eb0690e43",
   "metadata": {},
   "source": [
    "<p style=\"text-align:center\">\n",
    "    <a href=\"https://skills.network/?utm_medium=Exinfluencer&utm_source=Exinfluencer&utm_content=000026UJ&utm_term=10006555&utm_id=NA-SkillsNetwork-Channel-SkillsNetworkCoursesIBMML321ENSkillsNetwork817-2022-01-01\" target=\"_blank\">\n",
    "    <img src=\"https://cf-courses-data.s3.us.cloud-object-storage.appdomain.cloud/assets/logos/SN_web_lightmode.png\" width=\"200\" alt=\"Skills Network Logo\"  />\n",
    "    </a>\n",
    "</p>\n"
   ]
  },
  {
   "cell_type": "markdown",
   "id": "e26ae7dc-30c1-4330-9396-c26c1a5eb5f9",
   "metadata": {},
   "source": [
    "# **Regression-based Rating Score Prediction using Embedding Features**\n"
   ]
  },
  {
   "cell_type": "markdown",
   "id": "318a3af6-126b-4ddc-92fc-179f2c4f497f",
   "metadata": {},
   "source": [
    "Estimated time needed: **45** minutes\n"
   ]
  },
  {
   "cell_type": "markdown",
   "id": "94d81798-9542-4d8c-9456-c387d81bd8fe",
   "metadata": {},
   "source": [
    "In our previous lab, you have trained a neural network to predict the user-item interactions while simultaneously extracting the user and item embedding features. In the neural network, extends this by using  two embedding vectors as an input into a Neural Network to predict the rating.\n"
   ]
  },
  {
   "cell_type": "markdown",
   "id": "fb14a781-d729-4f05-acc9-5ea26d4e1003",
   "metadata": {},
   "source": [
    "![](https://cf-courses-data.s3.us.cloud-object-storage.appdomain.cloud/IBM-ML321EN-SkillsNetwork/labs/module_4/images/rating_regression.png)\n"
   ]
  },
  {
   "cell_type": "markdown",
   "id": "be6a2d03-1b18-4280-8b05-4121853975db",
   "metadata": {},
   "source": [
    "\n",
    "Another way to make rating predictions is to use the embedding as an input to a neural network by aggregating them into a single feature vector as input data `X`. \n",
    "\n",
    "With the interaction label `Y` such as a rating score or an enrollment mode, we can build our other standalone predictive models to approximate the mapping from `X` to `Y`, as shown in the above flowchart.\n"
   ]
  },
  {
   "cell_type": "markdown",
   "id": "674eaebd-f9fb-4ae8-b360-c42920dd1b26",
   "metadata": {},
   "source": [
    "In this lab, you will be given the course interaction feature vectors as input data `X` and consider label `Y` as the numerical rating scores. As such, we turn the recommender system into a common regression task and you can apply what you have learned about regression modeling to predict the ratings.\n"
   ]
  },
  {
   "cell_type": "markdown",
   "id": "8667b5a0-6a18-4023-8d79-563fa5bc2ccd",
   "metadata": {},
   "source": [
    "## Objectives\n"
   ]
  },
  {
   "cell_type": "markdown",
   "id": "73f22e1e-86be-4140-b5f6-e45e98535205",
   "metadata": {},
   "source": [
    "After completing this lab you will be able to:\n"
   ]
  },
  {
   "cell_type": "markdown",
   "id": "b23e6e7d-6ce1-4afa-a43f-cbcecf81fc28",
   "metadata": {},
   "source": [
    "* Build regression models to predict ratings using the combined embedding vectors\n"
   ]
  },
  {
   "cell_type": "markdown",
   "id": "44aec5cf-9d36-4bda-86d4-d328b7679b83",
   "metadata": {},
   "source": [
    "----\n"
   ]
  },
  {
   "cell_type": "markdown",
   "id": "87d7f0b9-03ea-4788-aa0f-ff1acb0fb5ce",
   "metadata": {},
   "source": [
    "## Prepare and setup lab environment\n"
   ]
  },
  {
   "cell_type": "markdown",
   "id": "d29231cf-dc00-415e-8c8a-6ef9b7864354",
   "metadata": {},
   "source": [
    "First install and import required libraries:\n"
   ]
  },
  {
   "cell_type": "code",
   "execution_count": 1,
   "id": "c87016bb-3a84-4b7a-a495-06fae74a70c2",
   "metadata": {},
   "outputs": [],
   "source": [
    "#!pip install scikit-learn==1.0.2"
   ]
  },
  {
   "cell_type": "code",
   "execution_count": 2,
   "id": "19424a54-df23-4944-9f7a-79166eccc5fa",
   "metadata": {},
   "outputs": [],
   "source": [
    "# also set a random state\n",
    "rs = 123"
   ]
  },
  {
   "cell_type": "code",
   "execution_count": 3,
   "id": "3623f781-1884-4251-841e-89da26acc715",
   "metadata": {},
   "outputs": [],
   "source": [
    "import pandas as pd\n",
    "import matplotlib.pyplot as plt\n",
    "\n",
    "import numpy as np\n",
    "import random\n",
    "\n",
    "from sklearn.model_selection import train_test_split\n",
    "from sklearn import linear_model\n",
    "from sklearn.metrics import mean_squared_error\n"
   ]
  },
  {
   "cell_type": "markdown",
   "id": "e81f8e1e-6543-4247-872d-f89b10101abf",
   "metadata": {},
   "source": [
    "### Load datasets\n"
   ]
  },
  {
   "cell_type": "code",
   "execution_count": 4,
   "id": "50625791-c7ba-425a-8876-30a11eeda4c3",
   "metadata": {},
   "outputs": [],
   "source": [
    "rating_url = \"https://cf-courses-data.s3.us.cloud-object-storage.appdomain.cloud/IBM-ML321EN-SkillsNetwork/labs/datasets/ratings.csv\"\n",
    "rating_url = \"nice_data.csv\"\n",
    "user_emb_url = \"https://cf-courses-data.s3.us.cloud-object-storage.appdomain.cloud/IBM-ML321EN-SkillsNetwork/labs/datasets/user_embeddings.csv\"\n",
    "item_emb_url = \"https://cf-courses-data.s3.us.cloud-object-storage.appdomain.cloud/IBM-ML321EN-SkillsNetwork/labs/datasets/course_embeddings.csv\""
   ]
  },
  {
   "cell_type": "markdown",
   "id": "8ceb2b1b-6b47-4733-ba07-9da2f47d4c1d",
   "metadata": {},
   "source": [
    "The first dataset is the rating dataset that contains a user-item interaction matrix\n"
   ]
  },
  {
   "cell_type": "code",
   "execution_count": 12,
   "id": "0cad71a4-13e5-4b62-894b-fff732d73aed",
   "metadata": {},
   "outputs": [],
   "source": [
    "rating_df = pd.read_csv(rating_url)"
   ]
  },
  {
   "cell_type": "code",
   "execution_count": 13,
   "id": "d5775821-c2cc-40d6-8b7d-495afd9c0bbb",
   "metadata": {},
   "outputs": [
    {
     "name": "stderr",
     "output_type": "stream",
     "text": [
      "/tmp/ipykernel_9237/1460399333.py:1: SettingWithCopyWarning: \n",
      "A value is trying to be set on a copy of a slice from a DataFrame\n",
      "\n",
      "See the caveats in the documentation: https://pandas.pydata.org/pandas-docs/stable/user_guide/indexing.html#returning-a-view-versus-a-copy\n",
      "  rating_df[\"rating\"][ rating_df[\"rating\"] < 1  ] = 0\n",
      "/tmp/ipykernel_9237/1460399333.py:2: SettingWithCopyWarning: \n",
      "A value is trying to be set on a copy of a slice from a DataFrame\n",
      "\n",
      "See the caveats in the documentation: https://pandas.pydata.org/pandas-docs/stable/user_guide/indexing.html#returning-a-view-versus-a-copy\n",
      "  rating_df[\"rating\"][ rating_df[\"rating\"]  > 1 ] = 1\n"
     ]
    },
    {
     "data": {
      "text/html": [
       "<div>\n",
       "<style scoped>\n",
       "    .dataframe tbody tr th:only-of-type {\n",
       "        vertical-align: middle;\n",
       "    }\n",
       "\n",
       "    .dataframe tbody tr th {\n",
       "        vertical-align: top;\n",
       "    }\n",
       "\n",
       "    .dataframe thead th {\n",
       "        text-align: right;\n",
       "    }\n",
       "</style>\n",
       "<table border=\"1\" class=\"dataframe\">\n",
       "  <thead>\n",
       "    <tr style=\"text-align: right;\">\n",
       "      <th></th>\n",
       "      <th>user</th>\n",
       "      <th>item</th>\n",
       "      <th>rating</th>\n",
       "    </tr>\n",
       "  </thead>\n",
       "  <tbody>\n",
       "    <tr>\n",
       "      <th>0</th>\n",
       "      <td>2</td>\n",
       "      <td>BD0221EN</td>\n",
       "      <td>1.0</td>\n",
       "    </tr>\n",
       "    <tr>\n",
       "      <th>1</th>\n",
       "      <td>2</td>\n",
       "      <td>LB0107ENv1</td>\n",
       "      <td>1.0</td>\n",
       "    </tr>\n",
       "    <tr>\n",
       "      <th>2</th>\n",
       "      <td>2</td>\n",
       "      <td>SC0105EN</td>\n",
       "      <td>1.0</td>\n",
       "    </tr>\n",
       "    <tr>\n",
       "      <th>3</th>\n",
       "      <td>2</td>\n",
       "      <td>CO0201EN</td>\n",
       "      <td>0.0</td>\n",
       "    </tr>\n",
       "    <tr>\n",
       "      <th>4</th>\n",
       "      <td>2</td>\n",
       "      <td>BD0123EN</td>\n",
       "      <td>1.0</td>\n",
       "    </tr>\n",
       "  </tbody>\n",
       "</table>\n",
       "</div>"
      ],
      "text/plain": [
       "   user        item  rating\n",
       "0     2    BD0221EN     1.0\n",
       "1     2  LB0107ENv1     1.0\n",
       "2     2    SC0105EN     1.0\n",
       "3     2    CO0201EN     0.0\n",
       "4     2    BD0123EN     1.0"
      ]
     },
     "execution_count": 13,
     "metadata": {},
     "output_type": "execute_result"
    }
   ],
   "source": [
    "rating_df[\"rating\"][ rating_df[\"rating\"] < 1  ] = 0\n",
    "rating_df[\"rating\"][ rating_df[\"rating\"]  > 1 ] = 1\n",
    "rating_df.head()"
   ]
  },
  {
   "cell_type": "markdown",
   "id": "2a1d7915-d274-4aff-ae86-00b0c3c2cc17",
   "metadata": {},
   "source": [
    "As you can see from the above data, the user and item are just ids, let's substitute them by their embedding vectors:\n"
   ]
  },
  {
   "cell_type": "code",
   "execution_count": 14,
   "id": "3f0f5582-d8d6-4569-8324-2b24a560df10",
   "metadata": {},
   "outputs": [],
   "source": [
    "# Load user embeddings\n",
    "user_emb = pd.read_csv(user_emb_url)\n",
    "# Load item embeddings\n",
    "item_emb = pd.read_csv(item_emb_url)"
   ]
  },
  {
   "cell_type": "code",
   "execution_count": 15,
   "id": "e832e29b-9f79-4655-aacc-df810dd2d9f3",
   "metadata": {},
   "outputs": [
    {
     "data": {
      "text/html": [
       "<div>\n",
       "<style scoped>\n",
       "    .dataframe tbody tr th:only-of-type {\n",
       "        vertical-align: middle;\n",
       "    }\n",
       "\n",
       "    .dataframe tbody tr th {\n",
       "        vertical-align: top;\n",
       "    }\n",
       "\n",
       "    .dataframe thead th {\n",
       "        text-align: right;\n",
       "    }\n",
       "</style>\n",
       "<table border=\"1\" class=\"dataframe\">\n",
       "  <thead>\n",
       "    <tr style=\"text-align: right;\">\n",
       "      <th></th>\n",
       "      <th>user</th>\n",
       "      <th>UFeature0</th>\n",
       "      <th>UFeature1</th>\n",
       "      <th>UFeature2</th>\n",
       "      <th>UFeature3</th>\n",
       "      <th>UFeature4</th>\n",
       "      <th>UFeature5</th>\n",
       "      <th>UFeature6</th>\n",
       "      <th>UFeature7</th>\n",
       "      <th>UFeature8</th>\n",
       "      <th>UFeature9</th>\n",
       "      <th>UFeature10</th>\n",
       "      <th>UFeature11</th>\n",
       "      <th>UFeature12</th>\n",
       "      <th>UFeature13</th>\n",
       "      <th>UFeature14</th>\n",
       "      <th>UFeature15</th>\n",
       "    </tr>\n",
       "  </thead>\n",
       "  <tbody>\n",
       "    <tr>\n",
       "      <th>0</th>\n",
       "      <td>1889878</td>\n",
       "      <td>0.080721</td>\n",
       "      <td>-0.129561</td>\n",
       "      <td>0.087998</td>\n",
       "      <td>0.030231</td>\n",
       "      <td>0.082691</td>\n",
       "      <td>-0.004176</td>\n",
       "      <td>-0.003480</td>\n",
       "      <td>0.091464</td>\n",
       "      <td>-0.040247</td>\n",
       "      <td>0.018958</td>\n",
       "      <td>-0.153328</td>\n",
       "      <td>-0.090143</td>\n",
       "      <td>0.082830</td>\n",
       "      <td>-0.058721</td>\n",
       "      <td>0.057929</td>\n",
       "      <td>-0.001472</td>\n",
       "    </tr>\n",
       "    <tr>\n",
       "      <th>1</th>\n",
       "      <td>1342067</td>\n",
       "      <td>0.068047</td>\n",
       "      <td>-0.112781</td>\n",
       "      <td>0.045208</td>\n",
       "      <td>-0.007570</td>\n",
       "      <td>-0.038382</td>\n",
       "      <td>0.068037</td>\n",
       "      <td>0.114949</td>\n",
       "      <td>0.104128</td>\n",
       "      <td>-0.034401</td>\n",
       "      <td>0.004011</td>\n",
       "      <td>0.064832</td>\n",
       "      <td>0.165857</td>\n",
       "      <td>-0.004384</td>\n",
       "      <td>0.053257</td>\n",
       "      <td>0.014308</td>\n",
       "      <td>0.056684</td>\n",
       "    </tr>\n",
       "    <tr>\n",
       "      <th>2</th>\n",
       "      <td>1990814</td>\n",
       "      <td>0.124623</td>\n",
       "      <td>0.012910</td>\n",
       "      <td>-0.072627</td>\n",
       "      <td>0.049935</td>\n",
       "      <td>0.020158</td>\n",
       "      <td>0.133306</td>\n",
       "      <td>-0.035366</td>\n",
       "      <td>-0.156026</td>\n",
       "      <td>0.039269</td>\n",
       "      <td>0.042195</td>\n",
       "      <td>0.014695</td>\n",
       "      <td>-0.115989</td>\n",
       "      <td>0.031158</td>\n",
       "      <td>0.102021</td>\n",
       "      <td>-0.020601</td>\n",
       "      <td>0.116488</td>\n",
       "    </tr>\n",
       "    <tr>\n",
       "      <th>3</th>\n",
       "      <td>380098</td>\n",
       "      <td>-0.034870</td>\n",
       "      <td>0.000715</td>\n",
       "      <td>0.077406</td>\n",
       "      <td>0.070311</td>\n",
       "      <td>-0.043007</td>\n",
       "      <td>-0.035446</td>\n",
       "      <td>0.032846</td>\n",
       "      <td>-0.060944</td>\n",
       "      <td>0.112384</td>\n",
       "      <td>0.002114</td>\n",
       "      <td>0.090660</td>\n",
       "      <td>-0.068545</td>\n",
       "      <td>0.008967</td>\n",
       "      <td>0.063962</td>\n",
       "      <td>0.052347</td>\n",
       "      <td>0.018072</td>\n",
       "    </tr>\n",
       "    <tr>\n",
       "      <th>4</th>\n",
       "      <td>779563</td>\n",
       "      <td>0.106414</td>\n",
       "      <td>-0.001887</td>\n",
       "      <td>-0.017211</td>\n",
       "      <td>-0.042277</td>\n",
       "      <td>-0.074953</td>\n",
       "      <td>-0.056732</td>\n",
       "      <td>0.074610</td>\n",
       "      <td>-0.019367</td>\n",
       "      <td>-0.031341</td>\n",
       "      <td>0.064896</td>\n",
       "      <td>-0.048158</td>\n",
       "      <td>-0.047309</td>\n",
       "      <td>-0.007544</td>\n",
       "      <td>0.010474</td>\n",
       "      <td>-0.032287</td>\n",
       "      <td>-0.083983</td>\n",
       "    </tr>\n",
       "  </tbody>\n",
       "</table>\n",
       "</div>"
      ],
      "text/plain": [
       "      user  UFeature0  UFeature1  UFeature2  UFeature3  UFeature4  UFeature5  \\\n",
       "0  1889878   0.080721  -0.129561   0.087998   0.030231   0.082691  -0.004176   \n",
       "1  1342067   0.068047  -0.112781   0.045208  -0.007570  -0.038382   0.068037   \n",
       "2  1990814   0.124623   0.012910  -0.072627   0.049935   0.020158   0.133306   \n",
       "3   380098  -0.034870   0.000715   0.077406   0.070311  -0.043007  -0.035446   \n",
       "4   779563   0.106414  -0.001887  -0.017211  -0.042277  -0.074953  -0.056732   \n",
       "\n",
       "   UFeature6  UFeature7  UFeature8  UFeature9  UFeature10  UFeature11  \\\n",
       "0  -0.003480   0.091464  -0.040247   0.018958   -0.153328   -0.090143   \n",
       "1   0.114949   0.104128  -0.034401   0.004011    0.064832    0.165857   \n",
       "2  -0.035366  -0.156026   0.039269   0.042195    0.014695   -0.115989   \n",
       "3   0.032846  -0.060944   0.112384   0.002114    0.090660   -0.068545   \n",
       "4   0.074610  -0.019367  -0.031341   0.064896   -0.048158   -0.047309   \n",
       "\n",
       "   UFeature12  UFeature13  UFeature14  UFeature15  \n",
       "0    0.082830   -0.058721    0.057929   -0.001472  \n",
       "1   -0.004384    0.053257    0.014308    0.056684  \n",
       "2    0.031158    0.102021   -0.020601    0.116488  \n",
       "3    0.008967    0.063962    0.052347    0.018072  \n",
       "4   -0.007544    0.010474   -0.032287   -0.083983  "
      ]
     },
     "execution_count": 15,
     "metadata": {},
     "output_type": "execute_result"
    }
   ],
   "source": [
    "user_emb.head()"
   ]
  },
  {
   "cell_type": "code",
   "execution_count": 16,
   "id": "cb3335fd-c7db-44a5-bc6e-63ff213827af",
   "metadata": {},
   "outputs": [
    {
     "data": {
      "text/html": [
       "<div>\n",
       "<style scoped>\n",
       "    .dataframe tbody tr th:only-of-type {\n",
       "        vertical-align: middle;\n",
       "    }\n",
       "\n",
       "    .dataframe tbody tr th {\n",
       "        vertical-align: top;\n",
       "    }\n",
       "\n",
       "    .dataframe thead th {\n",
       "        text-align: right;\n",
       "    }\n",
       "</style>\n",
       "<table border=\"1\" class=\"dataframe\">\n",
       "  <thead>\n",
       "    <tr style=\"text-align: right;\">\n",
       "      <th></th>\n",
       "      <th>item</th>\n",
       "      <th>CFeature0</th>\n",
       "      <th>CFeature1</th>\n",
       "      <th>CFeature2</th>\n",
       "      <th>CFeature3</th>\n",
       "      <th>CFeature4</th>\n",
       "      <th>CFeature5</th>\n",
       "      <th>CFeature6</th>\n",
       "      <th>CFeature7</th>\n",
       "      <th>CFeature8</th>\n",
       "      <th>CFeature9</th>\n",
       "      <th>CFeature10</th>\n",
       "      <th>CFeature11</th>\n",
       "      <th>CFeature12</th>\n",
       "      <th>CFeature13</th>\n",
       "      <th>CFeature14</th>\n",
       "      <th>CFeature15</th>\n",
       "    </tr>\n",
       "  </thead>\n",
       "  <tbody>\n",
       "    <tr>\n",
       "      <th>0</th>\n",
       "      <td>CC0101EN</td>\n",
       "      <td>0.009657</td>\n",
       "      <td>-0.005238</td>\n",
       "      <td>-0.004098</td>\n",
       "      <td>0.016303</td>\n",
       "      <td>-0.005274</td>\n",
       "      <td>-0.000361</td>\n",
       "      <td>-0.015081</td>\n",
       "      <td>-0.012229</td>\n",
       "      <td>0.015686</td>\n",
       "      <td>0.008401</td>\n",
       "      <td>-0.035495</td>\n",
       "      <td>0.009381</td>\n",
       "      <td>-0.032560</td>\n",
       "      <td>-0.007292</td>\n",
       "      <td>0.000966</td>\n",
       "      <td>-0.006218</td>\n",
       "    </tr>\n",
       "    <tr>\n",
       "      <th>1</th>\n",
       "      <td>CL0101EN</td>\n",
       "      <td>-0.008611</td>\n",
       "      <td>0.028041</td>\n",
       "      <td>0.021899</td>\n",
       "      <td>-0.001465</td>\n",
       "      <td>0.006900</td>\n",
       "      <td>-0.017981</td>\n",
       "      <td>0.010899</td>\n",
       "      <td>-0.037610</td>\n",
       "      <td>-0.019397</td>\n",
       "      <td>-0.025682</td>\n",
       "      <td>-0.000620</td>\n",
       "      <td>0.038803</td>\n",
       "      <td>0.000196</td>\n",
       "      <td>-0.045343</td>\n",
       "      <td>0.012863</td>\n",
       "      <td>0.019429</td>\n",
       "    </tr>\n",
       "    <tr>\n",
       "      <th>2</th>\n",
       "      <td>ML0120ENv3</td>\n",
       "      <td>0.027439</td>\n",
       "      <td>-0.027649</td>\n",
       "      <td>-0.007484</td>\n",
       "      <td>-0.059451</td>\n",
       "      <td>0.003972</td>\n",
       "      <td>0.020496</td>\n",
       "      <td>-0.012695</td>\n",
       "      <td>0.036138</td>\n",
       "      <td>0.019965</td>\n",
       "      <td>0.018686</td>\n",
       "      <td>-0.010450</td>\n",
       "      <td>-0.050011</td>\n",
       "      <td>0.013845</td>\n",
       "      <td>-0.044454</td>\n",
       "      <td>-0.001480</td>\n",
       "      <td>-0.007559</td>\n",
       "    </tr>\n",
       "    <tr>\n",
       "      <th>3</th>\n",
       "      <td>BD0211EN</td>\n",
       "      <td>0.020163</td>\n",
       "      <td>-0.011972</td>\n",
       "      <td>-0.003714</td>\n",
       "      <td>-0.015548</td>\n",
       "      <td>-0.007540</td>\n",
       "      <td>0.014847</td>\n",
       "      <td>-0.005700</td>\n",
       "      <td>-0.006068</td>\n",
       "      <td>-0.005792</td>\n",
       "      <td>-0.023036</td>\n",
       "      <td>0.015999</td>\n",
       "      <td>-0.023480</td>\n",
       "      <td>0.015469</td>\n",
       "      <td>0.022221</td>\n",
       "      <td>-0.023115</td>\n",
       "      <td>-0.001785</td>\n",
       "    </tr>\n",
       "    <tr>\n",
       "      <th>4</th>\n",
       "      <td>DS0101EN</td>\n",
       "      <td>0.006399</td>\n",
       "      <td>0.000492</td>\n",
       "      <td>0.005640</td>\n",
       "      <td>0.009639</td>\n",
       "      <td>-0.005487</td>\n",
       "      <td>-0.000590</td>\n",
       "      <td>-0.010015</td>\n",
       "      <td>-0.001514</td>\n",
       "      <td>-0.017598</td>\n",
       "      <td>0.003590</td>\n",
       "      <td>0.016799</td>\n",
       "      <td>0.002732</td>\n",
       "      <td>0.005162</td>\n",
       "      <td>0.015031</td>\n",
       "      <td>-0.000877</td>\n",
       "      <td>-0.021283</td>\n",
       "    </tr>\n",
       "  </tbody>\n",
       "</table>\n",
       "</div>"
      ],
      "text/plain": [
       "         item  CFeature0  CFeature1  CFeature2  CFeature3  CFeature4  \\\n",
       "0    CC0101EN   0.009657  -0.005238  -0.004098   0.016303  -0.005274   \n",
       "1    CL0101EN  -0.008611   0.028041   0.021899  -0.001465   0.006900   \n",
       "2  ML0120ENv3   0.027439  -0.027649  -0.007484  -0.059451   0.003972   \n",
       "3    BD0211EN   0.020163  -0.011972  -0.003714  -0.015548  -0.007540   \n",
       "4    DS0101EN   0.006399   0.000492   0.005640   0.009639  -0.005487   \n",
       "\n",
       "   CFeature5  CFeature6  CFeature7  CFeature8  CFeature9  CFeature10  \\\n",
       "0  -0.000361  -0.015081  -0.012229   0.015686   0.008401   -0.035495   \n",
       "1  -0.017981   0.010899  -0.037610  -0.019397  -0.025682   -0.000620   \n",
       "2   0.020496  -0.012695   0.036138   0.019965   0.018686   -0.010450   \n",
       "3   0.014847  -0.005700  -0.006068  -0.005792  -0.023036    0.015999   \n",
       "4  -0.000590  -0.010015  -0.001514  -0.017598   0.003590    0.016799   \n",
       "\n",
       "   CFeature11  CFeature12  CFeature13  CFeature14  CFeature15  \n",
       "0    0.009381   -0.032560   -0.007292    0.000966   -0.006218  \n",
       "1    0.038803    0.000196   -0.045343    0.012863    0.019429  \n",
       "2   -0.050011    0.013845   -0.044454   -0.001480   -0.007559  \n",
       "3   -0.023480    0.015469    0.022221   -0.023115   -0.001785  \n",
       "4    0.002732    0.005162    0.015031   -0.000877   -0.021283  "
      ]
     },
     "execution_count": 16,
     "metadata": {},
     "output_type": "execute_result"
    }
   ],
   "source": [
    "item_emb.head()"
   ]
  },
  {
   "cell_type": "code",
   "execution_count": 17,
   "id": "9495d211-14ca-4788-8540-8eb0db16d1ad",
   "metadata": {},
   "outputs": [],
   "source": [
    "# Merge user embedding features\n",
    "user_emb_merged = pd.merge(rating_df, user_emb, how='left', left_on='user', right_on='user').fillna(0)\n",
    "# Merge course embedding features\n",
    "merged_df = pd.merge(user_emb_merged, item_emb, how='left', left_on='item', right_on='item').fillna(0)"
   ]
  },
  {
   "cell_type": "code",
   "execution_count": 18,
   "id": "80919644-94d3-4df5-b88a-f230621ebbf9",
   "metadata": {},
   "outputs": [
    {
     "data": {
      "text/html": [
       "<div>\n",
       "<style scoped>\n",
       "    .dataframe tbody tr th:only-of-type {\n",
       "        vertical-align: middle;\n",
       "    }\n",
       "\n",
       "    .dataframe tbody tr th {\n",
       "        vertical-align: top;\n",
       "    }\n",
       "\n",
       "    .dataframe thead th {\n",
       "        text-align: right;\n",
       "    }\n",
       "</style>\n",
       "<table border=\"1\" class=\"dataframe\">\n",
       "  <thead>\n",
       "    <tr style=\"text-align: right;\">\n",
       "      <th></th>\n",
       "      <th>user</th>\n",
       "      <th>item</th>\n",
       "      <th>rating</th>\n",
       "      <th>UFeature0</th>\n",
       "      <th>UFeature1</th>\n",
       "      <th>UFeature2</th>\n",
       "      <th>UFeature3</th>\n",
       "      <th>UFeature4</th>\n",
       "      <th>UFeature5</th>\n",
       "      <th>UFeature6</th>\n",
       "      <th>...</th>\n",
       "      <th>CFeature6</th>\n",
       "      <th>CFeature7</th>\n",
       "      <th>CFeature8</th>\n",
       "      <th>CFeature9</th>\n",
       "      <th>CFeature10</th>\n",
       "      <th>CFeature11</th>\n",
       "      <th>CFeature12</th>\n",
       "      <th>CFeature13</th>\n",
       "      <th>CFeature14</th>\n",
       "      <th>CFeature15</th>\n",
       "    </tr>\n",
       "  </thead>\n",
       "  <tbody>\n",
       "    <tr>\n",
       "      <th>0</th>\n",
       "      <td>2</td>\n",
       "      <td>BD0221EN</td>\n",
       "      <td>1.0</td>\n",
       "      <td>0.02163</td>\n",
       "      <td>0.025561</td>\n",
       "      <td>-0.116771</td>\n",
       "      <td>-0.026099</td>\n",
       "      <td>0.08159</td>\n",
       "      <td>0.118796</td>\n",
       "      <td>-0.110325</td>\n",
       "      <td>...</td>\n",
       "      <td>0.001127</td>\n",
       "      <td>-0.042721</td>\n",
       "      <td>-0.020004</td>\n",
       "      <td>-0.004160</td>\n",
       "      <td>-0.022699</td>\n",
       "      <td>-0.054916</td>\n",
       "      <td>-0.011230</td>\n",
       "      <td>-0.037942</td>\n",
       "      <td>-0.016477</td>\n",
       "      <td>0.016040</td>\n",
       "    </tr>\n",
       "    <tr>\n",
       "      <th>1</th>\n",
       "      <td>2</td>\n",
       "      <td>LB0107ENv1</td>\n",
       "      <td>1.0</td>\n",
       "      <td>0.02163</td>\n",
       "      <td>0.025561</td>\n",
       "      <td>-0.116771</td>\n",
       "      <td>-0.026099</td>\n",
       "      <td>0.08159</td>\n",
       "      <td>0.118796</td>\n",
       "      <td>-0.110325</td>\n",
       "      <td>...</td>\n",
       "      <td>0.026085</td>\n",
       "      <td>0.023909</td>\n",
       "      <td>-0.015020</td>\n",
       "      <td>0.018504</td>\n",
       "      <td>-0.033117</td>\n",
       "      <td>0.041930</td>\n",
       "      <td>-0.026071</td>\n",
       "      <td>0.011439</td>\n",
       "      <td>0.015818</td>\n",
       "      <td>-0.013199</td>\n",
       "    </tr>\n",
       "    <tr>\n",
       "      <th>2</th>\n",
       "      <td>2</td>\n",
       "      <td>SC0105EN</td>\n",
       "      <td>1.0</td>\n",
       "      <td>0.02163</td>\n",
       "      <td>0.025561</td>\n",
       "      <td>-0.116771</td>\n",
       "      <td>-0.026099</td>\n",
       "      <td>0.08159</td>\n",
       "      <td>0.118796</td>\n",
       "      <td>-0.110325</td>\n",
       "      <td>...</td>\n",
       "      <td>0.024451</td>\n",
       "      <td>-0.021855</td>\n",
       "      <td>0.076256</td>\n",
       "      <td>-0.004345</td>\n",
       "      <td>-0.012459</td>\n",
       "      <td>-0.015200</td>\n",
       "      <td>0.016222</td>\n",
       "      <td>0.002568</td>\n",
       "      <td>0.004560</td>\n",
       "      <td>0.035618</td>\n",
       "    </tr>\n",
       "    <tr>\n",
       "      <th>3</th>\n",
       "      <td>2</td>\n",
       "      <td>CO0201EN</td>\n",
       "      <td>0.0</td>\n",
       "      <td>0.02163</td>\n",
       "      <td>0.025561</td>\n",
       "      <td>-0.116771</td>\n",
       "      <td>-0.026099</td>\n",
       "      <td>0.08159</td>\n",
       "      <td>0.118796</td>\n",
       "      <td>-0.110325</td>\n",
       "      <td>...</td>\n",
       "      <td>-0.003080</td>\n",
       "      <td>0.023442</td>\n",
       "      <td>-0.018411</td>\n",
       "      <td>0.005600</td>\n",
       "      <td>-0.018589</td>\n",
       "      <td>-0.007688</td>\n",
       "      <td>-0.012450</td>\n",
       "      <td>-0.033382</td>\n",
       "      <td>0.017794</td>\n",
       "      <td>-0.000448</td>\n",
       "    </tr>\n",
       "    <tr>\n",
       "      <th>4</th>\n",
       "      <td>2</td>\n",
       "      <td>BD0123EN</td>\n",
       "      <td>1.0</td>\n",
       "      <td>0.02163</td>\n",
       "      <td>0.025561</td>\n",
       "      <td>-0.116771</td>\n",
       "      <td>-0.026099</td>\n",
       "      <td>0.08159</td>\n",
       "      <td>0.118796</td>\n",
       "      <td>-0.110325</td>\n",
       "      <td>...</td>\n",
       "      <td>0.006007</td>\n",
       "      <td>0.006638</td>\n",
       "      <td>-0.002519</td>\n",
       "      <td>0.016422</td>\n",
       "      <td>-0.054736</td>\n",
       "      <td>0.015872</td>\n",
       "      <td>0.015215</td>\n",
       "      <td>-0.012534</td>\n",
       "      <td>-0.009105</td>\n",
       "      <td>-0.017294</td>\n",
       "    </tr>\n",
       "  </tbody>\n",
       "</table>\n",
       "<p>5 rows × 35 columns</p>\n",
       "</div>"
      ],
      "text/plain": [
       "   user        item  rating  UFeature0  UFeature1  UFeature2  UFeature3  \\\n",
       "0     2    BD0221EN     1.0    0.02163   0.025561  -0.116771  -0.026099   \n",
       "1     2  LB0107ENv1     1.0    0.02163   0.025561  -0.116771  -0.026099   \n",
       "2     2    SC0105EN     1.0    0.02163   0.025561  -0.116771  -0.026099   \n",
       "3     2    CO0201EN     0.0    0.02163   0.025561  -0.116771  -0.026099   \n",
       "4     2    BD0123EN     1.0    0.02163   0.025561  -0.116771  -0.026099   \n",
       "\n",
       "   UFeature4  UFeature5  UFeature6  ...  CFeature6  CFeature7  CFeature8  \\\n",
       "0    0.08159   0.118796  -0.110325  ...   0.001127  -0.042721  -0.020004   \n",
       "1    0.08159   0.118796  -0.110325  ...   0.026085   0.023909  -0.015020   \n",
       "2    0.08159   0.118796  -0.110325  ...   0.024451  -0.021855   0.076256   \n",
       "3    0.08159   0.118796  -0.110325  ...  -0.003080   0.023442  -0.018411   \n",
       "4    0.08159   0.118796  -0.110325  ...   0.006007   0.006638  -0.002519   \n",
       "\n",
       "   CFeature9  CFeature10  CFeature11  CFeature12  CFeature13  CFeature14  \\\n",
       "0  -0.004160   -0.022699   -0.054916   -0.011230   -0.037942   -0.016477   \n",
       "1   0.018504   -0.033117    0.041930   -0.026071    0.011439    0.015818   \n",
       "2  -0.004345   -0.012459   -0.015200    0.016222    0.002568    0.004560   \n",
       "3   0.005600   -0.018589   -0.007688   -0.012450   -0.033382    0.017794   \n",
       "4   0.016422   -0.054736    0.015872    0.015215   -0.012534   -0.009105   \n",
       "\n",
       "   CFeature15  \n",
       "0    0.016040  \n",
       "1   -0.013199  \n",
       "2    0.035618  \n",
       "3   -0.000448  \n",
       "4   -0.017294  \n",
       "\n",
       "[5 rows x 35 columns]"
      ]
     },
     "execution_count": 18,
     "metadata": {},
     "output_type": "execute_result"
    }
   ],
   "source": [
    "merged_df.head()"
   ]
  },
  {
   "cell_type": "markdown",
   "id": "fc2f1f0b-a19f-4c20-a8aa-31f72b669081",
   "metadata": {},
   "source": [
    "Next, we can combine the user features (the column labels starting with `UFeature` and item features (the column labels starting with `CFeature`. In machine learning, there are many ways to aggregate two feature vectors such as element-wise add, multiply, max/min, average, etc. Here we simply add the two sets of feature columns:\n"
   ]
  },
  {
   "cell_type": "code",
   "execution_count": 19,
   "id": "9853d1c2-3b8d-4325-ad7b-79d9a4e31f39",
   "metadata": {},
   "outputs": [
    {
     "data": {
      "text/html": [
       "<div>\n",
       "<style scoped>\n",
       "    .dataframe tbody tr th:only-of-type {\n",
       "        vertical-align: middle;\n",
       "    }\n",
       "\n",
       "    .dataframe tbody tr th {\n",
       "        vertical-align: top;\n",
       "    }\n",
       "\n",
       "    .dataframe thead th {\n",
       "        text-align: right;\n",
       "    }\n",
       "</style>\n",
       "<table border=\"1\" class=\"dataframe\">\n",
       "  <thead>\n",
       "    <tr style=\"text-align: right;\">\n",
       "      <th></th>\n",
       "      <th>Feature0</th>\n",
       "      <th>Feature1</th>\n",
       "      <th>Feature2</th>\n",
       "      <th>Feature3</th>\n",
       "      <th>Feature4</th>\n",
       "      <th>Feature5</th>\n",
       "      <th>Feature6</th>\n",
       "      <th>Feature7</th>\n",
       "      <th>Feature8</th>\n",
       "      <th>Feature9</th>\n",
       "      <th>Feature10</th>\n",
       "      <th>Feature11</th>\n",
       "      <th>Feature12</th>\n",
       "      <th>Feature13</th>\n",
       "      <th>Feature14</th>\n",
       "      <th>Feature15</th>\n",
       "      <th>rating</th>\n",
       "    </tr>\n",
       "  </thead>\n",
       "  <tbody>\n",
       "    <tr>\n",
       "      <th>0</th>\n",
       "      <td>0.036741</td>\n",
       "      <td>-0.018893</td>\n",
       "      <td>-0.108316</td>\n",
       "      <td>-0.035448</td>\n",
       "      <td>0.116518</td>\n",
       "      <td>0.137294</td>\n",
       "      <td>-0.109198</td>\n",
       "      <td>0.030428</td>\n",
       "      <td>0.036904</td>\n",
       "      <td>0.002666</td>\n",
       "      <td>0.026241</td>\n",
       "      <td>-0.109469</td>\n",
       "      <td>-0.027370</td>\n",
       "      <td>-0.095184</td>\n",
       "      <td>0.005960</td>\n",
       "      <td>0.026962</td>\n",
       "      <td>1.0</td>\n",
       "    </tr>\n",
       "    <tr>\n",
       "      <th>1</th>\n",
       "      <td>0.064088</td>\n",
       "      <td>0.003396</td>\n",
       "      <td>-0.095919</td>\n",
       "      <td>-0.033637</td>\n",
       "      <td>0.098566</td>\n",
       "      <td>0.118971</td>\n",
       "      <td>-0.084239</td>\n",
       "      <td>0.097058</td>\n",
       "      <td>0.041888</td>\n",
       "      <td>0.025329</td>\n",
       "      <td>0.015823</td>\n",
       "      <td>-0.012622</td>\n",
       "      <td>-0.042212</td>\n",
       "      <td>-0.045803</td>\n",
       "      <td>0.038255</td>\n",
       "      <td>-0.002277</td>\n",
       "      <td>1.0</td>\n",
       "    </tr>\n",
       "    <tr>\n",
       "      <th>2</th>\n",
       "      <td>-0.026352</td>\n",
       "      <td>-0.004874</td>\n",
       "      <td>-0.118413</td>\n",
       "      <td>-0.007490</td>\n",
       "      <td>0.069347</td>\n",
       "      <td>0.099571</td>\n",
       "      <td>-0.085874</td>\n",
       "      <td>0.051294</td>\n",
       "      <td>0.133164</td>\n",
       "      <td>0.002481</td>\n",
       "      <td>0.036481</td>\n",
       "      <td>-0.069753</td>\n",
       "      <td>0.000082</td>\n",
       "      <td>-0.054675</td>\n",
       "      <td>0.026997</td>\n",
       "      <td>0.046540</td>\n",
       "      <td>1.0</td>\n",
       "    </tr>\n",
       "    <tr>\n",
       "      <th>3</th>\n",
       "      <td>-0.011094</td>\n",
       "      <td>0.031639</td>\n",
       "      <td>-0.124576</td>\n",
       "      <td>-0.016366</td>\n",
       "      <td>0.077938</td>\n",
       "      <td>0.092492</td>\n",
       "      <td>-0.113405</td>\n",
       "      <td>0.096591</td>\n",
       "      <td>0.038497</td>\n",
       "      <td>0.012425</td>\n",
       "      <td>0.030351</td>\n",
       "      <td>-0.062240</td>\n",
       "      <td>-0.028590</td>\n",
       "      <td>-0.090624</td>\n",
       "      <td>0.040231</td>\n",
       "      <td>0.010474</td>\n",
       "      <td>0.0</td>\n",
       "    </tr>\n",
       "    <tr>\n",
       "      <th>4</th>\n",
       "      <td>0.044412</td>\n",
       "      <td>0.017202</td>\n",
       "      <td>-0.119051</td>\n",
       "      <td>0.001207</td>\n",
       "      <td>0.084862</td>\n",
       "      <td>0.118005</td>\n",
       "      <td>-0.104318</td>\n",
       "      <td>0.079788</td>\n",
       "      <td>0.054389</td>\n",
       "      <td>0.023247</td>\n",
       "      <td>-0.005796</td>\n",
       "      <td>-0.038680</td>\n",
       "      <td>-0.000925</td>\n",
       "      <td>-0.069776</td>\n",
       "      <td>0.013332</td>\n",
       "      <td>-0.006372</td>\n",
       "      <td>1.0</td>\n",
       "    </tr>\n",
       "  </tbody>\n",
       "</table>\n",
       "</div>"
      ],
      "text/plain": [
       "   Feature0  Feature1  Feature2  Feature3  Feature4  Feature5  Feature6  \\\n",
       "0  0.036741 -0.018893 -0.108316 -0.035448  0.116518  0.137294 -0.109198   \n",
       "1  0.064088  0.003396 -0.095919 -0.033637  0.098566  0.118971 -0.084239   \n",
       "2 -0.026352 -0.004874 -0.118413 -0.007490  0.069347  0.099571 -0.085874   \n",
       "3 -0.011094  0.031639 -0.124576 -0.016366  0.077938  0.092492 -0.113405   \n",
       "4  0.044412  0.017202 -0.119051  0.001207  0.084862  0.118005 -0.104318   \n",
       "\n",
       "   Feature7  Feature8  Feature9  Feature10  Feature11  Feature12  Feature13  \\\n",
       "0  0.030428  0.036904  0.002666   0.026241  -0.109469  -0.027370  -0.095184   \n",
       "1  0.097058  0.041888  0.025329   0.015823  -0.012622  -0.042212  -0.045803   \n",
       "2  0.051294  0.133164  0.002481   0.036481  -0.069753   0.000082  -0.054675   \n",
       "3  0.096591  0.038497  0.012425   0.030351  -0.062240  -0.028590  -0.090624   \n",
       "4  0.079788  0.054389  0.023247  -0.005796  -0.038680  -0.000925  -0.069776   \n",
       "\n",
       "   Feature14  Feature15  rating  \n",
       "0   0.005960   0.026962     1.0  \n",
       "1   0.038255  -0.002277     1.0  \n",
       "2   0.026997   0.046540     1.0  \n",
       "3   0.040231   0.010474     0.0  \n",
       "4   0.013332  -0.006372     1.0  "
      ]
     },
     "execution_count": 19,
     "metadata": {},
     "output_type": "execute_result"
    }
   ],
   "source": [
    "u_feautres = [f\"UFeature{i}\" for i in range(16)]\n",
    "c_features = [f\"CFeature{i}\" for i in range(16)]\n",
    "\n",
    "user_embeddings = merged_df[u_feautres]\n",
    "course_embeddings = merged_df[c_features]\n",
    "ratings = merged_df['rating']\n",
    "\n",
    "# Aggregate the two feature columns using element-wise add\n",
    "regression_dataset = user_embeddings + course_embeddings.values\n",
    "regression_dataset.columns = [f\"Feature{i}\" for i in range(16)]\n",
    "regression_dataset['rating'] = ratings\n",
    "regression_dataset.head()"
   ]
  },
  {
   "cell_type": "markdown",
   "id": "2e14398e-a11e-4b52-9823-83430e46ef37",
   "metadata": {},
   "source": [
    "By now, we have built the input dataset `X` and the output vector `y`:\n"
   ]
  },
  {
   "cell_type": "code",
   "execution_count": 20,
   "id": "0592dd26-8f45-430c-a181-1c64954dd0b5",
   "metadata": {},
   "outputs": [
    {
     "name": "stdout",
     "output_type": "stream",
     "text": [
      "Input data shape: (533306, 16), Output data shape: (533306,)\n"
     ]
    }
   ],
   "source": [
    "X = regression_dataset.iloc[:, :-1]\n",
    "y = regression_dataset.iloc[:, -1]\n",
    "print(f\"Input data shape: {X.shape}, Output data shape: {y.shape}\")"
   ]
  },
  {
   "cell_type": "markdown",
   "id": "8e5a53a2-c035-4b26-8b03-1596d6a8ebf3",
   "metadata": {},
   "source": [
    "## TASK: Perform regression on the interaction dataset\n"
   ]
  },
  {
   "cell_type": "markdown",
   "id": "526e28fb-56a3-4d2b-b50b-ba0bdf80b85d",
   "metadata": {},
   "source": [
    "Now our input data `X` and output `y` are ready, let's build regression models to map X to y and predict ratings. \n"
   ]
  },
  {
   "cell_type": "markdown",
   "id": "4a2e7980-652c-47d4-9873-713fbd8802d6",
   "metadata": {},
   "source": [
    "y.unique()\n"
   ]
  },
  {
   "cell_type": "markdown",
   "id": "5467795b-c9b6-40ae-a753-27ba33a12237",
   "metadata": {},
   "source": [
    "In an online course system, we may consider the `Completion` mode to be `larger` than the `Audit` mode as a learner needs to put more efforts towards completion.  Now if we treat it as a regression problem,  we would expect the regression model to output ratings ranging from 2.0 to 3.0. To interpret regression model output, we can treat values closer to 2.0 as `Audit` and values closer to 3.0 as `Completion`.\n"
   ]
  },
  {
   "cell_type": "markdown",
   "id": "4d5de809-93a1-4673-bf11-b9c97b1a8213",
   "metadata": {},
   "source": [
    "You may use `sklearn` to train and evaluate various regression models.\n"
   ]
  },
  {
   "cell_type": "markdown",
   "id": "bf19a016-9324-418a-b29a-92e52dc4be66",
   "metadata": {},
   "source": [
    "_TODO: First split dataset into training and testing datasets_\n"
   ]
  },
  {
   "cell_type": "code",
   "execution_count": 21,
   "id": "9926f131-863c-4cd5-8f6c-6730b861d8c6",
   "metadata": {},
   "outputs": [],
   "source": [
    "### WRITE YOUR CODE HERE\n",
    "from sklearn.preprocessing import StandardScaler\n",
    "\n",
    "#scaler = StandardScaler\n",
    "#X,y = scaler.fit_transform(X,y)\n",
    "#y = y -2\n",
    "\n",
    "X_train, X_test, y_train, y_test = train_test_split(X,y,random_state=rs,test_size=0.3)"
   ]
  },
  {
   "cell_type": "code",
   "execution_count": 22,
   "metadata": {},
   "outputs": [
    {
     "data": {
      "text/html": [
       "<div>\n",
       "<style scoped>\n",
       "    .dataframe tbody tr th:only-of-type {\n",
       "        vertical-align: middle;\n",
       "    }\n",
       "\n",
       "    .dataframe tbody tr th {\n",
       "        vertical-align: top;\n",
       "    }\n",
       "\n",
       "    .dataframe thead th {\n",
       "        text-align: right;\n",
       "    }\n",
       "</style>\n",
       "<table border=\"1\" class=\"dataframe\">\n",
       "  <thead>\n",
       "    <tr style=\"text-align: right;\">\n",
       "      <th></th>\n",
       "      <th>Feature0</th>\n",
       "      <th>Feature1</th>\n",
       "      <th>Feature2</th>\n",
       "      <th>Feature3</th>\n",
       "      <th>Feature4</th>\n",
       "      <th>Feature5</th>\n",
       "      <th>Feature6</th>\n",
       "      <th>Feature7</th>\n",
       "      <th>Feature8</th>\n",
       "      <th>Feature9</th>\n",
       "      <th>Feature10</th>\n",
       "      <th>Feature11</th>\n",
       "      <th>Feature12</th>\n",
       "      <th>Feature13</th>\n",
       "      <th>Feature14</th>\n",
       "      <th>Feature15</th>\n",
       "    </tr>\n",
       "  </thead>\n",
       "  <tbody>\n",
       "    <tr>\n",
       "      <th>65010</th>\n",
       "      <td>-0.118880</td>\n",
       "      <td>0.046728</td>\n",
       "      <td>-0.024099</td>\n",
       "      <td>0.025745</td>\n",
       "      <td>-0.193203</td>\n",
       "      <td>-0.052563</td>\n",
       "      <td>0.166041</td>\n",
       "      <td>-0.026698</td>\n",
       "      <td>0.112355</td>\n",
       "      <td>-0.034464</td>\n",
       "      <td>-0.055767</td>\n",
       "      <td>0.042456</td>\n",
       "      <td>-0.057810</td>\n",
       "      <td>-0.094324</td>\n",
       "      <td>-0.075398</td>\n",
       "      <td>-0.016729</td>\n",
       "    </tr>\n",
       "    <tr>\n",
       "      <th>143936</th>\n",
       "      <td>0.073101</td>\n",
       "      <td>-0.035611</td>\n",
       "      <td>0.025036</td>\n",
       "      <td>-0.010194</td>\n",
       "      <td>-0.002501</td>\n",
       "      <td>-0.012629</td>\n",
       "      <td>-0.012978</td>\n",
       "      <td>0.017372</td>\n",
       "      <td>-0.028085</td>\n",
       "      <td>-0.016034</td>\n",
       "      <td>0.003510</td>\n",
       "      <td>-0.056649</td>\n",
       "      <td>-0.110540</td>\n",
       "      <td>0.038352</td>\n",
       "      <td>0.074827</td>\n",
       "      <td>0.090402</td>\n",
       "    </tr>\n",
       "    <tr>\n",
       "      <th>205146</th>\n",
       "      <td>0.001431</td>\n",
       "      <td>-0.040176</td>\n",
       "      <td>0.059490</td>\n",
       "      <td>0.085392</td>\n",
       "      <td>-0.069032</td>\n",
       "      <td>0.000812</td>\n",
       "      <td>-0.096224</td>\n",
       "      <td>0.087309</td>\n",
       "      <td>-0.019588</td>\n",
       "      <td>-0.124708</td>\n",
       "      <td>0.060001</td>\n",
       "      <td>-0.034599</td>\n",
       "      <td>0.132744</td>\n",
       "      <td>-0.080391</td>\n",
       "      <td>0.001747</td>\n",
       "      <td>-0.006544</td>\n",
       "    </tr>\n",
       "    <tr>\n",
       "      <th>235580</th>\n",
       "      <td>-0.031680</td>\n",
       "      <td>0.059656</td>\n",
       "      <td>-0.081405</td>\n",
       "      <td>0.003343</td>\n",
       "      <td>-0.095556</td>\n",
       "      <td>0.009286</td>\n",
       "      <td>0.006857</td>\n",
       "      <td>-0.011679</td>\n",
       "      <td>-0.114557</td>\n",
       "      <td>-0.070335</td>\n",
       "      <td>-0.032494</td>\n",
       "      <td>0.009077</td>\n",
       "      <td>-0.041334</td>\n",
       "      <td>0.020210</td>\n",
       "      <td>0.032645</td>\n",
       "      <td>-0.007912</td>\n",
       "    </tr>\n",
       "    <tr>\n",
       "      <th>48663</th>\n",
       "      <td>-0.040264</td>\n",
       "      <td>-0.018912</td>\n",
       "      <td>0.011216</td>\n",
       "      <td>-0.035603</td>\n",
       "      <td>0.004063</td>\n",
       "      <td>-0.024140</td>\n",
       "      <td>0.021831</td>\n",
       "      <td>-0.018600</td>\n",
       "      <td>-0.013566</td>\n",
       "      <td>0.023126</td>\n",
       "      <td>0.011194</td>\n",
       "      <td>0.021963</td>\n",
       "      <td>-0.012266</td>\n",
       "      <td>0.043907</td>\n",
       "      <td>-0.025385</td>\n",
       "      <td>-0.042042</td>\n",
       "    </tr>\n",
       "    <tr>\n",
       "      <th>...</th>\n",
       "      <td>...</td>\n",
       "      <td>...</td>\n",
       "      <td>...</td>\n",
       "      <td>...</td>\n",
       "      <td>...</td>\n",
       "      <td>...</td>\n",
       "      <td>...</td>\n",
       "      <td>...</td>\n",
       "      <td>...</td>\n",
       "      <td>...</td>\n",
       "      <td>...</td>\n",
       "      <td>...</td>\n",
       "      <td>...</td>\n",
       "      <td>...</td>\n",
       "      <td>...</td>\n",
       "      <td>...</td>\n",
       "    </tr>\n",
       "    <tr>\n",
       "      <th>194278</th>\n",
       "      <td>0.139943</td>\n",
       "      <td>-0.033335</td>\n",
       "      <td>0.107798</td>\n",
       "      <td>-0.058226</td>\n",
       "      <td>-0.048590</td>\n",
       "      <td>0.056476</td>\n",
       "      <td>0.016326</td>\n",
       "      <td>-0.099744</td>\n",
       "      <td>0.091285</td>\n",
       "      <td>0.138433</td>\n",
       "      <td>0.087377</td>\n",
       "      <td>-0.013914</td>\n",
       "      <td>-0.015517</td>\n",
       "      <td>0.144343</td>\n",
       "      <td>0.069960</td>\n",
       "      <td>0.034230</td>\n",
       "    </tr>\n",
       "    <tr>\n",
       "      <th>192476</th>\n",
       "      <td>-0.055732</td>\n",
       "      <td>0.065079</td>\n",
       "      <td>0.035236</td>\n",
       "      <td>-0.139196</td>\n",
       "      <td>-0.011074</td>\n",
       "      <td>-0.091777</td>\n",
       "      <td>-0.056550</td>\n",
       "      <td>-0.126191</td>\n",
       "      <td>0.065220</td>\n",
       "      <td>0.009116</td>\n",
       "      <td>-0.140614</td>\n",
       "      <td>0.052917</td>\n",
       "      <td>-0.030680</td>\n",
       "      <td>-0.219090</td>\n",
       "      <td>0.028691</td>\n",
       "      <td>0.081419</td>\n",
       "    </tr>\n",
       "    <tr>\n",
       "      <th>17730</th>\n",
       "      <td>0.056187</td>\n",
       "      <td>0.139169</td>\n",
       "      <td>0.041578</td>\n",
       "      <td>-0.069070</td>\n",
       "      <td>0.051675</td>\n",
       "      <td>0.117964</td>\n",
       "      <td>-0.099858</td>\n",
       "      <td>-0.026426</td>\n",
       "      <td>0.028939</td>\n",
       "      <td>0.099553</td>\n",
       "      <td>0.050393</td>\n",
       "      <td>-0.036436</td>\n",
       "      <td>0.066613</td>\n",
       "      <td>-0.035880</td>\n",
       "      <td>0.054076</td>\n",
       "      <td>0.122035</td>\n",
       "    </tr>\n",
       "    <tr>\n",
       "      <th>28030</th>\n",
       "      <td>-0.079685</td>\n",
       "      <td>0.078756</td>\n",
       "      <td>-0.076372</td>\n",
       "      <td>-0.059959</td>\n",
       "      <td>0.065124</td>\n",
       "      <td>0.027254</td>\n",
       "      <td>-0.035619</td>\n",
       "      <td>0.049043</td>\n",
       "      <td>-0.002678</td>\n",
       "      <td>-0.138924</td>\n",
       "      <td>-0.087857</td>\n",
       "      <td>0.121203</td>\n",
       "      <td>0.101312</td>\n",
       "      <td>0.058056</td>\n",
       "      <td>0.068503</td>\n",
       "      <td>0.182239</td>\n",
       "    </tr>\n",
       "    <tr>\n",
       "      <th>277869</th>\n",
       "      <td>0.056387</td>\n",
       "      <td>-0.044931</td>\n",
       "      <td>0.098369</td>\n",
       "      <td>-0.055967</td>\n",
       "      <td>0.052876</td>\n",
       "      <td>-0.002628</td>\n",
       "      <td>0.046453</td>\n",
       "      <td>-0.039503</td>\n",
       "      <td>-0.204741</td>\n",
       "      <td>-0.139339</td>\n",
       "      <td>-0.023434</td>\n",
       "      <td>0.036883</td>\n",
       "      <td>0.106608</td>\n",
       "      <td>0.145455</td>\n",
       "      <td>0.137759</td>\n",
       "      <td>-0.099363</td>\n",
       "    </tr>\n",
       "  </tbody>\n",
       "</table>\n",
       "<p>373314 rows × 16 columns</p>\n",
       "</div>"
      ],
      "text/plain": [
       "        Feature0  Feature1  Feature2  Feature3  Feature4  Feature5  Feature6  \\\n",
       "65010  -0.118880  0.046728 -0.024099  0.025745 -0.193203 -0.052563  0.166041   \n",
       "143936  0.073101 -0.035611  0.025036 -0.010194 -0.002501 -0.012629 -0.012978   \n",
       "205146  0.001431 -0.040176  0.059490  0.085392 -0.069032  0.000812 -0.096224   \n",
       "235580 -0.031680  0.059656 -0.081405  0.003343 -0.095556  0.009286  0.006857   \n",
       "48663  -0.040264 -0.018912  0.011216 -0.035603  0.004063 -0.024140  0.021831   \n",
       "...          ...       ...       ...       ...       ...       ...       ...   \n",
       "194278  0.139943 -0.033335  0.107798 -0.058226 -0.048590  0.056476  0.016326   \n",
       "192476 -0.055732  0.065079  0.035236 -0.139196 -0.011074 -0.091777 -0.056550   \n",
       "17730   0.056187  0.139169  0.041578 -0.069070  0.051675  0.117964 -0.099858   \n",
       "28030  -0.079685  0.078756 -0.076372 -0.059959  0.065124  0.027254 -0.035619   \n",
       "277869  0.056387 -0.044931  0.098369 -0.055967  0.052876 -0.002628  0.046453   \n",
       "\n",
       "        Feature7  Feature8  Feature9  Feature10  Feature11  Feature12  \\\n",
       "65010  -0.026698  0.112355 -0.034464  -0.055767   0.042456  -0.057810   \n",
       "143936  0.017372 -0.028085 -0.016034   0.003510  -0.056649  -0.110540   \n",
       "205146  0.087309 -0.019588 -0.124708   0.060001  -0.034599   0.132744   \n",
       "235580 -0.011679 -0.114557 -0.070335  -0.032494   0.009077  -0.041334   \n",
       "48663  -0.018600 -0.013566  0.023126   0.011194   0.021963  -0.012266   \n",
       "...          ...       ...       ...        ...        ...        ...   \n",
       "194278 -0.099744  0.091285  0.138433   0.087377  -0.013914  -0.015517   \n",
       "192476 -0.126191  0.065220  0.009116  -0.140614   0.052917  -0.030680   \n",
       "17730  -0.026426  0.028939  0.099553   0.050393  -0.036436   0.066613   \n",
       "28030   0.049043 -0.002678 -0.138924  -0.087857   0.121203   0.101312   \n",
       "277869 -0.039503 -0.204741 -0.139339  -0.023434   0.036883   0.106608   \n",
       "\n",
       "        Feature13  Feature14  Feature15  \n",
       "65010   -0.094324  -0.075398  -0.016729  \n",
       "143936   0.038352   0.074827   0.090402  \n",
       "205146  -0.080391   0.001747  -0.006544  \n",
       "235580   0.020210   0.032645  -0.007912  \n",
       "48663    0.043907  -0.025385  -0.042042  \n",
       "...           ...        ...        ...  \n",
       "194278   0.144343   0.069960   0.034230  \n",
       "192476  -0.219090   0.028691   0.081419  \n",
       "17730   -0.035880   0.054076   0.122035  \n",
       "28030    0.058056   0.068503   0.182239  \n",
       "277869   0.145455   0.137759  -0.099363  \n",
       "\n",
       "[373314 rows x 16 columns]"
      ]
     },
     "execution_count": 22,
     "metadata": {},
     "output_type": "execute_result"
    }
   ],
   "source": [
    "X_train"
   ]
  },
  {
   "cell_type": "code",
   "execution_count": 23,
   "metadata": {},
   "outputs": [
    {
     "data": {
      "text/plain": [
       "(0, 0)"
      ]
     },
     "execution_count": 23,
     "metadata": {},
     "output_type": "execute_result"
    }
   ],
   "source": [
    "sum( y_test == 2 ) , sum( y_test == 3 )"
   ]
  },
  {
   "cell_type": "markdown",
   "id": "19c74ca4-1fc9-49bf-b6ab-a69ba391b90b",
   "metadata": {},
   "source": [
    "<details>\n",
    "    <summary>Click here for Hints</summary>\n",
    "    \n",
    "Use `train_test_split()` to split dataset into training and testing datasets.  Use `X, y` as input dataset and output vector. Don't forget to specify `random_state = rs` and `test_size=0.3`.\n"
   ]
  },
  {
   "cell_type": "markdown",
   "id": "33d32313-59f5-4c79-9a85-2aec452dc371",
   "metadata": {},
   "source": [
    "_TODO: Create a basic linear regression model_\n"
   ]
  },
  {
   "cell_type": "code",
   "execution_count": 24,
   "id": "9c92ddee-71d9-4a14-8a52-a5b64dbe078b",
   "metadata": {},
   "outputs": [],
   "source": [
    "### WRITE YOUR CODE HERE\n",
    "model = linear_model.Ridge(alpha=0.2)"
   ]
  },
  {
   "cell_type": "markdown",
   "id": "97186e6b-f8c9-4e3a-ac84-5b32370cdf8f",
   "metadata": {},
   "source": [
    "<details>\n",
    "    <summary>Click here for Hints</summary>\n",
    "    \n",
    "You can call `linear_model.Ridge()` method and specify `alpha=0.2` ( it's controlling regularization) in the parameters.\n"
   ]
  },
  {
   "cell_type": "markdown",
   "id": "2168b1fa-ce81-4f05-b378-d14ae39b0cd5",
   "metadata": {},
   "source": [
    "_TODO: Train the basic regression model with training data_\n"
   ]
  },
  {
   "cell_type": "code",
   "execution_count": 25,
   "id": "47d7c7be-b5d4-42ca-9d69-89eca026c54e",
   "metadata": {},
   "outputs": [
    {
     "data": {
      "text/plain": [
       "Ridge(alpha=0.2)"
      ]
     },
     "execution_count": 25,
     "metadata": {},
     "output_type": "execute_result"
    }
   ],
   "source": [
    "### WRITE YOUR CODE HERE\n",
    "model.fit(X_train, y_train)"
   ]
  },
  {
   "cell_type": "markdown",
   "id": "5b55b75f-444d-451f-8857-6d0811fb5c5c",
   "metadata": {},
   "source": [
    "<details>\n",
    "    <summary>Click here for Hints</summary>\n",
    "    \n",
    "You can call `model.fit()` method with `X_train, y_train` parameters.\n"
   ]
  },
  {
   "cell_type": "markdown",
   "id": "072232b0-d3cf-4e8a-b013-6cd996df38e0",
   "metadata": {},
   "source": [
    "_TODO: Evaluate the basic regression model_\n"
   ]
  },
  {
   "cell_type": "code",
   "execution_count": 26,
   "id": "05b9d90e-60e6-4f0c-aa36-952bd35961b5",
   "metadata": {},
   "outputs": [
    {
     "data": {
      "text/plain": [
       "(0.4942358963699097, (159992,))"
      ]
     },
     "execution_count": 26,
     "metadata": {},
     "output_type": "execute_result"
    }
   ],
   "source": [
    "### WRITE YOUR CODE HERE\n",
    "\n",
    "### The main evaluation metric is RMSE but you may use other metrics as well\n",
    "\n",
    "y_predict = model.predict(X_test)\n",
    "\n",
    "mean_squared_error(y_test,  y_predict, squared=False), y_predict.shape"
   ]
  },
  {
   "cell_type": "code",
   "execution_count": 27,
   "metadata": {},
   "outputs": [
    {
     "data": {
      "text/plain": [
       "(0.0, 1.0, 0.17207423800540772, 0.6541113911872309)"
      ]
     },
     "execution_count": 27,
     "metadata": {},
     "output_type": "execute_result"
    }
   ],
   "source": [
    "min(y_train), max(y_train), min(y_predict), max(y_predict)"
   ]
  },
  {
   "cell_type": "code",
   "execution_count": 28,
   "metadata": {},
   "outputs": [
    {
     "name": "stdout",
     "output_type": "stream",
     "text": [
      "0.0 1.0 0.17204196483739465 0.6541369789744476\n",
      "0.0 0.4942359204358749\n",
      "0.0 1.0 0.17212263289605956 0.6540730209625811\n",
      "0.5 0.4942358603878663\n",
      "0.0 1.0 0.17220325144140275 0.6540091011195481\n",
      "1.0 0.4942358007291805\n",
      "0.0 1.0 0.1722838205194548 0.6539452194108419\n",
      "1.5 0.4942357414591458\n",
      "0.0 1.0 0.1723643401761888 0.6538813758019979\n",
      "2.0 0.494235682577092\n",
      "0.0 1.0 0.17244481045752047 0.6538175702585934\n",
      "2.5 0.4942356240823498\n",
      "0.0 1.0 0.17252523140930792 0.6537538027462475\n",
      "3.0 0.4942355659742512\n",
      "0.0 1.0 0.17260560307735218 0.6536900732306214\n",
      "3.5 0.4942355082521297\n",
      "0.0 1.0 0.17268592550739675 0.6536263816774179\n",
      "4.0 0.4942354509153195\n",
      "0.0 1.0 0.17276619874512855 0.6535627280523812\n",
      "4.5 0.4942353939631562\n",
      "0.0 1.0 0.17284642283617685 0.6534991123212975\n",
      "5.0 0.4942353373949769\n",
      "0.0 1.0 0.17292659782611458 0.6534355344499945\n",
      "5.5 0.4942352812101193\n",
      "0.0 1.0 0.17300672376045734 0.6533719944043409\n",
      "6.0 0.49423522540792264\n",
      "0.0 1.0 0.1730868006846642 0.6533084921502476\n",
      "6.5 0.4942351699877275\n",
      "0.0 1.0 0.17316682864413763 0.6532450276536661\n",
      "7.0 0.4942351149488751\n",
      "0.0 1.0 0.17324680768422324 0.6531816008805899\n",
      "7.5 0.49423506029070846\n",
      "0.0 1.0 0.17332673785021047 0.6531182117970531\n",
      "8.0 0.4942350060125714\n",
      "0.0 1.0 0.17340661918733213 0.6530548603691313\n",
      "8.5 0.49423495211380886\n",
      "0.0 1.0 0.17348645174076482 0.6529915465629411\n",
      "9.0 0.4942348985937672\n",
      "0.0 1.0 0.17356623555562894 0.6529282703446404\n",
      "9.5 0.49423484545179386\n"
     ]
    },
    {
     "data": {
      "text/plain": [
       "[<matplotlib.lines.Line2D at 0x7f9423c12a70>]"
      ]
     },
     "execution_count": 28,
     "metadata": {},
     "output_type": "execute_result"
    },
    {
     "data": {
      "image/png": "[encoded data removed]",
      "text/plain": [
       "<Figure size 432x288 with 1 Axes>"
      ]
     },
     "metadata": {
      "needs_background": "light"
     },
     "output_type": "display_data"
    }
   ],
   "source": [
    "rmses = []\n",
    "alphas = np.arange( 0,10,0.5 )\n",
    "for alpha in alphas:\n",
    "    model = linear_model.Ridge(alpha=alpha)\n",
    "    model.fit(X_train, y_train)\n",
    "    y_predict = model.predict(X_test)\n",
    "    print( min(y_train), max(y_train), min(y_predict), max(y_predict) )\n",
    "    rmse = mean_squared_error(y_test,  y_predict, squared=False)\n",
    "    print(alpha,rmse)\n",
    "    rmses.append( rmse )\n",
    "    \n",
    "plt.plot( alphas, rmses )"
   ]
  },
  {
   "cell_type": "markdown",
   "id": "1725c415-c714-4f70-9b31-9abc2530a75a",
   "metadata": {},
   "source": [
    "<details>\n",
    "    <summary>Click here for Hints</summary>\n",
    "    \n",
    "You can call `model.predict()` method with `X_test` parameter to get model predictions. Then use `mean_squared_error()` with `y_test, your_predictions` parameters to calculate the RMSE. \n"
   ]
  },
  {
   "cell_type": "markdown",
   "id": "3e29b0ba-55b9-413b-b1b4-40ec8d3d99d9",
   "metadata": {},
   "source": [
    "_TODO: Try different regression models such as Ridge, Lasso, ElasticNet and tune their hyperparameters to see which one has the best performance_\n"
   ]
  },
  {
   "cell_type": "code",
   "execution_count": 29,
   "id": "21112e72-fca8-4056-b966-d91dee039b4f",
   "metadata": {},
   "outputs": [
    {
     "name": "stdout",
     "output_type": "stream",
     "text": [
      "0.0 1.0 0.4376423064765854 0.4376423064765854\n",
      "0.01 0.49602456976064363\n",
      "0.0 1.0 0.4376423064765854 0.4376423064765854\n",
      "0.51 0.49602456976064363\n",
      "0.0 1.0 0.4376423064765854 0.4376423064765854\n",
      "1.01 0.49602456976064363\n",
      "0.0 1.0 0.4376423064765854 0.4376423064765854\n",
      "1.51 0.49602456976064363\n",
      "0.0 1.0 0.4376423064765854 0.4376423064765854\n",
      "2.01 0.49602456976064363\n",
      "0.0 1.0 0.4376423064765854 0.4376423064765854\n",
      "2.51 0.49602456976064363\n",
      "0.0 1.0 0.4376423064765854 0.4376423064765854\n",
      "3.01 0.49602456976064363\n",
      "0.0 1.0 0.4376423064765854 0.4376423064765854\n",
      "3.51 0.49602456976064363\n",
      "0.0 1.0 0.4376423064765854 0.4376423064765854\n",
      "4.01 0.49602456976064363\n",
      "0.0 1.0 0.4376423064765854 0.4376423064765854\n",
      "4.51 0.49602456976064363\n",
      "0.0 1.0 0.4376423064765854 0.4376423064765854\n",
      "5.01 0.49602456976064363\n",
      "0.0 1.0 0.4376423064765854 0.4376423064765854\n",
      "5.51 0.49602456976064363\n",
      "0.0 1.0 0.4376423064765854 0.4376423064765854\n",
      "6.01 0.49602456976064363\n",
      "0.0 1.0 0.4376423064765854 0.4376423064765854\n",
      "6.51 0.49602456976064363\n",
      "0.0 1.0 0.4376423064765854 0.4376423064765854\n",
      "7.01 0.49602456976064363\n",
      "0.0 1.0 0.4376423064765854 0.4376423064765854\n",
      "7.51 0.49602456976064363\n",
      "0.0 1.0 0.4376423064765854 0.4376423064765854\n",
      "8.01 0.49602456976064363\n",
      "0.0 1.0 0.4376423064765854 0.4376423064765854\n",
      "8.51 0.49602456976064363\n",
      "0.0 1.0 0.4376423064765854 0.4376423064765854\n",
      "9.01 0.49602456976064363\n",
      "0.0 1.0 0.4376423064765854 0.4376423064765854\n",
      "9.51 0.49602456976064363\n"
     ]
    },
    {
     "data": {
      "text/plain": [
       "[<matplotlib.lines.Line2D at 0x7f941aa03010>]"
      ]
     },
     "execution_count": 29,
     "metadata": {},
     "output_type": "execute_result"
    },
    {
     "data": {
      "image/png": "[encoded data removed]",
      "text/plain": [
       "<Figure size 432x288 with 1 Axes>"
      ]
     },
     "metadata": {
      "needs_background": "light"
     },
     "output_type": "display_data"
    }
   ],
   "source": [
    "### WRITE YOUR CODE HERE\n",
    "rmses = []\n",
    "alphas = np.arange( 0.01,10,0.5 )\n",
    "for alpha in alphas:\n",
    "    model = linear_model.Lasso(alpha=alpha)\n",
    "    model.fit(X_train, y_train)\n",
    "    y_predict = model.predict(X_test)\n",
    "    print( min(y_train), max(y_train), min(y_predict), max(y_predict) )\n",
    "    rmse = mean_squared_error(y_test,  y_predict, squared=False)\n",
    "    print(alpha,rmse)\n",
    "    rmses.append( rmse )\n",
    "    \n",
    "plt.plot( rmses )"
   ]
  },
  {
   "cell_type": "code",
   "execution_count": 30,
   "metadata": {},
   "outputs": [
    {
     "data": {
      "text/plain": [
       "(0.4376423064765854, 0.4376423064765854)"
      ]
     },
     "execution_count": 30,
     "metadata": {},
     "output_type": "execute_result"
    }
   ],
   "source": [
    "min(y_predict), max(y_predict)"
   ]
  },
  {
   "cell_type": "code",
   "execution_count": 31,
   "metadata": {},
   "outputs": [
    {
     "name": "stdout",
     "output_type": "stream",
     "text": [
      "0.0 1.0 0.17204442148364973 0.654135651732521\n",
      "1e-08 0.494235919077807\n",
      "0.0 1.0 0.17228759949037842 0.6540043177122425\n",
      "1e-06 0.4942357855687531\n",
      "0.0 1.0 0.19633562456220566 0.6410095230479054\n",
      "0.0001 0.49423373282756433\n",
      "0.0 1.0 0.4376423064765854 0.4376423064765854\n",
      "0.01 0.49602456976064363\n",
      "0.0 1.0 0.4376423064765854 0.4376423064765854\n",
      "0.1 0.49602456976064363\n"
     ]
    },
    {
     "data": {
      "text/plain": [
       "[<matplotlib.lines.Line2D at 0x7f941a87b400>]"
      ]
     },
     "execution_count": 31,
     "metadata": {},
     "output_type": "execute_result"
    },
    {
     "data": {
      "image/png": "[encoded data removed]",
      "text/plain": [
       "<Figure size 432x288 with 1 Axes>"
      ]
     },
     "metadata": {
      "needs_background": "light"
     },
     "output_type": "display_data"
    }
   ],
   "source": [
    "### WRITE YOUR CODE HERE\n",
    "rmses = []\n",
    "alphas = [ 0.00000001, 0.000001, 0.0001,0.01,0.1]\n",
    "for alpha in alphas:\n",
    "    model = linear_model.ElasticNet(alpha=alpha)\n",
    "    model.fit(X_train, y_train)\n",
    "    y_predict = model.predict(X_test)\n",
    "    print( min(y_train), max(y_train), min(y_predict), max(y_predict) )\n",
    "    rmse = mean_squared_error(y_test,  y_predict, squared=False)\n",
    "    print(alpha,rmse)\n",
    "    rmses.append( rmse )\n",
    "    \n",
    "plt.plot( rmses )"
   ]
  },
  {
   "cell_type": "markdown",
   "id": "91b2b82d-9525-441f-be28-0e803072e131",
   "metadata": {},
   "source": [
    "### Summary\n"
   ]
  },
  {
   "cell_type": "markdown",
   "id": "c40eb683-0bfd-4a2c-9c2f-3823453c46ad",
   "metadata": {},
   "source": [
    "In this lab, you have built regression models to predict numerical course ratings using the embedding feature vectors extracted from neural networks. In the next lab, we can treat the prediction problem as a classification problem as rating only has two categorical values so classification can be a more natural problem statement.\n"
   ]
  },
  {
   "cell_type": "markdown",
   "id": "600b79a4-2aa0-437e-894f-9fc9aa0580cc",
   "metadata": {},
   "source": [
    "## Authors\n"
   ]
  },
  {
   "cell_type": "markdown",
   "id": "39980484-9643-433f-a0b4-3ea8d522d8a4",
   "metadata": {},
   "source": [
    "[Yan Luo](https://www.linkedin.com/in/yan-luo-96288783/?utm_medium=Exinfluencer&utm_source=Exinfluencer&utm_content=000026UJ&utm_term=10006555&utm_id=NA-SkillsNetwork-Channel-SkillsNetworkCoursesIBMML321ENSkillsNetwork817-2022-01-01)\n"
   ]
  },
  {
   "cell_type": "markdown",
   "id": "7755011b-2382-4ad2-972f-1e59a712f34a",
   "metadata": {},
   "source": [
    "### Other Contributors\n"
   ]
  },
  {
   "cell_type": "markdown",
   "id": "5c132092-59a3-4f50-bfd4-526258cb672c",
   "metadata": {},
   "source": [
    "## Change Log\n"
   ]
  },
  {
   "cell_type": "markdown",
   "id": "6aa7b7b7-73fb-4dc8-9386-d5ca3d381b49",
   "metadata": {},
   "source": [
    "|Date (YYYY-MM-DD)|Version|Changed By|Change Description|\n",
    "|-|-|-|-|\n",
    "|2021-10-25|1.0|Yan|Created the initial version|\n"
   ]
  },
  {
   "cell_type": "markdown",
   "id": "04062d00-c4db-41d9-b72b-0a33c520effa",
   "metadata": {},
   "source": [
    "Copyright © 2021 IBM Corporation. All rights reserved.\n"
   ]
  }
 ],
 "metadata": {
  "kernelspec": {
   "display_name": "Python 3 (ipykernel)",
   "language": "python",
   "name": "python3"
  },
  "language_info": {
   "codemirror_mode": {
    "name": "ipython",
    "version": 3
   },
   "file_extension": ".py",
   "mimetype": "text/x-python",
   "name": "python",
   "nbconvert_exporter": "python",
   "pygments_lexer": "ipython3",
   "version": "3.10.12"
  }
 },
 "nbformat": 4,
 "nbformat_minor": 4
}
