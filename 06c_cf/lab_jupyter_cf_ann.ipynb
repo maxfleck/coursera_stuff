{
 "cells": [
  {
   "cell_type": "markdown",
   "id": "51d3e6d1-4ce0-45fe-9296-60b9ec8c4841",
   "metadata": {},
   "source": [
    "<p style=\"text-align:center\">\n",
    "    <a href=\"https://skills.network/?utm_medium=Exinfluencer&utm_source=Exinfluencer&utm_content=000026UJ&utm_term=10006555&utm_id=NA-SkillsNetwork-Channel-SkillsNetworkCoursesIBMML321ENSkillsNetwork817-2022-01-01\" target=\"_blank\">\n",
    "    <img src=\"https://cf-courses-data.s3.us.cloud-object-storage.appdomain.cloud/assets/logos/SN_web_lightmode.png\" width=\"200\" alt=\"Skills Network Logo\"  />\n",
    "    </a>\n",
    "</p>\n"
   ]
  },
  {
   "cell_type": "markdown",
   "id": "899990e4-6229-4ae5-aec2-9ab97d21a5a1",
   "metadata": {},
   "source": [
    "# **Course Rating Prediction using Neural Networks**\n"
   ]
  },
  {
   "cell_type": "markdown",
   "id": "3a590f18-88b6-4678-a3c6-c1073879795a",
   "metadata": {},
   "source": [
    "Estimated time needed: **60** minutes\n"
   ]
  },
  {
   "cell_type": "markdown",
   "id": "bc07888c-a937-4390-891c-8f159a5945d1",
   "metadata": {},
   "source": [
    "In the previous labs, we have crafted several types of user and item feature vectors.  For example, given a user `i`, we may build its profile feature vector and course rating feature vector, and given an item `j`, we may create its genre vector and user enrollment vectors.\n"
   ]
  },
  {
   "cell_type": "markdown",
   "id": "30b75483-34e1-460e-ae57-b563b5d8f5f2",
   "metadata": {},
   "source": [
    "\n",
    "With these explicit features vectors, we can perform machine learning tasks such as calculating the similarities among users or items, finding nearest neighbors, and using dot-product to estimate a rating value. \n",
    "\n",
    "The main advantage of using these explicit features is they are highly interpretable and yield very good performance as well. The main disadvantage is we need to spend quite some effort to build and store them.\n"
   ]
  },
  {
   "cell_type": "markdown",
   "id": "241cdfc2-4ede-4e4f-a763-d7a226e12b47",
   "metadata": {},
   "source": [
    "![](https://cf-courses-data.s3.us.cloud-object-storage.appdomain.cloud/IBM-ML321EN-SkillsNetwork/labs/module_4/images/explicit_user_item_features.png)\n"
   ]
  },
  {
   "cell_type": "markdown",
   "id": "634fb4c3-cd1a-4c80-afc5-b01ab7c88d5d",
   "metadata": {},
   "source": [
    "Is it possible to predict a rating without building explicit feature vectors beforehand?  \n",
    "\n",
    "Yes, as you may recall, the Non-negative Matrix Factorization decomposes the user-item interaction matrix into user matrix and item matrix, which contain the latent features of users and items and you can simply dot-product them to get an estimated rating.\n"
   ]
  },
  {
   "cell_type": "markdown",
   "id": "91a938f1-3720-4b5e-abcf-1e7bb7f5f113",
   "metadata": {},
   "source": [
    "![](https://cf-courses-data.s3.us.cloud-object-storage.appdomain.cloud/IBM-ML321EN-SkillsNetwork/labs/module_4/images/nmf.png)\n"
   ]
  },
  {
   "cell_type": "markdown",
   "id": "623f49f0-2cf7-4094-8884-783f0980d31e",
   "metadata": {},
   "source": [
    "In addition to NMF, neural networks can also be used to extract the latent user and item features?  In fact,  neural networks are very good at learning patterns from data and are widely used to extract latent features.  When training neural networks, it gradually captures and stores the features within its hidden layers as weight matrices and can be extracted to represent the original data.\n"
   ]
  },
  {
   "cell_type": "markdown",
   "id": "259d6fe8-09fe-4311-9fd4-55606155a44f",
   "metadata": {},
   "source": [
    "In this lab, you will be training neural networks to predict course ratings while simultaneously extracting users' and items' latent features. \n"
   ]
  },
  {
   "cell_type": "markdown",
   "id": "35bb7589-d223-4f0c-8aaa-9340c2a0d61a",
   "metadata": {},
   "source": [
    "## Objectives\n"
   ]
  },
  {
   "cell_type": "markdown",
   "id": "f4f1e1d9-0569-43f2-a8db-c7daae9da4cf",
   "metadata": {},
   "source": [
    "After completing this lab you will be able to:\n"
   ]
  },
  {
   "cell_type": "markdown",
   "id": "b309b802-74f3-40e8-a7aa-dafcdc323d05",
   "metadata": {},
   "source": [
    "* Use `tensorflow` to train neural networks to extract the user and item latent features from the hidden's layers  \n",
    "* Predict course ratings with trained neural networks\n"
   ]
  },
  {
   "cell_type": "markdown",
   "id": "7a474d4d-efbd-45f8-b165-b47e93887504",
   "metadata": {},
   "source": [
    "----\n"
   ]
  },
  {
   "cell_type": "markdown",
   "id": "e5132dfd-3f42-4867-ac16-771736dd9d6b",
   "metadata": {},
   "source": [
    "## Prepare and setup lab environment\n"
   ]
  },
  {
   "cell_type": "markdown",
   "id": "d7f4714c-c0ad-4816-a309-6f0fd42d08c4",
   "metadata": {},
   "source": [
    "Install tensorflow 2.7 if not installed before in your Python environment\n"
   ]
  },
  {
   "cell_type": "code",
   "execution_count": 1,
   "id": "d9beae9b-d03c-4051-acb3-d651e7c9a30f",
   "metadata": {},
   "outputs": [],
   "source": [
    "#!pip install tensorflow==2.7.0"
   ]
  },
  {
   "cell_type": "markdown",
   "id": "bffd4abc-08e0-4845-bb45-d601408c3c14",
   "metadata": {},
   "source": [
    "and import required libraries:\n"
   ]
  },
  {
   "cell_type": "code",
   "execution_count": 2,
   "id": "d2cca8ba-dab5-4617-95c9-4ff14184b4bd",
   "metadata": {},
   "outputs": [
    {
     "name": "stderr",
     "output_type": "stream",
     "text": [
      "2024-01-15 22:27:43.421554: I external/local_tsl/tsl/cuda/cudart_stub.cc:31] Could not find cuda drivers on your machine, GPU will not be used.\n",
      "2024-01-15 22:27:43.648982: E external/local_xla/xla/stream_executor/cuda/cuda_dnn.cc:9261] Unable to register cuDNN factory: Attempting to register factory for plugin cuDNN when one has already been registered\n",
      "2024-01-15 22:27:43.649045: E external/local_xla/xla/stream_executor/cuda/cuda_fft.cc:607] Unable to register cuFFT factory: Attempting to register factory for plugin cuFFT when one has already been registered\n",
      "2024-01-15 22:27:43.689763: E external/local_xla/xla/stream_executor/cuda/cuda_blas.cc:1515] Unable to register cuBLAS factory: Attempting to register factory for plugin cuBLAS when one has already been registered\n",
      "2024-01-15 22:27:43.792625: I external/local_tsl/tsl/cuda/cudart_stub.cc:31] Could not find cuda drivers on your machine, GPU will not be used.\n",
      "2024-01-15 22:27:43.794876: I tensorflow/core/platform/cpu_feature_guard.cc:182] This TensorFlow binary is optimized to use available CPU instructions in performance-critical operations.\n",
      "To enable the following instructions: AVX2 FMA, in other operations, rebuild TensorFlow with the appropriate compiler flags.\n",
      "2024-01-15 22:27:44.824401: W tensorflow/compiler/tf2tensorrt/utils/py_utils.cc:38] TF-TRT Warning: Could not find TensorRT\n"
     ]
    }
   ],
   "source": [
    "import pandas as pd\n",
    "import tensorflow as tf\n",
    "import matplotlib.pyplot as plt\n",
    "\n",
    "from tensorflow import keras\n",
    "from tensorflow.keras import layers\n",
    "import numpy as np"
   ]
  },
  {
   "cell_type": "code",
   "execution_count": 3,
   "id": "46b1eca5-4dcc-4f69-b865-f3aa2dde0b52",
   "metadata": {},
   "outputs": [],
   "source": [
    "# also set a random state\n",
    "rs = 123"
   ]
  },
  {
   "cell_type": "markdown",
   "id": "3df30857-26fb-4dd3-8edd-1372c205455e",
   "metadata": {},
   "source": [
    "### Load and processing rating dataset\n"
   ]
  },
  {
   "cell_type": "code",
   "execution_count": 4,
   "id": "f0cbf852-4a5e-4205-aa6d-b3bae89a0c2e",
   "metadata": {},
   "outputs": [
    {
     "data": {
      "text/html": [
       "<div>\n",
       "<style scoped>\n",
       "    .dataframe tbody tr th:only-of-type {\n",
       "        vertical-align: middle;\n",
       "    }\n",
       "\n",
       "    .dataframe tbody tr th {\n",
       "        vertical-align: top;\n",
       "    }\n",
       "\n",
       "    .dataframe thead th {\n",
       "        text-align: right;\n",
       "    }\n",
       "</style>\n",
       "<table border=\"1\" class=\"dataframe\">\n",
       "  <thead>\n",
       "    <tr style=\"text-align: right;\">\n",
       "      <th></th>\n",
       "      <th>user</th>\n",
       "      <th>item</th>\n",
       "      <th>rating</th>\n",
       "    </tr>\n",
       "  </thead>\n",
       "  <tbody>\n",
       "    <tr>\n",
       "      <th>0</th>\n",
       "      <td>2</td>\n",
       "      <td>BD0221EN</td>\n",
       "      <td>3.0</td>\n",
       "    </tr>\n",
       "    <tr>\n",
       "      <th>1</th>\n",
       "      <td>2</td>\n",
       "      <td>LB0107ENv1</td>\n",
       "      <td>3.0</td>\n",
       "    </tr>\n",
       "    <tr>\n",
       "      <th>2</th>\n",
       "      <td>2</td>\n",
       "      <td>SC0105EN</td>\n",
       "      <td>2.0</td>\n",
       "    </tr>\n",
       "    <tr>\n",
       "      <th>3</th>\n",
       "      <td>2</td>\n",
       "      <td>CO0201EN</td>\n",
       "      <td>0.0</td>\n",
       "    </tr>\n",
       "    <tr>\n",
       "      <th>4</th>\n",
       "      <td>2</td>\n",
       "      <td>BD0123EN</td>\n",
       "      <td>2.0</td>\n",
       "    </tr>\n",
       "  </tbody>\n",
       "</table>\n",
       "</div>"
      ],
      "text/plain": [
       "   user        item  rating\n",
       "0     2    BD0221EN     3.0\n",
       "1     2  LB0107ENv1     3.0\n",
       "2     2    SC0105EN     2.0\n",
       "3     2    CO0201EN     0.0\n",
       "4     2    BD0123EN     2.0"
      ]
     },
     "execution_count": 4,
     "metadata": {},
     "output_type": "execute_result"
    }
   ],
   "source": [
    "rating_url = \"https://cf-courses-data.s3.us.cloud-object-storage.appdomain.cloud/IBM-ML321EN-SkillsNetwork/labs/datasets/ratings.csv\"\n",
    "rating_url = \"nice_data.csv\"\n",
    "rating_df = pd.read_csv(rating_url)\n",
    "rating_df.head()"
   ]
  },
  {
   "cell_type": "markdown",
   "id": "a14e1a19-3b7d-41dd-9b68-3b9041c33b2d",
   "metadata": {},
   "source": [
    "This is the same rating dataset we have been using in previous lab, which contains the three main columns: `user`, `item`, and `rating`. \n"
   ]
  },
  {
   "cell_type": "markdown",
   "id": "924fbce1-cb1e-4fb4-a991-f77348d88577",
   "metadata": {},
   "source": [
    "Next, let's figure out how many unique users and items, their total numbers will determine the sizes of one-hot encoding vectors.\n"
   ]
  },
  {
   "cell_type": "code",
   "execution_count": 5,
   "id": "01912ceb-ab1d-4600-a79f-60c21a44f1e5",
   "metadata": {},
   "outputs": [
    {
     "name": "stdout",
     "output_type": "stream",
     "text": [
      "There are total `33901` of users and `126` items\n"
     ]
    }
   ],
   "source": [
    "num_users = len(rating_df['user'].unique())\n",
    "num_items = len(rating_df['item'].unique())\n",
    "print(f\"There are total `{num_users}` of users and `{num_items}` items\")"
   ]
  },
  {
   "cell_type": "code",
   "execution_count": null,
   "metadata": {},
   "outputs": [],
   "source": []
  },
  {
   "cell_type": "markdown",
   "id": "6bcd9652-e882-401f-9e23-56c6301b3588",
   "metadata": {},
   "source": [
    "It means our each user can be represented as a `33901 x 1` one-hot vector and each item can be represented as `126 x 1` one-hot vector.\n"
   ]
  },
  {
   "cell_type": "markdown",
   "id": "f3db37e9-14f7-4426-a72a-e8091ad0f11c",
   "metadata": {},
   "source": [
    "The goal is to create a neural network structure that can take the user and item one-hot vectors as inputs and outputs a rating estimation or the probability of interaction (such as the probability of completing a course). \n",
    "\n",
    "While training and updating the weights in the neural network, its hidden layers should be able to capture the pattern or features for each user and item. Based on this idea, we can design a simple neural network architecture like the following:\n"
   ]
  },
  {
   "cell_type": "markdown",
   "id": "06d380d7-9dc1-476e-91d9-c37a2056c854",
   "metadata": {},
   "source": [
    "![](https://cf-courses-data.s3.us.cloud-object-storage.appdomain.cloud/IBM-ML321EN-SkillsNetwork/labs/module_4/images/embedding_feature_vector.png)\n"
   ]
  },
  {
   "cell_type": "markdown",
   "id": "cb9f4159-a687-4672-b532-91a771752fb7",
   "metadata": {},
   "source": [
    "The network inputs are two one-hot encoding vectors, the blue one is for the user and the green one is for the item. Then on top of them, we added two embedding layers. Here embedding means embedding the one-hot encoding vector into a latent feature space. The embedding layer is a fully-connected layer that outputs the embedding feature vectors. For example, the user embedding layer takes `33901 x 1` one-hot vector as input and outputs a `16 x 1` embedding vector.\n"
   ]
  },
  {
   "cell_type": "markdown",
   "id": "54d4b720-935b-4950-8c59-49143744cadf",
   "metadata": {},
   "source": [
    "The embedding layer outputs two embedding vectors, which are similar to Non-negative matrix factorization. Then we could simply dot the product the user and item embedding vector to output a rating estimation.\n"
   ]
  },
  {
   "cell_type": "markdown",
   "id": "483a3a53-3269-4e7f-8b77-de8f63ed1265",
   "metadata": {},
   "source": [
    "#### Implementing the recommender neural network using tensorflow \n"
   ]
  },
  {
   "cell_type": "markdown",
   "id": "302aa955-b032-4c3f-9248-d90776ba48a5",
   "metadata": {},
   "source": [
    "This network architecture could be defined and implemented as a sub-class inheriting the `tensorflow.keras.Model` super class, let's call it `RecommenderNet()`.\n"
   ]
  },
  {
   "cell_type": "code",
   "execution_count": 6,
   "id": "faf22412-aa0b-4903-baf0-656e9d6cd4a9",
   "metadata": {},
   "outputs": [],
   "source": [
    "class RecommenderNet(keras.Model):\n",
    "    \n",
    "    def __init__(self, num_users, num_items, embedding_size=16, **kwargs):\n",
    "        \"\"\"\n",
    "           Constructor\n",
    "           :param int num_users: number of users\n",
    "           :param int num_items: number of items\n",
    "           :param int embedding_size: the size of embedding vector\n",
    "        \"\"\"\n",
    "        super(RecommenderNet, self).__init__(**kwargs)\n",
    "        self.num_users = num_users\n",
    "        self.num_items = num_items\n",
    "        self.embedding_size = embedding_size\n",
    "        \n",
    "        # Define a user_embedding vector\n",
    "        # Input dimension is the num_users\n",
    "        # Output dimension is the embedding size\n",
    "        self.user_embedding_layer = layers.Embedding(\n",
    "            input_dim=num_users,\n",
    "            output_dim=embedding_size,\n",
    "            name='user_embedding_layer',\n",
    "            embeddings_initializer=\"he_normal\",\n",
    "            embeddings_regularizer=keras.regularizers.l2(1e-6),\n",
    "        )\n",
    "        # Define a user bias layer\n",
    "        self.user_bias = layers.Embedding(\n",
    "            input_dim=num_users,\n",
    "            output_dim=1,\n",
    "            name=\"user_bias\")\n",
    "        \n",
    "        # Define an item_embedding vector\n",
    "        # Input dimension is the num_items\n",
    "        # Output dimension is the embedding size\n",
    "        self.item_embedding_layer = layers.Embedding(\n",
    "            input_dim=num_items,\n",
    "            output_dim=embedding_size,\n",
    "            name='item_embedding_layer',\n",
    "            embeddings_initializer=\"he_normal\",\n",
    "            embeddings_regularizer=keras.regularizers.l2(1e-6),\n",
    "        )\n",
    "        # Define an item bias layer\n",
    "        self.item_bias = layers.Embedding(\n",
    "            input_dim=num_items,\n",
    "            output_dim=1,\n",
    "            name=\"item_bias\")\n",
    "        \n",
    "    def call(self, inputs):\n",
    "        \"\"\"\n",
    "           method to be called during model fitting\n",
    "           \n",
    "           :param inputs: user and item one-hot vectors\n",
    "        \"\"\"\n",
    "        # Compute the user embedding vector\n",
    "        user_vector = self.user_embedding_layer(inputs[:, 0])\n",
    "        user_bias = self.user_bias(inputs[:, 0])\n",
    "        item_vector = self.item_embedding_layer(inputs[:, 1])\n",
    "        item_bias = self.item_bias(inputs[:, 1])\n",
    "        dot_user_item = tf.tensordot(user_vector, item_vector, 2)\n",
    "        # Add all the components (including bias)\n",
    "        x = dot_user_item + user_bias + item_bias\n",
    "        # Sigmoid output layer to output the probability\n",
    "        return tf.nn.relu(x)"
   ]
  },
  {
   "cell_type": "markdown",
   "id": "96e243d9-323f-486f-a0b1-ed3c365d50ab",
   "metadata": {},
   "source": [
    "### TASK: Train and evaluate the RecommenderNet()\n"
   ]
  },
  {
   "cell_type": "markdown",
   "id": "52a8447a-3ee0-4b9a-bb00-c8bc26590c22",
   "metadata": {},
   "source": [
    "Now it's time to train and evaluate the defined `RecommenderNet()`. First, we need to process the original rating dataset a little bit by converting the actual user ids and item ids into integer indices for `tensorflow` to creating the one-hot encoding vectors.\n"
   ]
  },
  {
   "cell_type": "code",
   "execution_count": 7,
   "id": "e367b70c-7373-4fc3-88c0-dee452c0f6bf",
   "metadata": {},
   "outputs": [],
   "source": [
    "def process_dataset(raw_data):\n",
    "    \n",
    "    encoded_data = raw_data.copy()\n",
    "    \n",
    "    # Mapping user ids to indices\n",
    "    user_list = encoded_data[\"user\"].unique().tolist()\n",
    "    user_id2idx_dict = {x: i for i, x in enumerate(user_list)}\n",
    "    user_idx2id_dict = {i: x for i, x in enumerate(user_list)}\n",
    "    \n",
    "    # Mapping course ids to indices\n",
    "    course_list = encoded_data[\"item\"].unique().tolist()\n",
    "    course_id2idx_dict = {x: i for i, x in enumerate(course_list)}\n",
    "    course_idx2id_dict = {i: x for i, x in enumerate(course_list)}\n",
    "\n",
    "    # Convert original user ids to idx\n",
    "    encoded_data[\"user\"] = encoded_data[\"user\"].map(user_id2idx_dict)\n",
    "    # Convert original course ids to idx\n",
    "    encoded_data[\"item\"] = encoded_data[\"item\"].map(course_id2idx_dict)\n",
    "    # Convert rating to int\n",
    "    encoded_data[\"rating\"] = encoded_data[\"rating\"].values.astype(\"int\")\n",
    "\n",
    "    return encoded_data, user_idx2id_dict, course_idx2id_dict"
   ]
  },
  {
   "cell_type": "code",
   "execution_count": 8,
   "id": "fd94664f-010a-4af4-86b5-68aaa35351b7",
   "metadata": {},
   "outputs": [],
   "source": [
    "encoded_data, user_idx2id_dict, course_idx2id_dict = process_dataset(rating_df)"
   ]
  },
  {
   "cell_type": "code",
   "execution_count": 9,
   "id": "30aa1b91-bf81-4b84-a684-1f9dc29ac8d4",
   "metadata": {},
   "outputs": [
    {
     "data": {
      "text/html": [
       "<div>\n",
       "<style scoped>\n",
       "    .dataframe tbody tr th:only-of-type {\n",
       "        vertical-align: middle;\n",
       "    }\n",
       "\n",
       "    .dataframe tbody tr th {\n",
       "        vertical-align: top;\n",
       "    }\n",
       "\n",
       "    .dataframe thead th {\n",
       "        text-align: right;\n",
       "    }\n",
       "</style>\n",
       "<table border=\"1\" class=\"dataframe\">\n",
       "  <thead>\n",
       "    <tr style=\"text-align: right;\">\n",
       "      <th></th>\n",
       "      <th>user</th>\n",
       "      <th>item</th>\n",
       "      <th>rating</th>\n",
       "    </tr>\n",
       "  </thead>\n",
       "  <tbody>\n",
       "    <tr>\n",
       "      <th>0</th>\n",
       "      <td>0</td>\n",
       "      <td>0</td>\n",
       "      <td>3</td>\n",
       "    </tr>\n",
       "    <tr>\n",
       "      <th>1</th>\n",
       "      <td>0</td>\n",
       "      <td>1</td>\n",
       "      <td>3</td>\n",
       "    </tr>\n",
       "    <tr>\n",
       "      <th>2</th>\n",
       "      <td>0</td>\n",
       "      <td>2</td>\n",
       "      <td>2</td>\n",
       "    </tr>\n",
       "    <tr>\n",
       "      <th>3</th>\n",
       "      <td>0</td>\n",
       "      <td>3</td>\n",
       "      <td>0</td>\n",
       "    </tr>\n",
       "    <tr>\n",
       "      <th>4</th>\n",
       "      <td>0</td>\n",
       "      <td>4</td>\n",
       "      <td>2</td>\n",
       "    </tr>\n",
       "  </tbody>\n",
       "</table>\n",
       "</div>"
      ],
      "text/plain": [
       "   user  item  rating\n",
       "0     0     0       3\n",
       "1     0     1       3\n",
       "2     0     2       2\n",
       "3     0     3       0\n",
       "4     0     4       2"
      ]
     },
     "execution_count": 9,
     "metadata": {},
     "output_type": "execute_result"
    }
   ],
   "source": [
    "encoded_data.head()"
   ]
  },
  {
   "cell_type": "markdown",
   "id": "04702641-1bf0-46fb-a6d8-61846dc88137",
   "metadata": {},
   "source": [
    "Then we can split the encoded dataset into training and testing datasets.\n"
   ]
  },
  {
   "cell_type": "code",
   "execution_count": 10,
   "id": "a920aacf-ea34-4809-ba7d-133ffbb0d802",
   "metadata": {},
   "outputs": [],
   "source": [
    "def generate_train_test_datasets(dataset, scale=True):\n",
    "\n",
    "    min_rating = min(dataset[\"rating\"])\n",
    "    max_rating = max(dataset[\"rating\"])\n",
    "\n",
    "    dataset = dataset.sample(frac=1, random_state=42)\n",
    "    x = dataset[[\"user\", \"item\"]].values\n",
    "    if scale:\n",
    "        y = dataset[\"rating\"].apply(lambda x: (x - min_rating) / (max_rating - min_rating)).values\n",
    "    else:\n",
    "        y = dataset[\"rating\"].values\n",
    "\n",
    "    # Assuming training on 80% of the data and validating on 10%, and testing 10%\n",
    "    train_indices = int(0.8 * dataset.shape[0])\n",
    "    test_indices = int(0.9 * dataset.shape[0])\n",
    "\n",
    "    x_train, x_val, x_test, y_train, y_val, y_test = (\n",
    "        x[:train_indices],\n",
    "        x[train_indices:test_indices],\n",
    "        x[test_indices:],\n",
    "        y[:train_indices],\n",
    "        y[train_indices:test_indices],\n",
    "        y[test_indices:],\n",
    "    )\n",
    "    return x_train, x_val, x_test, y_train, y_val, y_test"
   ]
  },
  {
   "cell_type": "code",
   "execution_count": 11,
   "metadata": {},
   "outputs": [
    {
     "data": {
      "text/plain": [
       "(10976, 222330)"
      ]
     },
     "execution_count": 11,
     "metadata": {},
     "output_type": "execute_result"
    }
   ],
   "source": [
    "a = encoded_data[\"rating\"]\n",
    "\n",
    "sum(a==2), sum(a==3)"
   ]
  },
  {
   "cell_type": "code",
   "execution_count": null,
   "metadata": {},
   "outputs": [],
   "source": []
  },
  {
   "cell_type": "code",
   "execution_count": 12,
   "id": "2ad47858-1b60-40e9-a028-b242765cffa0",
   "metadata": {},
   "outputs": [],
   "source": [
    "x_train, x_val, x_test, y_train, y_val, y_test = generate_train_test_datasets(encoded_data)"
   ]
  },
  {
   "cell_type": "markdown",
   "id": "defd2055-d0ae-4472-9e26-1d503907d202",
   "metadata": {},
   "source": [
    "If we take a look at the training input data, it is simply just a list of user indices and item indices, which is a dense format of one-hot encoding vectors.\n"
   ]
  },
  {
   "cell_type": "code",
   "execution_count": 13,
   "id": "3e3c1292-d606-42f8-bd68-0a48d55b1369",
   "metadata": {},
   "outputs": [
    {
     "data": {
      "text/plain": [
       "array([27741, 17052, 18519, ...,  6837, 29389, 16992])"
      ]
     },
     "execution_count": 13,
     "metadata": {},
     "output_type": "execute_result"
    }
   ],
   "source": [
    "user_indices = x_train[:, 0]\n",
    "user_indices"
   ]
  },
  {
   "cell_type": "code",
   "execution_count": 14,
   "id": "e2684228-e188-48c6-a0a9-c65f4e0fc8c0",
   "metadata": {},
   "outputs": [
    {
     "data": {
      "text/plain": [
       "array([ 14, 119,  58, ...,   2,  76, 113])"
      ]
     },
     "execution_count": 14,
     "metadata": {},
     "output_type": "execute_result"
    }
   ],
   "source": [
    "item_indices = x_train[:, 1]\n",
    "item_indices"
   ]
  },
  {
   "cell_type": "markdown",
   "id": "b2db4f39-1bdf-4a00-85ce-b9151076397f",
   "metadata": {},
   "source": [
    "and training output labels are a list of 0s and 1s indicating if the user has completed a course or not.\n"
   ]
  },
  {
   "cell_type": "code",
   "execution_count": 15,
   "id": "565ed3ff-f47e-47a6-8557-89a96a4350c8",
   "metadata": {},
   "outputs": [
    {
     "data": {
      "text/plain": [
       "array([1., 0., 0., ..., 0., 0., 0.])"
      ]
     },
     "execution_count": 15,
     "metadata": {},
     "output_type": "execute_result"
    }
   ],
   "source": [
    "y_train"
   ]
  },
  {
   "cell_type": "markdown",
   "id": "a987a6f4-a738-4bd1-a787-03486866398d",
   "metadata": {},
   "source": [
    "Then we can choose a small embedding vector size to be 16 and create a `RecommenderNet()` model to be trained\n"
   ]
  },
  {
   "cell_type": "code",
   "execution_count": 16,
   "id": "3a01a64a-0631-44e2-b7a2-33b87ca81835",
   "metadata": {},
   "outputs": [],
   "source": [
    "embedding_size = 16\n",
    "model = RecommenderNet(num_users, num_items, embedding_size)"
   ]
  },
  {
   "cell_type": "markdown",
   "id": "38ddd9f5-80a2-4461-a52f-96fbce46e834",
   "metadata": {},
   "source": [
    "_TODO: Train the RecommenderNet() model_\n"
   ]
  },
  {
   "cell_type": "code",
   "execution_count": 17,
   "id": "7bbe604f-ddba-49f3-a1aa-5cbd354be597",
   "metadata": {},
   "outputs": [
    {
     "name": "stdout",
     "output_type": "stream",
     "text": [
      "13333/13333 [==============================] - 67s 5ms/step - loss: 0.1572 - root_mean_squared_error: 0.3952\n"
     ]
    }
   ],
   "source": [
    "## WRITE YOUR CODE HERE:\n",
    "\n",
    "## - call model.compile() method to set up the loss and optimizer and metrics for the model training, you may use\n",
    "##  - - tf.keras.losses.MeanSquaredError() as training loss\n",
    "##  - - keras.optimizers.Adam() as optimizer\n",
    "##  - - tf.keras.metrics.RootMeanSquaredError() as metric\n",
    "\n",
    "model.compile(\n",
    "    optimizer=keras.optimizers.Adam(),\n",
    "    loss=tf.keras.losses.MeanSquaredError() ,\n",
    "    metrics=tf.keras.metrics.RootMeanSquaredError(),\n",
    ")\n",
    "\n",
    "## - call model.fit() to train the model\n",
    "history = model.fit(x=x_train,y=y_train)\n",
    "\n",
    "## - optionally call model.save() to save the model\n",
    "\n",
    "## - plot the train and validation loss\n"
   ]
  },
  {
   "cell_type": "code",
   "execution_count": 18,
   "metadata": {},
   "outputs": [
    {
     "data": {
      "text/plain": [
       "(426644, 2)"
      ]
     },
     "execution_count": 18,
     "metadata": {},
     "output_type": "execute_result"
    }
   ],
   "source": [
    "x_train.shape"
   ]
  },
  {
   "cell_type": "code",
   "execution_count": 19,
   "id": "c0fd2b01-feb6-4ae8-916d-1e2874c4f32f",
   "metadata": {},
   "outputs": [
    {
     "data": {
      "text/plain": [
       "(0.14010897278785706, 0.37183666229248047)"
      ]
     },
     "execution_count": 19,
     "metadata": {},
     "output_type": "execute_result"
    }
   ],
   "source": [
    "### WRITE YOUR CODE HERE\n",
    "\n",
    "### - call model.evaluate() to evaluate the model\n",
    "\n",
    "t_loss, t_acc = model.evaluate(x_test, y_test, verbose=0)\n",
    "\n",
    "t_loss, t_acc"
   ]
  },
  {
   "cell_type": "code",
   "execution_count": 20,
   "metadata": {},
   "outputs": [
    {
     "name": "stdout",
     "output_type": "stream",
     "text": [
      "6667/6667 [==============================] - 35s 5ms/step - loss: 0.1645 - root_mean_squared_error: 0.4047 - val_loss: 0.1453 - val_root_mean_squared_error: 0.3796\n",
      "6667/6667 [==============================] - 34s 5ms/step - loss: 0.1332 - root_mean_squared_error: 0.3626 - val_loss: 0.1387 - val_root_mean_squared_error: 0.3694\n",
      "6667/6667 [==============================] - 34s 5ms/step - loss: 0.1268 - root_mean_squared_error: 0.3524 - val_loss: 0.1395 - val_root_mean_squared_error: 0.3695\n",
      "6667/6667 [==============================] - 34s 5ms/step - loss: 0.1250 - root_mean_squared_error: 0.3489 - val_loss: 0.1412 - val_root_mean_squared_error: 0.3711\n",
      "6667/6667 [==============================] - 35s 5ms/step - loss: 0.1239 - root_mean_squared_error: 0.3467 - val_loss: 0.1419 - val_root_mean_squared_error: 0.3715\n",
      "6667/6667 [==============================] - 34s 5ms/step - loss: 0.1236 - root_mean_squared_error: 0.3458 - val_loss: 0.1424 - val_root_mean_squared_error: 0.3719\n",
      "6667/6667 [==============================] - 34s 5ms/step - loss: 0.1231 - root_mean_squared_error: 0.3448 - val_loss: 0.1443 - val_root_mean_squared_error: 0.3741\n",
      "6667/6667 [==============================] - 34s 5ms/step - loss: 0.1233 - root_mean_squared_error: 0.3448 - val_loss: 0.1443 - val_root_mean_squared_error: 0.3740\n",
      "6667/6667 [==============================] - 36s 5ms/step - loss: 0.1231 - root_mean_squared_error: 0.3444 - val_loss: 0.1457 - val_root_mean_squared_error: 0.3757\n",
      "6667/6667 [==============================] - 33s 5ms/step - loss: 0.1231 - root_mean_squared_error: 0.3443 - val_loss: 0.1460 - val_root_mean_squared_error: 0.3760\n",
      "6667/6667 [==============================] - 33s 5ms/step - loss: 0.1231 - root_mean_squared_error: 0.3442 - val_loss: 0.1463 - val_root_mean_squared_error: 0.3763\n",
      "6667/6667 [==============================] - 34s 5ms/step - loss: 0.1234 - root_mean_squared_error: 0.3445 - val_loss: 0.1467 - val_root_mean_squared_error: 0.3767\n",
      "6667/6667 [==============================] - 35s 5ms/step - loss: 0.1232 - root_mean_squared_error: 0.3442 - val_loss: 0.1465 - val_root_mean_squared_error: 0.3765\n",
      "6667/6667 [==============================] - 36s 5ms/step - loss: 0.1232 - root_mean_squared_error: 0.3442 - val_loss: 0.1465 - val_root_mean_squared_error: 0.3765\n",
      "6667/6667 [==============================] - 33s 5ms/step - loss: 0.1233 - root_mean_squared_error: 0.3442 - val_loss: 0.1474 - val_root_mean_squared_error: 0.3777\n"
     ]
    }
   ],
   "source": [
    "embedding_size = 16\n",
    "model = RecommenderNet(num_users, num_items, embedding_size)\n",
    "\n",
    "model.compile(\n",
    "    optimizer=keras.optimizers.Adam(),\n",
    "    loss=tf.keras.losses.MeanSquaredError() ,\n",
    "    metrics=tf.keras.metrics.RootMeanSquaredError(),\n",
    ")\n",
    "\n",
    "epochs = np.arange(15)+1\n",
    "\n",
    "loss = []\n",
    "val_loss = []\n",
    "rmse = []\n",
    "val_rmse = []\n",
    "test_rmse = []\n",
    "test_loss = []\n",
    "\n",
    "for epoch in epochs:\n",
    "    his = model.fit(x=x_train,y=y_train,\n",
    "                    epochs=1,\n",
    "                    batch_size=64,\n",
    "                    validation_data=(x_val, y_val),\n",
    "                    shuffle=True,\n",
    "                    verbose=1)\n",
    "\n",
    "    # update dictionaries\n",
    "    loss.append(his.history['loss'][0])\n",
    "    val_loss.append(his.history['val_loss'][0])\n",
    "    rmse.append(his.history['root_mean_squared_error'][0])\n",
    "    val_rmse.append(his.history['val_root_mean_squared_error'][0])   \n",
    "    \n",
    "    t_loss, t_rmse = model.evaluate(x_test, y_test, verbose=0)\n",
    "    test_rmse.append(t_rmse)\n",
    "    test_loss.append(t_loss)\n"
   ]
  },
  {
   "cell_type": "code",
   "execution_count": 21,
   "metadata": {},
   "outputs": [
    {
     "name": "stdout",
     "output_type": "stream",
     "text": [
      "INFO:tensorflow:Assets written to: initial.tf/assets\n"
     ]
    },
    {
     "name": "stderr",
     "output_type": "stream",
     "text": [
      "INFO:tensorflow:Assets written to: initial.tf/assets\n"
     ]
    }
   ],
   "source": [
    "model.save(\"initial.tf\")"
   ]
  },
  {
   "cell_type": "code",
   "execution_count": 22,
   "metadata": {},
   "outputs": [
    {
     "data": {
      "image/png": "[encoded data removed]",
      "text/plain": [
       "<Figure size 432x288 with 1 Axes>"
      ]
     },
     "metadata": {
      "needs_background": "light"
     },
     "output_type": "display_data"
    }
   ],
   "source": [
    "plt.plot( epochs, rmse, label=\"RMSE\" )\n",
    "plt.plot( epochs, val_rmse, label=\"val RMSE\"  )\n",
    "plt.plot( epochs, test_rmse, label=\"test RMSE\"  )\n",
    "plt.legend()\n",
    "plt.xlabel(\"epochs\")\n",
    "plt.ylabel(\"RMSE\")\n",
    "plt.savefig(\"tf_initial_training_rmse.png\")"
   ]
  },
  {
   "cell_type": "code",
   "execution_count": 23,
   "metadata": {},
   "outputs": [
    {
     "data": {
      "image/png": "[encoded data removed]",
      "text/plain": [
       "<Figure size 432x288 with 1 Axes>"
      ]
     },
     "metadata": {
      "needs_background": "light"
     },
     "output_type": "display_data"
    }
   ],
   "source": [
    "plt.plot( epochs, loss, label=\"loss\" )\n",
    "plt.plot( epochs, val_loss, label=\"val loss\"  )\n",
    "plt.plot( epochs, test_loss, label=\"test loss\"  )\n",
    "plt.legend()\n",
    "plt.xlabel(\"epochs\")\n",
    "plt.ylabel(\"loss\")\n",
    "plt.savefig(\"tf_initial_training_loss.png\")"
   ]
  },
  {
   "cell_type": "markdown",
   "id": "460e7fd3-e9c6-414d-a589-544c67588f09",
   "metadata": {},
   "source": [
    "<details>\n",
    "    <summary>Click here for Hints</summary>\n",
    "    \n",
    "When you are fitting a model, dont forget to specify the parameters: `x=x_train, y=y_train`, as well as `batch_size=64`, number of `epochs=10` and of course `validation_data=(x_val, y_val)` you can also define `verbose = 1` which will show you an animated progress for the training progress for each epoch.\n",
    "    \n",
    "* You can set  `history = model.fit()` which will give you a \"loss\" dataframe which will be very useful for ploting the train and validation loss. To plot it, use plt.plot() with `history.history[\"loss\"]` as its parameter for train loss and `history.history[\"val_loss\"]` for validation loss.\n"
   ]
  },
  {
   "cell_type": "markdown",
   "id": "46692d80-a3ff-4783-aa20-292e5274cb22",
   "metadata": {},
   "source": [
    "_TODO:_ Evaluate the trained model\n"
   ]
  },
  {
   "cell_type": "markdown",
   "id": "7bf34bc7-1352-4ad0-894b-15c8e63fa236",
   "metadata": {},
   "source": [
    "<details>\n",
    "    <summary>Click here for Hints</summary>\n",
    "    \n",
    "Use `x_test, y_test` as parameters for `model.evaluate()`\n"
   ]
  },
  {
   "cell_type": "markdown",
   "id": "6b2dcae8-dcdf-48cf-9a1e-b2837685f135",
   "metadata": {},
   "source": [
    "### Extract the user and item embedding vectors as latent feature vectors\n"
   ]
  },
  {
   "cell_type": "markdown",
   "id": "a59b09e9-4ad5-41c7-be0f-881bfc001854",
   "metadata": {},
   "source": [
    "Now, we have trained the `RecommenderNet()` model and it can predict the ratings with relatively small RMSE. \n",
    "\n",
    "If we print the trained model then we can see its layers and their parameters/weights.\n"
   ]
  },
  {
   "cell_type": "code",
   "execution_count": 24,
   "id": "8b3f3726-55e8-4fda-b9d2-6e69b9ac9bda",
   "metadata": {},
   "outputs": [
    {
     "name": "stdout",
     "output_type": "stream",
     "text": [
      "Model: \"recommender_net_1\"\n",
      "_________________________________________________________________\n",
      " Layer (type)                Output Shape              Param #   \n",
      "=================================================================\n",
      " user_embedding_layer (Embe  multiple                  542416    \n",
      " dding)                                                          \n",
      "                                                                 \n",
      " user_bias (Embedding)       multiple                  33901     \n",
      "                                                                 \n",
      " item_embedding_layer (Embe  multiple                  2016      \n",
      " dding)                                                          \n",
      "                                                                 \n",
      " item_bias (Embedding)       multiple                  126       \n",
      "                                                                 \n",
      "=================================================================\n",
      "Total params: 578459 (2.21 MB)\n",
      "Trainable params: 578459 (2.21 MB)\n",
      "Non-trainable params: 0 (0.00 Byte)\n",
      "_________________________________________________________________\n"
     ]
    }
   ],
   "source": [
    "model.summary()"
   ]
  },
  {
   "cell_type": "markdown",
   "id": "db95bc15-44e4-471f-a06a-d621e766022b",
   "metadata": {},
   "source": [
    "In the `RecommenderNet`, the `user_embedding_layer` and `item_embedding_layer` layers contain the trained weights. Essentially, they are the latent user and item features learned by `RecommenderNet` and will be used to predict the interaction. As such, while training the neural network to predict rating, the embedding layers are simultaneously trained to extract the embedding user and item features.\n"
   ]
  },
  {
   "cell_type": "markdown",
   "id": "3218e96d-4a16-442e-b15c-df9124117f89",
   "metadata": {},
   "source": [
    "We can easily get the actual weights using `model.get_layer().get_weights()` methods\n"
   ]
  },
  {
   "cell_type": "code",
   "execution_count": 25,
   "id": "0552f4b0-31d8-4ad1-8498-e875fd3c6006",
   "metadata": {},
   "outputs": [
    {
     "name": "stdout",
     "output_type": "stream",
     "text": [
      "User features shape: (33901, 16)\n"
     ]
    }
   ],
   "source": [
    "# User features\n",
    "user_latent_features = model.get_layer('user_embedding_layer').get_weights()[0]\n",
    "print(f\"User features shape: {user_latent_features.shape}\")"
   ]
  },
  {
   "cell_type": "code",
   "execution_count": 26,
   "id": "ac63d0b2-3be2-4824-bb1e-7d23ecba558c",
   "metadata": {},
   "outputs": [
    {
     "data": {
      "text/plain": [
       "array([-0.10049487, -0.02293694,  0.14888155,  0.11248738, -0.0372046 ,\n",
       "        0.21145056,  0.02992915, -0.2639748 , -0.03732561,  0.00895161,\n",
       "        0.12704588,  0.10733651,  0.09474045,  0.02664757, -0.13159654,\n",
       "        0.08813718], dtype=float32)"
      ]
     },
     "execution_count": 26,
     "metadata": {},
     "output_type": "execute_result"
    }
   ],
   "source": [
    "user_latent_features[0]"
   ]
  },
  {
   "cell_type": "code",
   "execution_count": 27,
   "id": "8271192e-8169-43a1-b2b2-ec212b801a9f",
   "metadata": {},
   "outputs": [
    {
     "name": "stdout",
     "output_type": "stream",
     "text": [
      "Item features shape: (126, 16)\n"
     ]
    }
   ],
   "source": [
    "item_latent_features = model.get_layer('item_embedding_layer').get_weights()[0]\n",
    "print(f\"Item features shape: {item_latent_features.shape}\")"
   ]
  },
  {
   "cell_type": "code",
   "execution_count": 28,
   "id": "168288c6-bee9-4e1f-a250-af934bc5522c",
   "metadata": {},
   "outputs": [
    {
     "data": {
      "text/plain": [
       "array([ 0.00310408, -0.00635062,  0.02688186, -0.017734  , -0.02998906,\n",
       "        0.02561967, -0.00568961, -0.00441351, -0.05381807,  0.02150005,\n",
       "        0.01460785,  0.03140209,  0.02231986, -0.00376707, -0.00073004,\n",
       "        0.05965859], dtype=float32)"
      ]
     },
     "execution_count": 28,
     "metadata": {},
     "output_type": "execute_result"
    }
   ],
   "source": [
    "item_latent_features[0]"
   ]
  },
  {
   "cell_type": "markdown",
   "id": "bbe6f129-c84c-4727-89b1-6f9a54da60b5",
   "metadata": {},
   "source": [
    "Now, each user of the total 33901 users has been transformed into a 16 x 1 latent feature vector and each item of the total 126 has been transformed into a 16 x 1 latent feature vector.\n"
   ]
  },
  {
   "cell_type": "markdown",
   "id": "74baca07-acde-4786-88d6-b65a9415f3ed",
   "metadata": {},
   "source": [
    "### TASK (Optional): Customize the RecommenderNet to potentially improve the model performance\n"
   ]
  },
  {
   "cell_type": "markdown",
   "id": "6622be2a-5fb7-44b7-9aca-013497180418",
   "metadata": {},
   "source": [
    "The pre-defined `RecommenderNet()` is a actually very basic neural network, you are encouraged to customize it to see if model prediction performance will be improved. Here are some directions:\n",
    "- Hyperparameter tuning, such as the embedding layer dimensions\n",
    "- Add more hidden layers\n",
    "- Try different activation functions such as `ReLu`\n"
   ]
  },
  {
   "cell_type": "code",
   "execution_count": 29,
   "id": "e20a4b90-090a-465a-b13b-4f2e3c8cbb3a",
   "metadata": {},
   "outputs": [
    {
     "name": "stdout",
     "output_type": "stream",
     "text": [
      "6667/6667 [==============================] - 70s 10ms/step - loss: 0.1763 - root_mean_squared_error: 0.4180 - val_loss: 0.1594 - val_root_mean_squared_error: 0.3956\n",
      "6667/6667 [==============================] - 66s 10ms/step - loss: 0.1507 - root_mean_squared_error: 0.3830 - val_loss: 0.1490 - val_root_mean_squared_error: 0.3794\n",
      "6667/6667 [==============================] - 72s 11ms/step - loss: 0.1389 - root_mean_squared_error: 0.3644 - val_loss: 0.1539 - val_root_mean_squared_error: 0.3832\n",
      "6667/6667 [==============================] - 69s 10ms/step - loss: 0.1396 - root_mean_squared_error: 0.3627 - val_loss: 0.1558 - val_root_mean_squared_error: 0.3833\n",
      "6667/6667 [==============================] - 72s 11ms/step - loss: 0.1416 - root_mean_squared_error: 0.3633 - val_loss: 0.1603 - val_root_mean_squared_error: 0.3872\n",
      "6667/6667 [==============================] - 70s 11ms/step - loss: 0.1430 - root_mean_squared_error: 0.3634 - val_loss: 0.1612 - val_root_mean_squared_error: 0.3868\n",
      "6667/6667 [==============================] - 69s 10ms/step - loss: 0.1447 - root_mean_squared_error: 0.3642 - val_loss: 0.1651 - val_root_mean_squared_error: 0.3905\n",
      "6667/6667 [==============================] - 70s 10ms/step - loss: 0.1466 - root_mean_squared_error: 0.3655 - val_loss: 0.1692 - val_root_mean_squared_error: 0.3947\n",
      "6667/6667 [==============================] - 69s 10ms/step - loss: 0.1480 - root_mean_squared_error: 0.3664 - val_loss: 0.1714 - val_root_mean_squared_error: 0.3965\n",
      "6667/6667 [==============================] - 72s 11ms/step - loss: 0.1494 - root_mean_squared_error: 0.3673 - val_loss: 0.1733 - val_root_mean_squared_error: 0.3980\n",
      "6667/6667 [==============================] - 72s 11ms/step - loss: 0.1503 - root_mean_squared_error: 0.3677 - val_loss: 0.1720 - val_root_mean_squared_error: 0.3958\n",
      "6667/6667 [==============================] - 69s 10ms/step - loss: 0.1515 - root_mean_squared_error: 0.3685 - val_loss: 0.1755 - val_root_mean_squared_error: 0.3995\n",
      "6667/6667 [==============================] - 68s 10ms/step - loss: 0.1532 - root_mean_squared_error: 0.3702 - val_loss: 0.1769 - val_root_mean_squared_error: 0.4007\n",
      "6667/6667 [==============================] - 68s 10ms/step - loss: 0.1534 - root_mean_squared_error: 0.3699 - val_loss: 0.1781 - val_root_mean_squared_error: 0.4017\n",
      "6667/6667 [==============================] - 69s 10ms/step - loss: 0.1550 - root_mean_squared_error: 0.3717 - val_loss: 0.1789 - val_root_mean_squared_error: 0.4022\n"
     ]
    },
    {
     "data": {
      "image/png": "[encoded data removed]",
      "text/plain": [
       "<Figure size 432x288 with 1 Axes>"
      ]
     },
     "metadata": {
      "needs_background": "light"
     },
     "output_type": "display_data"
    }
   ],
   "source": [
    "## WRITE YOUR CODE HERE\n",
    "\n",
    "## Update RecommenderNet() class\n",
    "\n",
    "## compile and fit the updated model\n",
    "\n",
    "## evaluate the updated model\n",
    "\n",
    "embedding_size = 32\n",
    "model = RecommenderNet(num_users, num_items, embedding_size)\n",
    "\n",
    "model.compile(\n",
    "    optimizer=keras.optimizers.Adam(),\n",
    "    loss=tf.keras.losses.MeanSquaredError() ,\n",
    "    metrics=tf.keras.metrics.RootMeanSquaredError(),\n",
    ")\n",
    "\n",
    "epochs = np.arange(15)+1\n",
    "\n",
    "loss = []\n",
    "val_loss = []\n",
    "rmse = []\n",
    "val_rmse = []\n",
    "test_rmse = []\n",
    "test_loss = []\n",
    "\n",
    "for epoch in epochs:\n",
    "    his = model.fit(x=x_train,y=y_train,\n",
    "                    epochs=1,\n",
    "                    batch_size=64,\n",
    "                    validation_data=(x_val, y_val),\n",
    "                    shuffle=True,\n",
    "                    verbose=1)\n",
    "\n",
    "    # update dictionaries\n",
    "    loss.append(his.history['loss'][0])\n",
    "    val_loss.append(his.history['val_loss'][0])\n",
    "    rmse.append(his.history['root_mean_squared_error'][0])\n",
    "    val_rmse.append(his.history['val_root_mean_squared_error'][0])   \n",
    "    \n",
    "    t_loss, t_rmse = model.evaluate(x_test, y_test, verbose=0)\n",
    "    test_rmse.append(t_rmse)\n",
    "    test_loss.append(t_loss)\n",
    "\n",
    "    \n",
    "plt.plot( epochs, rmse, label=\"RMSE\" )\n",
    "plt.plot( epochs, val_rmse, label=\"val RMSE\"  )\n",
    "plt.plot( epochs, test_rmse, label=\"test RMSE\"  )\n",
    "plt.legend()\n",
    "plt.xlabel(\"epochs\")\n",
    "plt.ylabel(\"RMSE\")\n",
    "plt.savefig(\"tf_initial_training_rmse_32.png\")    "
   ]
  },
  {
   "cell_type": "code",
   "execution_count": 30,
   "metadata": {},
   "outputs": [
    {
     "name": "stdout",
     "output_type": "stream",
     "text": [
      "6667/6667 [==============================] - 41s 6ms/step - loss: 0.1671 - root_mean_squared_error: 0.4077 - val_loss: 0.1468 - val_root_mean_squared_error: 0.3810\n",
      "6667/6667 [==============================] - 42s 6ms/step - loss: 0.1367 - root_mean_squared_error: 0.3667 - val_loss: 0.1408 - val_root_mean_squared_error: 0.3715\n",
      "6667/6667 [==============================] - 42s 6ms/step - loss: 0.1296 - root_mean_squared_error: 0.3552 - val_loss: 0.1414 - val_root_mean_squared_error: 0.3707\n",
      "6667/6667 [==============================] - 39s 6ms/step - loss: 0.1279 - root_mean_squared_error: 0.3515 - val_loss: 0.1433 - val_root_mean_squared_error: 0.3723\n",
      "6667/6667 [==============================] - 39s 6ms/step - loss: 0.1271 - root_mean_squared_error: 0.3495 - val_loss: 0.1458 - val_root_mean_squared_error: 0.3749\n",
      "6667/6667 [==============================] - 42s 6ms/step - loss: 0.1273 - root_mean_squared_error: 0.3490 - val_loss: 0.1465 - val_root_mean_squared_error: 0.3752\n",
      "6667/6667 [==============================] - 42s 6ms/step - loss: 0.1271 - root_mean_squared_error: 0.3481 - val_loss: 0.1472 - val_root_mean_squared_error: 0.3757\n",
      "6667/6667 [==============================] - 43s 6ms/step - loss: 0.1273 - root_mean_squared_error: 0.3481 - val_loss: 0.1482 - val_root_mean_squared_error: 0.3768\n",
      "6667/6667 [==============================] - 43s 6ms/step - loss: 0.1277 - root_mean_squared_error: 0.3482 - val_loss: 0.1492 - val_root_mean_squared_error: 0.3777\n",
      "6667/6667 [==============================] - 42s 6ms/step - loss: 0.1278 - root_mean_squared_error: 0.3482 - val_loss: 0.1505 - val_root_mean_squared_error: 0.3793\n",
      "6667/6667 [==============================] - 42s 6ms/step - loss: 0.1281 - root_mean_squared_error: 0.3484 - val_loss: 0.1503 - val_root_mean_squared_error: 0.3788\n",
      "6667/6667 [==============================] - 43s 6ms/step - loss: 0.1280 - root_mean_squared_error: 0.3482 - val_loss: 0.1502 - val_root_mean_squared_error: 0.3786\n",
      "6667/6667 [==============================] - 42s 6ms/step - loss: 0.1280 - root_mean_squared_error: 0.3481 - val_loss: 0.1512 - val_root_mean_squared_error: 0.3799\n",
      "6667/6667 [==============================] - 43s 7ms/step - loss: 0.1284 - root_mean_squared_error: 0.3485 - val_loss: 0.1515 - val_root_mean_squared_error: 0.3802\n",
      "6667/6667 [==============================] - 42s 6ms/step - loss: 0.1282 - root_mean_squared_error: 0.3481 - val_loss: 0.1530 - val_root_mean_squared_error: 0.3821\n"
     ]
    },
    {
     "data": {
      "image/png": "[encoded data removed]",
      "text/plain": [
       "<Figure size 432x288 with 1 Axes>"
      ]
     },
     "metadata": {
      "needs_background": "light"
     },
     "output_type": "display_data"
    }
   ],
   "source": [
    "## WRITE YOUR CODE HERE\n",
    "\n",
    "## Update RecommenderNet() class\n",
    "\n",
    "## compile and fit the updated model\n",
    "\n",
    "## evaluate the updated model\n",
    "\n",
    "embedding_size = 20\n",
    "model = RecommenderNet(num_users, num_items, embedding_size)\n",
    "\n",
    "model.compile(\n",
    "    optimizer=keras.optimizers.Adam(),\n",
    "    loss=tf.keras.losses.MeanSquaredError() ,\n",
    "    metrics=tf.keras.metrics.RootMeanSquaredError(),\n",
    ")\n",
    "\n",
    "epochs = np.arange(15)+1\n",
    "\n",
    "loss = []\n",
    "val_loss = []\n",
    "rmse = []\n",
    "val_rmse = []\n",
    "test_rmse = []\n",
    "test_loss = []\n",
    "\n",
    "for epoch in epochs:\n",
    "    his = model.fit(x=x_train,y=y_train,\n",
    "                    epochs=1,\n",
    "                    batch_size=64,\n",
    "                    validation_data=(x_val, y_val),\n",
    "                    shuffle=True,\n",
    "                    verbose=1)\n",
    "\n",
    "    # update dictionaries\n",
    "    loss.append(his.history['loss'][0])\n",
    "    val_loss.append(his.history['val_loss'][0])\n",
    "    rmse.append(his.history['root_mean_squared_error'][0])\n",
    "    val_rmse.append(his.history['val_root_mean_squared_error'][0])   \n",
    "    \n",
    "    t_loss, t_rmse = model.evaluate(x_test, y_test, verbose=0)\n",
    "    test_rmse.append(t_rmse)\n",
    "    test_loss.append(t_loss)\n",
    "\n",
    "    \n",
    "plt.plot( epochs, rmse, label=\"RMSE\" )\n",
    "plt.plot( epochs, val_rmse, label=\"val RMSE\"  )\n",
    "plt.plot( epochs, test_rmse, label=\"test RMSE\"  )\n",
    "plt.legend()\n",
    "plt.xlabel(\"epochs\")\n",
    "plt.ylabel(\"RMSE\")\n",
    "plt.savefig(\"tf_initial_training_rmse_20.png\")   "
   ]
  },
  {
   "cell_type": "code",
   "execution_count": 31,
   "metadata": {},
   "outputs": [
    {
     "name": "stdout",
     "output_type": "stream",
     "text": [
      "6667/6667 [==============================] - 25s 4ms/step - loss: 0.1633 - root_mean_squared_error: 0.4036 - val_loss: 0.1420 - val_root_mean_squared_error: 0.3757\n",
      "6667/6667 [==============================] - 26s 4ms/step - loss: 0.1310 - root_mean_squared_error: 0.3603 - val_loss: 0.1367 - val_root_mean_squared_error: 0.3676\n",
      "6667/6667 [==============================] - 26s 4ms/step - loss: 0.1246 - root_mean_squared_error: 0.3504 - val_loss: 0.1375 - val_root_mean_squared_error: 0.3680\n",
      "6667/6667 [==============================] - 27s 4ms/step - loss: 0.1224 - root_mean_squared_error: 0.3466 - val_loss: 0.1381 - val_root_mean_squared_error: 0.3683\n",
      "6667/6667 [==============================] - 26s 4ms/step - loss: 0.1213 - root_mean_squared_error: 0.3447 - val_loss: 0.1393 - val_root_mean_squared_error: 0.3696\n",
      "6667/6667 [==============================] - 27s 4ms/step - loss: 0.1206 - root_mean_squared_error: 0.3433 - val_loss: 0.1397 - val_root_mean_squared_error: 0.3700\n",
      "6667/6667 [==============================] - 33s 5ms/step - loss: 0.1201 - root_mean_squared_error: 0.3425 - val_loss: 0.1409 - val_root_mean_squared_error: 0.3715\n",
      "6667/6667 [==============================] - 24s 4ms/step - loss: 0.1201 - root_mean_squared_error: 0.3423 - val_loss: 0.1415 - val_root_mean_squared_error: 0.3722\n",
      "6667/6667 [==============================] - 28s 4ms/step - loss: 0.1199 - root_mean_squared_error: 0.3419 - val_loss: 0.1418 - val_root_mean_squared_error: 0.3726\n",
      "6667/6667 [==============================] - 26s 4ms/step - loss: 0.1198 - root_mean_squared_error: 0.3417 - val_loss: 0.1423 - val_root_mean_squared_error: 0.3732\n",
      "6667/6667 [==============================] - 26s 4ms/step - loss: 0.1197 - root_mean_squared_error: 0.3415 - val_loss: 0.1423 - val_root_mean_squared_error: 0.3732\n",
      "6667/6667 [==============================] - 30s 5ms/step - loss: 0.1197 - root_mean_squared_error: 0.3415 - val_loss: 0.1424 - val_root_mean_squared_error: 0.3732\n",
      "6667/6667 [==============================] - 26s 4ms/step - loss: 0.1196 - root_mean_squared_error: 0.3414 - val_loss: 0.1432 - val_root_mean_squared_error: 0.3744\n",
      "6667/6667 [==============================] - 27s 4ms/step - loss: 0.1196 - root_mean_squared_error: 0.3414 - val_loss: 0.1429 - val_root_mean_squared_error: 0.3740\n",
      "6667/6667 [==============================] - 30s 5ms/step - loss: 0.1196 - root_mean_squared_error: 0.3414 - val_loss: 0.1432 - val_root_mean_squared_error: 0.3744\n"
     ]
    },
    {
     "data": {
      "image/png": "[encoded data removed]",
      "text/plain": [
       "<Figure size 432x288 with 1 Axes>"
      ]
     },
     "metadata": {
      "needs_background": "light"
     },
     "output_type": "display_data"
    }
   ],
   "source": [
    "## WRITE YOUR CODE HERE\n",
    "\n",
    "## Update RecommenderNet() class\n",
    "\n",
    "## compile and fit the updated model\n",
    "\n",
    "## evaluate the updated model\n",
    "\n",
    "embedding_size = 12\n",
    "model = RecommenderNet(num_users, num_items, embedding_size)\n",
    "\n",
    "model.compile(\n",
    "    optimizer=keras.optimizers.Adam(),\n",
    "    loss=tf.keras.losses.MeanSquaredError() ,\n",
    "    metrics=tf.keras.metrics.RootMeanSquaredError(),\n",
    ")\n",
    "\n",
    "epochs = np.arange(15)+1\n",
    "\n",
    "loss = []\n",
    "val_loss = []\n",
    "rmse = []\n",
    "val_rmse = []\n",
    "test_rmse = []\n",
    "test_loss = []\n",
    "\n",
    "for epoch in epochs:\n",
    "    his = model.fit(x=x_train,y=y_train,\n",
    "                    epochs=1,\n",
    "                    batch_size=64,\n",
    "                    validation_data=(x_val, y_val),\n",
    "                    shuffle=True,\n",
    "                    verbose=1)\n",
    "\n",
    "    # update dictionaries\n",
    "    loss.append(his.history['loss'][0])\n",
    "    val_loss.append(his.history['val_loss'][0])\n",
    "    rmse.append(his.history['root_mean_squared_error'][0])\n",
    "    val_rmse.append(his.history['val_root_mean_squared_error'][0])   \n",
    "    \n",
    "    t_loss, t_rmse = model.evaluate(x_test, y_test, verbose=0)\n",
    "    test_rmse.append(t_rmse)\n",
    "    test_loss.append(t_loss)\n",
    "\n",
    "    \n",
    "plt.plot( epochs, rmse, label=\"RMSE\" )\n",
    "plt.plot( epochs, val_rmse, label=\"val RMSE\"  )\n",
    "plt.plot( epochs, test_rmse, label=\"test RMSE\"  )\n",
    "plt.legend()\n",
    "plt.xlabel(\"epochs\")\n",
    "plt.ylabel(\"RMSE\")\n",
    "plt.savefig(\"tf_initial_training_rmse_12.png\")   "
   ]
  },
  {
   "cell_type": "code",
   "execution_count": 32,
   "metadata": {},
   "outputs": [
    {
     "data": {
      "text/plain": [
       "[0.37604886293411255,\n",
       " 0.3671512305736542,\n",
       " 0.36594676971435547,\n",
       " 0.36676934361457825,\n",
       " 0.3681420087814331,\n",
       " 0.3685310184955597,\n",
       " 0.3693356215953827,\n",
       " 0.3702830970287323,\n",
       " 0.3708357810974121,\n",
       " 0.37115591764450073,\n",
       " 0.37186717987060547,\n",
       " 0.3716149628162384,\n",
       " 0.3721155524253845,\n",
       " 0.3720521032810211,\n",
       " 0.3721325695514679]"
      ]
     },
     "execution_count": 32,
     "metadata": {},
     "output_type": "execute_result"
    }
   ],
   "source": [
    "test_rmse"
   ]
  },
  {
   "cell_type": "code",
   "execution_count": 33,
   "metadata": {},
   "outputs": [
    {
     "data": {
      "image/png": "[encoded data removed]",
      "text/plain": [
       "<Figure size 432x288 with 1 Axes>"
      ]
     },
     "metadata": {
      "needs_background": "light"
     },
     "output_type": "display_data"
    }
   ],
   "source": [
    "plt.plot( epochs, loss, label=\"loss\" )\n",
    "plt.plot( epochs, val_loss, label=\"val loss\"  )\n",
    "plt.plot( epochs, test_loss, label=\"test loss\"  )\n",
    "plt.legend()\n",
    "plt.xlabel(\"epochs\")\n",
    "plt.ylabel(\"loss\")\n",
    "plt.savefig(\"tf_initial_training_loss_12.png\")"
   ]
  },
  {
   "cell_type": "code",
   "execution_count": 34,
   "metadata": {},
   "outputs": [
    {
     "name": "stdout",
     "output_type": "stream",
     "text": [
      "1667/1667 [==============================] - 2s 1ms/step\n"
     ]
    }
   ],
   "source": [
    "pred = model.predict(x_test)"
   ]
  },
  {
   "cell_type": "code",
   "execution_count": 35,
   "metadata": {},
   "outputs": [
    {
     "data": {
      "text/plain": [
       "(array([0.], dtype=float32), array([1.6480238], dtype=float32))"
      ]
     },
     "execution_count": 35,
     "metadata": {},
     "output_type": "execute_result"
    }
   ],
   "source": [
    "min(pred), max(pred)"
   ]
  },
  {
   "cell_type": "code",
   "execution_count": 36,
   "metadata": {},
   "outputs": [
    {
     "name": "stdout",
     "output_type": "stream",
     "text": [
      "INFO:tensorflow:Assets written to: initial_12.tf/assets\n"
     ]
    },
    {
     "name": "stderr",
     "output_type": "stream",
     "text": [
      "INFO:tensorflow:Assets written to: initial_12.tf/assets\n"
     ]
    }
   ],
   "source": [
    "model.save(\"initial_12.tf\")"
   ]
  },
  {
   "cell_type": "code",
   "execution_count": 37,
   "metadata": {},
   "outputs": [
    {
     "name": "stdout",
     "output_type": "stream",
     "text": [
      "6667/6667 [==============================] - 25s 4ms/step - loss: 0.1615 - root_mean_squared_error: 0.4015 - val_loss: 0.1386 - val_root_mean_squared_error: 0.3715\n",
      "6667/6667 [==============================] - 23s 3ms/step - loss: 0.1291 - root_mean_squared_error: 0.3583 - val_loss: 0.1346 - val_root_mean_squared_error: 0.3656\n",
      "6667/6667 [==============================] - 25s 4ms/step - loss: 0.1231 - root_mean_squared_error: 0.3492 - val_loss: 0.1355 - val_root_mean_squared_error: 0.3663\n",
      "6667/6667 [==============================] - 23s 3ms/step - loss: 0.1206 - root_mean_squared_error: 0.3453 - val_loss: 0.1364 - val_root_mean_squared_error: 0.3673\n",
      "6667/6667 [==============================] - 23s 3ms/step - loss: 0.1192 - root_mean_squared_error: 0.3430 - val_loss: 0.1370 - val_root_mean_squared_error: 0.3679\n",
      "6667/6667 [==============================] - 22s 3ms/step - loss: 0.1183 - root_mean_squared_error: 0.3416 - val_loss: 0.1380 - val_root_mean_squared_error: 0.3693\n",
      "6667/6667 [==============================] - 22s 3ms/step - loss: 0.1179 - root_mean_squared_error: 0.3409 - val_loss: 0.1382 - val_root_mean_squared_error: 0.3695\n",
      "6667/6667 [==============================] - 23s 3ms/step - loss: 0.1175 - root_mean_squared_error: 0.3403 - val_loss: 0.1386 - val_root_mean_squared_error: 0.3700\n",
      "6667/6667 [==============================] - 23s 3ms/step - loss: 0.1173 - root_mean_squared_error: 0.3400 - val_loss: 0.1393 - val_root_mean_squared_error: 0.3709\n",
      "6667/6667 [==============================] - 23s 3ms/step - loss: 0.1172 - root_mean_squared_error: 0.3398 - val_loss: 0.1396 - val_root_mean_squared_error: 0.3713\n",
      "6667/6667 [==============================] - 27s 4ms/step - loss: 0.1171 - root_mean_squared_error: 0.3396 - val_loss: 0.1399 - val_root_mean_squared_error: 0.3717\n",
      "6667/6667 [==============================] - 20s 3ms/step - loss: 0.1171 - root_mean_squared_error: 0.3397 - val_loss: 0.1402 - val_root_mean_squared_error: 0.3720\n",
      "6667/6667 [==============================] - 21s 3ms/step - loss: 0.1171 - root_mean_squared_error: 0.3395 - val_loss: 0.1403 - val_root_mean_squared_error: 0.3721\n",
      "6667/6667 [==============================] - 23s 4ms/step - loss: 0.1170 - root_mean_squared_error: 0.3394 - val_loss: 0.1405 - val_root_mean_squared_error: 0.3724\n",
      "6667/6667 [==============================] - 21s 3ms/step - loss: 0.1170 - root_mean_squared_error: 0.3395 - val_loss: 0.1408 - val_root_mean_squared_error: 0.3728\n"
     ]
    },
    {
     "data": {
      "text/plain": [
       "[0.37356945872306824,\n",
       " 0.3658791184425354,\n",
       " 0.36526229977607727,\n",
       " 0.3662341237068176,\n",
       " 0.3665378987789154,\n",
       " 0.3680715262889862,\n",
       " 0.36822137236595154,\n",
       " 0.36901187896728516,\n",
       " 0.36984336376190186,\n",
       " 0.36969828605651855,\n",
       " 0.3704058825969696,\n",
       " 0.37071096897125244,\n",
       " 0.3709266781806946,\n",
       " 0.37102246284484863,\n",
       " 0.3714772164821625]"
      ]
     },
     "execution_count": 37,
     "metadata": {},
     "output_type": "execute_result"
    },
    {
     "data": {
      "image/png": "[encoded data removed]",
      "text/plain": [
       "<Figure size 432x288 with 1 Axes>"
      ]
     },
     "metadata": {
      "needs_background": "light"
     },
     "output_type": "display_data"
    }
   ],
   "source": [
    "## WRITE YOUR CODE HERE\n",
    "\n",
    "## Update RecommenderNet() class\n",
    "\n",
    "## compile and fit the updated model\n",
    "\n",
    "## evaluate the updated model\n",
    "\n",
    "embedding_size = 8\n",
    "model = RecommenderNet(num_users, num_items, embedding_size)\n",
    "\n",
    "model.compile(\n",
    "    optimizer=keras.optimizers.Adam(),\n",
    "    loss=tf.keras.losses.MeanSquaredError() ,\n",
    "    metrics=tf.keras.metrics.RootMeanSquaredError(),\n",
    ")\n",
    "\n",
    "epochs = np.arange(15)+1\n",
    "\n",
    "loss = []\n",
    "val_loss = []\n",
    "rmse = []\n",
    "val_rmse = []\n",
    "test_rmse = []\n",
    "test_loss = []\n",
    "\n",
    "for epoch in epochs:\n",
    "    his = model.fit(x=x_train,y=y_train,\n",
    "                    epochs=1,\n",
    "                    batch_size=64,\n",
    "                    validation_data=(x_val, y_val),\n",
    "                    shuffle=True,\n",
    "                    verbose=1)\n",
    "\n",
    "    # update dictionaries\n",
    "    loss.append(his.history['loss'][0])\n",
    "    val_loss.append(his.history['val_loss'][0])\n",
    "    rmse.append(his.history['root_mean_squared_error'][0])\n",
    "    val_rmse.append(his.history['val_root_mean_squared_error'][0])   \n",
    "    \n",
    "    t_loss, t_rmse = model.evaluate(x_test, y_test, verbose=0)\n",
    "    test_rmse.append(t_rmse)\n",
    "    test_loss.append(t_loss)\n",
    "\n",
    "    \n",
    "plt.plot( epochs, rmse, label=\"RMSE\" )\n",
    "plt.plot( epochs, val_rmse, label=\"val RMSE\"  )\n",
    "plt.plot( epochs, test_rmse, label=\"test RMSE\"  )\n",
    "plt.legend()\n",
    "plt.xlabel(\"epochs\")\n",
    "plt.ylabel(\"RMSE\")\n",
    "plt.savefig(\"tf_initial_training_rmse_8.png\")   \n",
    "test_rmse"
   ]
  },
  {
   "cell_type": "code",
   "execution_count": 38,
   "metadata": {},
   "outputs": [
    {
     "data": {
      "image/png": "[encoded data removed]",
      "text/plain": [
       "<Figure size 432x288 with 1 Axes>"
      ]
     },
     "metadata": {
      "needs_background": "light"
     },
     "output_type": "display_data"
    }
   ],
   "source": [
    "plt.plot( epochs, loss, label=\"loss\" )\n",
    "plt.plot( epochs, val_loss, label=\"val loss\"  )\n",
    "plt.plot( epochs, test_loss, label=\"test loss\"  )\n",
    "plt.legend()\n",
    "plt.xlabel(\"epochs\")\n",
    "plt.ylabel(\"loss\")\n",
    "plt.savefig(\"tf_initial_training_loss_8.png\")"
   ]
  },
  {
   "cell_type": "code",
   "execution_count": 39,
   "metadata": {},
   "outputs": [
    {
     "name": "stdout",
     "output_type": "stream",
     "text": [
      "6667/6667 [==============================] - 19s 3ms/step - loss: 0.1607 - root_mean_squared_error: 0.4006 - val_loss: 0.1385 - val_root_mean_squared_error: 0.3716\n",
      "6667/6667 [==============================] - 18s 3ms/step - loss: 0.1285 - root_mean_squared_error: 0.3577 - val_loss: 0.1343 - val_root_mean_squared_error: 0.3654\n",
      "6667/6667 [==============================] - 18s 3ms/step - loss: 0.1224 - root_mean_squared_error: 0.3486 - val_loss: 0.1346 - val_root_mean_squared_error: 0.3656\n",
      "6667/6667 [==============================] - 18s 3ms/step - loss: 0.1198 - root_mean_squared_error: 0.3447 - val_loss: 0.1358 - val_root_mean_squared_error: 0.3671\n",
      "6667/6667 [==============================] - 21s 3ms/step - loss: 0.1184 - root_mean_squared_error: 0.3425 - val_loss: 0.1362 - val_root_mean_squared_error: 0.3675\n",
      "6667/6667 [==============================] - 18s 3ms/step - loss: 0.1174 - root_mean_squared_error: 0.3410 - val_loss: 0.1371 - val_root_mean_squared_error: 0.3687\n",
      "6667/6667 [==============================] - 18s 3ms/step - loss: 0.1169 - root_mean_squared_error: 0.3402 - val_loss: 0.1373 - val_root_mean_squared_error: 0.3689\n",
      "6667/6667 [==============================] - 18s 3ms/step - loss: 0.1166 - root_mean_squared_error: 0.3396 - val_loss: 0.1379 - val_root_mean_squared_error: 0.3697\n",
      "6667/6667 [==============================] - 17s 3ms/step - loss: 0.1164 - root_mean_squared_error: 0.3393 - val_loss: 0.1384 - val_root_mean_squared_error: 0.3704\n",
      "6667/6667 [==============================] - 18s 3ms/step - loss: 0.1162 - root_mean_squared_error: 0.3391 - val_loss: 0.1386 - val_root_mean_squared_error: 0.3706\n"
     ]
    },
    {
     "data": {
      "text/plain": [
       "[0.3743419051170349,\n",
       " 0.36529362201690674,\n",
       " 0.36491262912750244,\n",
       " 0.3661102056503296,\n",
       " 0.36668604612350464,\n",
       " 0.36729589104652405,\n",
       " 0.3681887686252594,\n",
       " 0.3688940405845642,\n",
       " 0.3691123127937317,\n",
       " 0.3695491850376129]"
      ]
     },
     "execution_count": 39,
     "metadata": {},
     "output_type": "execute_result"
    },
    {
     "data": {
      "image/png": "[encoded data removed]",
      "text/plain": [
       "<Figure size 432x288 with 1 Axes>"
      ]
     },
     "metadata": {
      "needs_background": "light"
     },
     "output_type": "display_data"
    }
   ],
   "source": [
    "## WRITE YOUR CODE HERE\n",
    "\n",
    "## Update RecommenderNet() class\n",
    "\n",
    "## compile and fit the updated model\n",
    "\n",
    "## evaluate the updated model\n",
    "\n",
    "embedding_size = 6\n",
    "model = RecommenderNet(num_users, num_items, embedding_size)\n",
    "\n",
    "model.compile(\n",
    "    optimizer=keras.optimizers.Adam(),\n",
    "    loss=tf.keras.losses.MeanSquaredError() ,\n",
    "    metrics=tf.keras.metrics.RootMeanSquaredError(),\n",
    ")\n",
    "\n",
    "epochs = np.arange(10)+1\n",
    "\n",
    "loss = []\n",
    "val_loss = []\n",
    "rmse = []\n",
    "val_rmse = []\n",
    "test_rmse = []\n",
    "test_loss = []\n",
    "\n",
    "for epoch in epochs:\n",
    "    his = model.fit(x=x_train,y=y_train,\n",
    "                    epochs=1,\n",
    "                    batch_size=64,\n",
    "                    validation_data=(x_val, y_val),\n",
    "                    shuffle=True,\n",
    "                    verbose=1)\n",
    "\n",
    "    # update dictionaries\n",
    "    loss.append(his.history['loss'][0])\n",
    "    val_loss.append(his.history['val_loss'][0])\n",
    "    rmse.append(his.history['root_mean_squared_error'][0])\n",
    "    val_rmse.append(his.history['val_root_mean_squared_error'][0])   \n",
    "    \n",
    "    t_loss, t_rmse = model.evaluate(x_test, y_test, verbose=0)\n",
    "    test_rmse.append(t_rmse)\n",
    "    test_loss.append(t_loss)\n",
    "\n",
    "    \n",
    "plt.plot( epochs, rmse, label=\"RMSE\" )\n",
    "plt.plot( epochs, val_rmse, label=\"val RMSE\"  )\n",
    "plt.plot( epochs, test_rmse, label=\"test RMSE\"  )\n",
    "plt.legend()\n",
    "plt.xlabel(\"epochs\")\n",
    "plt.ylabel(\"RMSE\")\n",
    "plt.savefig(\"tf_initial_training_rmse_6.png\")   \n",
    "test_rmse"
   ]
  },
  {
   "cell_type": "code",
   "execution_count": 40,
   "metadata": {},
   "outputs": [
    {
     "data": {
      "image/png": "[encoded data removed]",
      "text/plain": [
       "<Figure size 432x288 with 1 Axes>"
      ]
     },
     "metadata": {
      "needs_background": "light"
     },
     "output_type": "display_data"
    }
   ],
   "source": [
    "plt.plot( epochs, loss, label=\"loss\" )\n",
    "plt.plot( epochs, val_loss, label=\"val loss\"  )\n",
    "plt.plot( epochs, test_loss, label=\"test loss\"  )\n",
    "plt.legend()\n",
    "plt.xlabel(\"epochs\")\n",
    "plt.ylabel(\"loss\")\n",
    "plt.savefig(\"tf_initial_training_loss_6.png\")"
   ]
  },
  {
   "cell_type": "code",
   "execution_count": 42,
   "metadata": {},
   "outputs": [
    {
     "name": "stdout",
     "output_type": "stream",
     "text": [
      "1667/1667 [==============================] - 1s 816us/step\n"
     ]
    }
   ],
   "source": [
    "a = model.predict(x_test)"
   ]
  },
  {
   "cell_type": "markdown",
   "id": "7e440692-1478-4c78-bd9e-a72075d3c48b",
   "metadata": {},
   "source": [
    "### Summary\n"
   ]
  },
  {
   "cell_type": "code",
   "execution_count": 43,
   "metadata": {},
   "outputs": [
    {
     "data": {
      "text/plain": [
       "(array([0.], dtype=float32), array([1.5985878], dtype=float32))"
      ]
     },
     "execution_count": 43,
     "metadata": {},
     "output_type": "execute_result"
    }
   ],
   "source": [
    "min(a) , max(a)"
   ]
  },
  {
   "cell_type": "code",
   "execution_count": 45,
   "metadata": {},
   "outputs": [
    {
     "data": {
      "text/plain": [
       "(0.0, 1.0)"
      ]
     },
     "execution_count": 45,
     "metadata": {},
     "output_type": "execute_result"
    }
   ],
   "source": [
    "min(y_test) , max(y_test)"
   ]
  },
  {
   "cell_type": "code",
   "execution_count": 50,
   "metadata": {},
   "outputs": [
    {
     "data": {
      "text/plain": [
       "[<matplotlib.lines.Line2D at 0x7f8bad7f07f0>]"
      ]
     },
     "execution_count": 50,
     "metadata": {},
     "output_type": "execute_result"
    },
    {
     "data": {
      "image/png": "[encoded data removed]",
      "text/plain": [
       "<Figure size 432x288 with 1 Axes>"
      ]
     },
     "metadata": {
      "needs_background": "light"
     },
     "output_type": "display_data"
    }
   ],
   "source": [
    "b = np.sort(  np.squeeze(a) )\n",
    "plt.plot(b)"
   ]
  },
  {
   "cell_type": "code",
   "execution_count": 51,
   "metadata": {},
   "outputs": [
    {
     "data": {
      "text/plain": [
       "0.0724531698261799"
      ]
     },
     "execution_count": 51,
     "metadata": {},
     "output_type": "execute_result"
    }
   ],
   "source": [
    "len( b[b>1] ) / len(b)"
   ]
  },
  {
   "cell_type": "code",
   "execution_count": 52,
   "metadata": {},
   "outputs": [
    {
     "data": {
      "text/plain": [
       "0.03307644709456039"
      ]
     },
     "execution_count": 52,
     "metadata": {},
     "output_type": "execute_result"
    }
   ],
   "source": [
    "len( b[b>1.1] ) / len(b)"
   ]
  },
  {
   "cell_type": "markdown",
   "id": "6372a6ab-939e-4021-bde4-f1ff001b8ffa",
   "metadata": {},
   "source": [
    "In this lab, you have learned and practiced predicting course ratings using neural networks. With a predefined and trained neural network, we can extract or embed users and items into latent feature spaces and further predict the interaction between a user and an item with the latent feature vectors.\n"
   ]
  },
  {
   "cell_type": "markdown",
   "id": "945af885-a6f2-41d5-9202-7d4244ef105e",
   "metadata": {},
   "source": [
    "## Authors\n"
   ]
  },
  {
   "cell_type": "markdown",
   "id": "72ed86a8-96a1-4ebf-a0da-d6af1741d602",
   "metadata": {},
   "source": [
    "[Yan Luo](https://www.linkedin.com/in/yan-luo-96288783/?utm_medium=Exinfluencer&utm_source=Exinfluencer&utm_content=000026UJ&utm_term=10006555&utm_id=NA-SkillsNetwork-Channel-SkillsNetworkCoursesIBMML321ENSkillsNetwork817-2022-01-01)\n"
   ]
  },
  {
   "cell_type": "markdown",
   "id": "45344dbe-00e3-4158-b8a1-14f18834498d",
   "metadata": {},
   "source": [
    "### Other Contributors\n"
   ]
  },
  {
   "cell_type": "markdown",
   "id": "162ef0e9-adbe-4327-8974-2e05d43ef9d5",
   "metadata": {},
   "source": [
    "## Change Log\n"
   ]
  },
  {
   "cell_type": "markdown",
   "id": "8928ccd7-368c-4a55-a53d-c3fb3ae6e5b0",
   "metadata": {},
   "source": [
    "|Date (YYYY-MM-DD)|Version|Changed By|Change Description|\n",
    "|-|-|-|-|\n",
    "|2021-10-25|1.0|Yan|Created the initial version|\n"
   ]
  },
  {
   "cell_type": "markdown",
   "id": "654257e8-413c-41a5-82ab-9c630fb7f3a9",
   "metadata": {},
   "source": [
    "Copyright © 2021 IBM Corporation. All rights reserved.\n"
   ]
  }
 ],
 "metadata": {
  "kernelspec": {
   "display_name": "Python 3 (ipykernel)",
   "language": "python",
   "name": "python3"
  },
  "language_info": {
   "codemirror_mode": {
    "name": "ipython",
    "version": 3
   },
   "file_extension": ".py",
   "mimetype": "text/x-python",
   "name": "python",
   "nbconvert_exporter": "python",
   "pygments_lexer": "ipython3",
   "version": "3.10.12"
  }
 },
 "nbformat": 4,
 "nbformat_minor": 4
}
