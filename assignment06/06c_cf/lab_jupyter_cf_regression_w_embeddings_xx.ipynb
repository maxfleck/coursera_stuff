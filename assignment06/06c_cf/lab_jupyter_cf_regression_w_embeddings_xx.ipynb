{
 "cells": [
  {
   "cell_type": "markdown",
   "id": "46df368c-ce34-4fd1-ad4c-551eb0690e43",
   "metadata": {},
   "source": [
    "<p style=\"text-align:center\">\n",
    "    <a href=\"https://skills.network/?utm_medium=Exinfluencer&utm_source=Exinfluencer&utm_content=000026UJ&utm_term=10006555&utm_id=NA-SkillsNetwork-Channel-SkillsNetworkCoursesIBMML321ENSkillsNetwork817-2022-01-01\" target=\"_blank\">\n",
    "    <img src=\"https://cf-courses-data.s3.us.cloud-object-storage.appdomain.cloud/assets/logos/SN_web_lightmode.png\" width=\"200\" alt=\"Skills Network Logo\"  />\n",
    "    </a>\n",
    "</p>\n"
   ]
  },
  {
   "cell_type": "markdown",
   "id": "e26ae7dc-30c1-4330-9396-c26c1a5eb5f9",
   "metadata": {},
   "source": [
    "# **Regression-based Rating Score Prediction using Embedding Features**\n"
   ]
  },
  {
   "cell_type": "markdown",
   "id": "318a3af6-126b-4ddc-92fc-179f2c4f497f",
   "metadata": {},
   "source": [
    "Estimated time needed: **45** minutes\n"
   ]
  },
  {
   "cell_type": "markdown",
   "id": "94d81798-9542-4d8c-9456-c387d81bd8fe",
   "metadata": {},
   "source": [
    "In our previous lab, you have trained a neural network to predict the user-item interactions while simultaneously extracting the user and item embedding features. In the neural network, extends this by using  two embedding vectors as an input into a Neural Network to predict the rating.\n"
   ]
  },
  {
   "cell_type": "markdown",
   "id": "fb14a781-d729-4f05-acc9-5ea26d4e1003",
   "metadata": {},
   "source": [
    "![](https://cf-courses-data.s3.us.cloud-object-storage.appdomain.cloud/IBM-ML321EN-SkillsNetwork/labs/module_4/images/rating_regression.png)\n"
   ]
  },
  {
   "cell_type": "markdown",
   "id": "be6a2d03-1b18-4280-8b05-4121853975db",
   "metadata": {},
   "source": [
    "\n",
    "Another way to make rating predictions is to use the embedding as an input to a neural network by aggregating them into a single feature vector as input data `X`. \n",
    "\n",
    "With the interaction label `Y` such as a rating score or an enrollment mode, we can build our other standalone predictive models to approximate the mapping from `X` to `Y`, as shown in the above flowchart.\n"
   ]
  },
  {
   "cell_type": "markdown",
   "id": "674eaebd-f9fb-4ae8-b360-c42920dd1b26",
   "metadata": {},
   "source": [
    "In this lab, you will be given the course interaction feature vectors as input data `X` and consider label `Y` as the numerical rating scores. As such, we turn the recommender system into a common regression task and you can apply what you have learned about regression modeling to predict the ratings.\n"
   ]
  },
  {
   "cell_type": "markdown",
   "id": "8667b5a0-6a18-4023-8d79-563fa5bc2ccd",
   "metadata": {},
   "source": [
    "## Objectives\n"
   ]
  },
  {
   "cell_type": "markdown",
   "id": "73f22e1e-86be-4140-b5f6-e45e98535205",
   "metadata": {},
   "source": [
    "After completing this lab you will be able to:\n"
   ]
  },
  {
   "cell_type": "markdown",
   "id": "b23e6e7d-6ce1-4afa-a43f-cbcecf81fc28",
   "metadata": {},
   "source": [
    "* Build regression models to predict ratings using the combined embedding vectors\n"
   ]
  },
  {
   "cell_type": "markdown",
   "id": "44aec5cf-9d36-4bda-86d4-d328b7679b83",
   "metadata": {},
   "source": [
    "----\n"
   ]
  },
  {
   "cell_type": "markdown",
   "id": "87d7f0b9-03ea-4788-aa0f-ff1acb0fb5ce",
   "metadata": {},
   "source": [
    "## Prepare and setup lab environment\n"
   ]
  },
  {
   "cell_type": "markdown",
   "id": "d29231cf-dc00-415e-8c8a-6ef9b7864354",
   "metadata": {},
   "source": [
    "First install and import required libraries:\n"
   ]
  },
  {
   "cell_type": "code",
   "execution_count": 1,
   "id": "c87016bb-3a84-4b7a-a495-06fae74a70c2",
   "metadata": {},
   "outputs": [],
   "source": [
    "#!pip install scikit-learn==1.0.2"
   ]
  },
  {
   "cell_type": "code",
   "execution_count": 2,
   "id": "19424a54-df23-4944-9f7a-79166eccc5fa",
   "metadata": {},
   "outputs": [],
   "source": [
    "# also set a random state\n",
    "rs = 123"
   ]
  },
  {
   "cell_type": "code",
   "execution_count": 3,
   "id": "3623f781-1884-4251-841e-89da26acc715",
   "metadata": {},
   "outputs": [
    {
     "name": "stderr",
     "output_type": "stream",
     "text": [
      "2024-01-16 15:47:34.034330: I external/local_tsl/tsl/cuda/cudart_stub.cc:31] Could not find cuda drivers on your machine, GPU will not be used.\n",
      "2024-01-16 15:47:34.069853: E external/local_xla/xla/stream_executor/cuda/cuda_dnn.cc:9261] Unable to register cuDNN factory: Attempting to register factory for plugin cuDNN when one has already been registered\n",
      "2024-01-16 15:47:34.069881: E external/local_xla/xla/stream_executor/cuda/cuda_fft.cc:607] Unable to register cuFFT factory: Attempting to register factory for plugin cuFFT when one has already been registered\n",
      "2024-01-16 15:47:34.070846: E external/local_xla/xla/stream_executor/cuda/cuda_blas.cc:1515] Unable to register cuBLAS factory: Attempting to register factory for plugin cuBLAS when one has already been registered\n",
      "2024-01-16 15:47:34.075968: I external/local_tsl/tsl/cuda/cudart_stub.cc:31] Could not find cuda drivers on your machine, GPU will not be used.\n",
      "2024-01-16 15:47:34.076433: I tensorflow/core/platform/cpu_feature_guard.cc:182] This TensorFlow binary is optimized to use available CPU instructions in performance-critical operations.\n",
      "To enable the following instructions: AVX2 FMA, in other operations, rebuild TensorFlow with the appropriate compiler flags.\n",
      "2024-01-16 15:47:34.911411: W tensorflow/compiler/tf2tensorrt/utils/py_utils.cc:38] TF-TRT Warning: Could not find TensorRT\n"
     ]
    }
   ],
   "source": [
    "import pandas as pd\n",
    "import matplotlib.pyplot as plt\n",
    "\n",
    "import numpy as np\n",
    "import random\n",
    "\n",
    "from sklearn.model_selection import train_test_split\n",
    "from sklearn import linear_model\n",
    "from sklearn.metrics import mean_squared_error\n",
    "\n",
    "import tensorflow as tf\n",
    "from tensorflow import keras\n",
    "from tensorflow.keras import layers\n"
   ]
  },
  {
   "cell_type": "markdown",
   "id": "e81f8e1e-6543-4247-872d-f89b10101abf",
   "metadata": {},
   "source": [
    "### Load datasets\n"
   ]
  },
  {
   "cell_type": "code",
   "execution_count": 109,
   "id": "50625791-c7ba-425a-8876-30a11eeda4c3",
   "metadata": {},
   "outputs": [],
   "source": [
    "rating_url = \"nice_data.csv\"\n",
    "\n",
    "bias = False\n",
    "bias = True\n",
    "if bias:\n",
    "    emb_url = \"bui_df.csv\"\n",
    "else:\n",
    "    emb_url = \"ui_df.csv\"\n",
    "    \n",
    "feats = 4"
   ]
  },
  {
   "cell_type": "markdown",
   "id": "8ceb2b1b-6b47-4733-ba07-9da2f47d4c1d",
   "metadata": {},
   "source": [
    "\n",
    "\n",
    "The first dataset is the rating dataset that contains a user-item interaction matrix\n"
   ]
  },
  {
   "cell_type": "code",
   "execution_count": 110,
   "id": "0cad71a4-13e5-4b62-894b-fff732d73aed",
   "metadata": {},
   "outputs": [],
   "source": [
    "rating_df = pd.read_csv(rating_url)"
   ]
  },
  {
   "cell_type": "markdown",
   "id": "2a1d7915-d274-4aff-ae86-00b0c3c2cc17",
   "metadata": {},
   "source": [
    "As you can see from the above data, the user and item are just ids, let's substitute them by their embedding vectors:\n"
   ]
  },
  {
   "cell_type": "code",
   "execution_count": 111,
   "id": "80919644-94d3-4df5-b88a-f230621ebbf9",
   "metadata": {},
   "outputs": [
    {
     "data": {
      "text/html": [
       "<div>\n",
       "<style scoped>\n",
       "    .dataframe tbody tr th:only-of-type {\n",
       "        vertical-align: middle;\n",
       "    }\n",
       "\n",
       "    .dataframe tbody tr th {\n",
       "        vertical-align: top;\n",
       "    }\n",
       "\n",
       "    .dataframe thead th {\n",
       "        text-align: right;\n",
       "    }\n",
       "</style>\n",
       "<table border=\"1\" class=\"dataframe\">\n",
       "  <thead>\n",
       "    <tr style=\"text-align: right;\">\n",
       "      <th></th>\n",
       "      <th>user</th>\n",
       "      <th>item</th>\n",
       "      <th>rating</th>\n",
       "      <th>UFeature0</th>\n",
       "      <th>UFeature1</th>\n",
       "      <th>UFeature2</th>\n",
       "      <th>UFeature3</th>\n",
       "      <th>CFeature0</th>\n",
       "      <th>CFeature1</th>\n",
       "      <th>CFeature2</th>\n",
       "      <th>CFeature3</th>\n",
       "    </tr>\n",
       "  </thead>\n",
       "  <tbody>\n",
       "    <tr>\n",
       "      <th>0</th>\n",
       "      <td>2</td>\n",
       "      <td>BD0221EN</td>\n",
       "      <td>3.0</td>\n",
       "      <td>0.546519</td>\n",
       "      <td>0.522308</td>\n",
       "      <td>0.567332</td>\n",
       "      <td>0.551337</td>\n",
       "      <td>0.298596</td>\n",
       "      <td>0.252571</td>\n",
       "      <td>0.237723</td>\n",
       "      <td>0.292418</td>\n",
       "    </tr>\n",
       "    <tr>\n",
       "      <th>1</th>\n",
       "      <td>2</td>\n",
       "      <td>LB0107ENv1</td>\n",
       "      <td>3.0</td>\n",
       "      <td>0.546519</td>\n",
       "      <td>0.522308</td>\n",
       "      <td>0.567332</td>\n",
       "      <td>0.551337</td>\n",
       "      <td>0.082089</td>\n",
       "      <td>0.070729</td>\n",
       "      <td>0.121350</td>\n",
       "      <td>0.134453</td>\n",
       "    </tr>\n",
       "    <tr>\n",
       "      <th>2</th>\n",
       "      <td>2</td>\n",
       "      <td>SC0105EN</td>\n",
       "      <td>2.0</td>\n",
       "      <td>0.546519</td>\n",
       "      <td>0.522308</td>\n",
       "      <td>0.567332</td>\n",
       "      <td>0.551337</td>\n",
       "      <td>0.248559</td>\n",
       "      <td>0.269034</td>\n",
       "      <td>0.254836</td>\n",
       "      <td>0.232296</td>\n",
       "    </tr>\n",
       "    <tr>\n",
       "      <th>3</th>\n",
       "      <td>2</td>\n",
       "      <td>CO0201EN</td>\n",
       "      <td>0.0</td>\n",
       "      <td>0.546519</td>\n",
       "      <td>0.522308</td>\n",
       "      <td>0.567332</td>\n",
       "      <td>0.551337</td>\n",
       "      <td>0.478235</td>\n",
       "      <td>0.477303</td>\n",
       "      <td>0.481867</td>\n",
       "      <td>0.522997</td>\n",
       "    </tr>\n",
       "    <tr>\n",
       "      <th>4</th>\n",
       "      <td>2</td>\n",
       "      <td>BD0123EN</td>\n",
       "      <td>2.0</td>\n",
       "      <td>0.546519</td>\n",
       "      <td>0.522308</td>\n",
       "      <td>0.567332</td>\n",
       "      <td>0.551337</td>\n",
       "      <td>0.285399</td>\n",
       "      <td>0.282582</td>\n",
       "      <td>0.309380</td>\n",
       "      <td>0.279520</td>\n",
       "    </tr>\n",
       "  </tbody>\n",
       "</table>\n",
       "</div>"
      ],
      "text/plain": [
       "   user        item  rating  UFeature0  UFeature1  UFeature2  UFeature3  \\\n",
       "0     2    BD0221EN     3.0   0.546519   0.522308   0.567332   0.551337   \n",
       "1     2  LB0107ENv1     3.0   0.546519   0.522308   0.567332   0.551337   \n",
       "2     2    SC0105EN     2.0   0.546519   0.522308   0.567332   0.551337   \n",
       "3     2    CO0201EN     0.0   0.546519   0.522308   0.567332   0.551337   \n",
       "4     2    BD0123EN     2.0   0.546519   0.522308   0.567332   0.551337   \n",
       "\n",
       "   CFeature0  CFeature1  CFeature2  CFeature3  \n",
       "0   0.298596   0.252571   0.237723   0.292418  \n",
       "1   0.082089   0.070729   0.121350   0.134453  \n",
       "2   0.248559   0.269034   0.254836   0.232296  \n",
       "3   0.478235   0.477303   0.481867   0.522997  \n",
       "4   0.285399   0.282582   0.309380   0.279520  "
      ]
     },
     "execution_count": 111,
     "metadata": {},
     "output_type": "execute_result"
    }
   ],
   "source": [
    "merged_df = pd.read_csv(emb_url)\n",
    "merged_df.head()"
   ]
  },
  {
   "cell_type": "markdown",
   "id": "fc2f1f0b-a19f-4c20-a8aa-31f72b669081",
   "metadata": {},
   "source": [
    "Next, we can combine the user features (the column labels starting with `UFeature` and item features (the column labels starting with `CFeature`. In machine learning, there are many ways to aggregate two feature vectors such as element-wise add, multiply, max/min, average, etc. Here we simply add the two sets of feature columns:\n"
   ]
  },
  {
   "cell_type": "code",
   "execution_count": 112,
   "id": "9853d1c2-3b8d-4325-ad7b-79d9a4e31f39",
   "metadata": {},
   "outputs": [
    {
     "data": {
      "text/html": [
       "<div>\n",
       "<style scoped>\n",
       "    .dataframe tbody tr th:only-of-type {\n",
       "        vertical-align: middle;\n",
       "    }\n",
       "\n",
       "    .dataframe tbody tr th {\n",
       "        vertical-align: top;\n",
       "    }\n",
       "\n",
       "    .dataframe thead th {\n",
       "        text-align: right;\n",
       "    }\n",
       "</style>\n",
       "<table border=\"1\" class=\"dataframe\">\n",
       "  <thead>\n",
       "    <tr style=\"text-align: right;\">\n",
       "      <th></th>\n",
       "      <th>Feature0</th>\n",
       "      <th>Feature1</th>\n",
       "      <th>Feature2</th>\n",
       "      <th>Feature3</th>\n",
       "      <th>rating</th>\n",
       "    </tr>\n",
       "  </thead>\n",
       "  <tbody>\n",
       "    <tr>\n",
       "      <th>0</th>\n",
       "      <td>0.845115</td>\n",
       "      <td>0.774879</td>\n",
       "      <td>0.805055</td>\n",
       "      <td>0.843755</td>\n",
       "      <td>3.0</td>\n",
       "    </tr>\n",
       "    <tr>\n",
       "      <th>1</th>\n",
       "      <td>0.628607</td>\n",
       "      <td>0.593037</td>\n",
       "      <td>0.688681</td>\n",
       "      <td>0.685790</td>\n",
       "      <td>3.0</td>\n",
       "    </tr>\n",
       "    <tr>\n",
       "      <th>2</th>\n",
       "      <td>0.795078</td>\n",
       "      <td>0.791342</td>\n",
       "      <td>0.822168</td>\n",
       "      <td>0.783633</td>\n",
       "      <td>2.0</td>\n",
       "    </tr>\n",
       "    <tr>\n",
       "      <th>3</th>\n",
       "      <td>1.024754</td>\n",
       "      <td>0.999611</td>\n",
       "      <td>1.049198</td>\n",
       "      <td>1.074334</td>\n",
       "      <td>0.0</td>\n",
       "    </tr>\n",
       "    <tr>\n",
       "      <th>4</th>\n",
       "      <td>0.831918</td>\n",
       "      <td>0.804890</td>\n",
       "      <td>0.876711</td>\n",
       "      <td>0.830857</td>\n",
       "      <td>2.0</td>\n",
       "    </tr>\n",
       "  </tbody>\n",
       "</table>\n",
       "</div>"
      ],
      "text/plain": [
       "   Feature0  Feature1  Feature2  Feature3  rating\n",
       "0  0.845115  0.774879  0.805055  0.843755     3.0\n",
       "1  0.628607  0.593037  0.688681  0.685790     3.0\n",
       "2  0.795078  0.791342  0.822168  0.783633     2.0\n",
       "3  1.024754  0.999611  1.049198  1.074334     0.0\n",
       "4  0.831918  0.804890  0.876711  0.830857     2.0"
      ]
     },
     "execution_count": 112,
     "metadata": {},
     "output_type": "execute_result"
    }
   ],
   "source": [
    "u_feautres = [f\"UFeature{i}\" for i in range(feats)]\n",
    "c_features = [f\"CFeature{i}\" for i in range(feats)]\n",
    "\n",
    "user_embeddings = merged_df[u_feautres]\n",
    "course_embeddings = merged_df[c_features]\n",
    "ratings = merged_df['rating']\n",
    "\n",
    "# Aggregate the two feature columns using element-wise add\n",
    "regression_dataset = user_embeddings + course_embeddings.values\n",
    "#regression_dataset = user_embeddings * course_embeddings.values\n",
    "regression_dataset.columns = [f\"Feature{i}\" for i in range(feats)]\n",
    "regression_dataset['rating'] = ratings\n",
    "regression_dataset.head()"
   ]
  },
  {
   "cell_type": "markdown",
   "id": "2e14398e-a11e-4b52-9823-83430e46ef37",
   "metadata": {},
   "source": [
    "By now, we have built the input dataset `X` and the output vector `y`:\n"
   ]
  },
  {
   "cell_type": "code",
   "execution_count": 113,
   "id": "0592dd26-8f45-430c-a181-1c64954dd0b5",
   "metadata": {},
   "outputs": [
    {
     "name": "stdout",
     "output_type": "stream",
     "text": [
      "Input data shape: (533306, 4), Output data shape: (533306,)\n"
     ]
    }
   ],
   "source": [
    "X = regression_dataset.iloc[:, :-1]\n",
    "y = regression_dataset.iloc[:, -1]\n",
    "print(f\"Input data shape: {X.shape}, Output data shape: {y.shape}\")"
   ]
  },
  {
   "cell_type": "markdown",
   "id": "8e5a53a2-c035-4b26-8b03-1596d6a8ebf3",
   "metadata": {},
   "source": [
    "## TASK: Perform regression on the interaction dataset\n"
   ]
  },
  {
   "cell_type": "markdown",
   "id": "526e28fb-56a3-4d2b-b50b-ba0bdf80b85d",
   "metadata": {},
   "source": [
    "Now our input data `X` and output `y` are ready, let's build regression models to map X to y and predict ratings. \n"
   ]
  },
  {
   "cell_type": "markdown",
   "id": "4a2e7980-652c-47d4-9873-713fbd8802d6",
   "metadata": {},
   "source": [
    "y.unique()\n"
   ]
  },
  {
   "cell_type": "markdown",
   "id": "5467795b-c9b6-40ae-a753-27ba33a12237",
   "metadata": {},
   "source": [
    "In an online course system, we may consider the `Completion` mode to be `larger` than the `Audit` mode as a learner needs to put more efforts towards completion.  Now if we treat it as a regression problem,  we would expect the regression model to output ratings ranging from 2.0 to 3.0. To interpret regression model output, we can treat values closer to 2.0 as `Audit` and values closer to 3.0 as `Completion`.\n"
   ]
  },
  {
   "cell_type": "markdown",
   "id": "4d5de809-93a1-4673-bf11-b9c97b1a8213",
   "metadata": {},
   "source": [
    "You may use `sklearn` to train and evaluate various regression models.\n"
   ]
  },
  {
   "cell_type": "markdown",
   "id": "bf19a016-9324-418a-b29a-92e52dc4be66",
   "metadata": {},
   "source": [
    "_TODO: First split dataset into training and testing datasets_\n"
   ]
  },
  {
   "cell_type": "code",
   "execution_count": 114,
   "id": "9926f131-863c-4cd5-8f6c-6730b861d8c6",
   "metadata": {},
   "outputs": [],
   "source": [
    "### WRITE YOUR CODE HERE\n",
    "from sklearn.preprocessing import StandardScaler\n",
    "\n",
    "#scaler = StandardScaler\n",
    "#X,y = scaler.fit_transform(X,y)\n",
    "#y = y -2\n",
    "\n",
    "X_train, X_test, y_train, y_test = train_test_split(X,y,random_state=rs,test_size=0.3)"
   ]
  },
  {
   "cell_type": "code",
   "execution_count": 115,
   "metadata": {},
   "outputs": [
    {
     "data": {
      "text/html": [
       "<div>\n",
       "<style scoped>\n",
       "    .dataframe tbody tr th:only-of-type {\n",
       "        vertical-align: middle;\n",
       "    }\n",
       "\n",
       "    .dataframe tbody tr th {\n",
       "        vertical-align: top;\n",
       "    }\n",
       "\n",
       "    .dataframe thead th {\n",
       "        text-align: right;\n",
       "    }\n",
       "</style>\n",
       "<table border=\"1\" class=\"dataframe\">\n",
       "  <thead>\n",
       "    <tr style=\"text-align: right;\">\n",
       "      <th></th>\n",
       "      <th>Feature0</th>\n",
       "      <th>Feature1</th>\n",
       "      <th>Feature2</th>\n",
       "      <th>Feature3</th>\n",
       "    </tr>\n",
       "  </thead>\n",
       "  <tbody>\n",
       "    <tr>\n",
       "      <th>65010</th>\n",
       "      <td>0.460036</td>\n",
       "      <td>0.493745</td>\n",
       "      <td>0.439085</td>\n",
       "      <td>0.546936</td>\n",
       "    </tr>\n",
       "    <tr>\n",
       "      <th>143936</th>\n",
       "      <td>0.435808</td>\n",
       "      <td>0.360630</td>\n",
       "      <td>0.405626</td>\n",
       "      <td>0.290575</td>\n",
       "    </tr>\n",
       "    <tr>\n",
       "      <th>205146</th>\n",
       "      <td>0.114080</td>\n",
       "      <td>0.129557</td>\n",
       "      <td>0.254676</td>\n",
       "      <td>0.171499</td>\n",
       "    </tr>\n",
       "    <tr>\n",
       "      <th>235580</th>\n",
       "      <td>1.354492</td>\n",
       "      <td>1.206614</td>\n",
       "      <td>1.379414</td>\n",
       "      <td>1.247802</td>\n",
       "    </tr>\n",
       "    <tr>\n",
       "      <th>48663</th>\n",
       "      <td>0.438686</td>\n",
       "      <td>0.501440</td>\n",
       "      <td>0.484345</td>\n",
       "      <td>0.411628</td>\n",
       "    </tr>\n",
       "    <tr>\n",
       "      <th>...</th>\n",
       "      <td>...</td>\n",
       "      <td>...</td>\n",
       "      <td>...</td>\n",
       "      <td>...</td>\n",
       "    </tr>\n",
       "    <tr>\n",
       "      <th>194278</th>\n",
       "      <td>0.855638</td>\n",
       "      <td>0.813253</td>\n",
       "      <td>0.722538</td>\n",
       "      <td>0.633629</td>\n",
       "    </tr>\n",
       "    <tr>\n",
       "      <th>192476</th>\n",
       "      <td>0.684916</td>\n",
       "      <td>0.728513</td>\n",
       "      <td>0.590183</td>\n",
       "      <td>0.625142</td>\n",
       "    </tr>\n",
       "    <tr>\n",
       "      <th>17730</th>\n",
       "      <td>1.085468</td>\n",
       "      <td>0.945278</td>\n",
       "      <td>0.931743</td>\n",
       "      <td>1.070203</td>\n",
       "    </tr>\n",
       "    <tr>\n",
       "      <th>28030</th>\n",
       "      <td>1.022231</td>\n",
       "      <td>1.103496</td>\n",
       "      <td>1.150370</td>\n",
       "      <td>1.001215</td>\n",
       "    </tr>\n",
       "    <tr>\n",
       "      <th>277869</th>\n",
       "      <td>-0.439053</td>\n",
       "      <td>-0.572007</td>\n",
       "      <td>-0.411934</td>\n",
       "      <td>-0.407813</td>\n",
       "    </tr>\n",
       "  </tbody>\n",
       "</table>\n",
       "<p>373314 rows × 4 columns</p>\n",
       "</div>"
      ],
      "text/plain": [
       "        Feature0  Feature1  Feature2  Feature3\n",
       "65010   0.460036  0.493745  0.439085  0.546936\n",
       "143936  0.435808  0.360630  0.405626  0.290575\n",
       "205146  0.114080  0.129557  0.254676  0.171499\n",
       "235580  1.354492  1.206614  1.379414  1.247802\n",
       "48663   0.438686  0.501440  0.484345  0.411628\n",
       "...          ...       ...       ...       ...\n",
       "194278  0.855638  0.813253  0.722538  0.633629\n",
       "192476  0.684916  0.728513  0.590183  0.625142\n",
       "17730   1.085468  0.945278  0.931743  1.070203\n",
       "28030   1.022231  1.103496  1.150370  1.001215\n",
       "277869 -0.439053 -0.572007 -0.411934 -0.407813\n",
       "\n",
       "[373314 rows x 4 columns]"
      ]
     },
     "execution_count": 115,
     "metadata": {},
     "output_type": "execute_result"
    }
   ],
   "source": [
    "X_train"
   ]
  },
  {
   "cell_type": "code",
   "execution_count": 116,
   "metadata": {},
   "outputs": [
    {
     "data": {
      "text/plain": [
       "(3275, 66653)"
      ]
     },
     "execution_count": 116,
     "metadata": {},
     "output_type": "execute_result"
    }
   ],
   "source": [
    "sum( y_test == 2 ) , sum( y_test == 3 )"
   ]
  },
  {
   "cell_type": "markdown",
   "id": "19c74ca4-1fc9-49bf-b6ab-a69ba391b90b",
   "metadata": {},
   "source": [
    "<details>\n",
    "    <summary>Click here for Hints</summary>\n",
    "    \n",
    "Use `train_test_split()` to split dataset into training and testing datasets.  Use `X, y` as input dataset and output vector. Don't forget to specify `random_state = rs` and `test_size=0.3`.\n"
   ]
  },
  {
   "cell_type": "markdown",
   "id": "33d32313-59f5-4c79-9a85-2aec452dc371",
   "metadata": {},
   "source": [
    "_TODO: Create a basic linear regression model_\n"
   ]
  },
  {
   "cell_type": "code",
   "execution_count": 117,
   "id": "9c92ddee-71d9-4a14-8a52-a5b64dbe078b",
   "metadata": {},
   "outputs": [],
   "source": [
    "### WRITE YOUR CODE HERE\n",
    "model = linear_model.Ridge(alpha=0.2)"
   ]
  },
  {
   "cell_type": "markdown",
   "id": "97186e6b-f8c9-4e3a-ac84-5b32370cdf8f",
   "metadata": {},
   "source": [
    "<details>\n",
    "    <summary>Click here for Hints</summary>\n",
    "    \n",
    "You can call `linear_model.Ridge()` method and specify `alpha=0.2` ( it's controlling regularization) in the parameters.\n"
   ]
  },
  {
   "cell_type": "markdown",
   "id": "2168b1fa-ce81-4f05-b378-d14ae39b0cd5",
   "metadata": {},
   "source": [
    "_TODO: Train the basic regression model with training data_\n"
   ]
  },
  {
   "cell_type": "code",
   "execution_count": 118,
   "id": "47d7c7be-b5d4-42ca-9d69-89eca026c54e",
   "metadata": {},
   "outputs": [
    {
     "data": {
      "text/plain": [
       "Ridge(alpha=0.2)"
      ]
     },
     "execution_count": 118,
     "metadata": {},
     "output_type": "execute_result"
    }
   ],
   "source": [
    "### WRITE YOUR CODE HERE\n",
    "model.fit(X_train, y_train)"
   ]
  },
  {
   "cell_type": "markdown",
   "id": "5b55b75f-444d-451f-8857-6d0811fb5c5c",
   "metadata": {},
   "source": [
    "<details>\n",
    "    <summary>Click here for Hints</summary>\n",
    "    \n",
    "You can call `model.fit()` method with `X_train, y_train` parameters.\n"
   ]
  },
  {
   "cell_type": "markdown",
   "id": "072232b0-d3cf-4e8a-b013-6cd996df38e0",
   "metadata": {},
   "source": [
    "_TODO: Evaluate the basic regression model_\n"
   ]
  },
  {
   "cell_type": "code",
   "execution_count": 119,
   "id": "05b9d90e-60e6-4f0c-aa36-952bd35961b5",
   "metadata": {},
   "outputs": [
    {
     "data": {
      "text/plain": [
       "(1.0988970666216387, (159992,))"
      ]
     },
     "execution_count": 119,
     "metadata": {},
     "output_type": "execute_result"
    }
   ],
   "source": [
    "### WRITE YOUR CODE HERE\n",
    "\n",
    "### The main evaluation metric is RMSE but you may use other metrics as well\n",
    "\n",
    "y_predict = model.predict(X_test)\n",
    "\n",
    "mean_squared_error(y_test,  y_predict, squared=False), y_predict.shape"
   ]
  },
  {
   "cell_type": "code",
   "execution_count": 120,
   "metadata": {},
   "outputs": [
    {
     "data": {
      "text/plain": [
       "(0.0, 3.0, -1.7705072953316836, 3.7384404737419583)"
      ]
     },
     "execution_count": 120,
     "metadata": {},
     "output_type": "execute_result"
    }
   ],
   "source": [
    "min(y_train), max(y_train), min(y_predict), max(y_predict)"
   ]
  },
  {
   "cell_type": "code",
   "execution_count": 121,
   "metadata": {},
   "outputs": [
    {
     "name": "stdout",
     "output_type": "stream",
     "text": [
      "0.0 3.0 -1.7705109599782989 3.738440973033925\n",
      "0.0 1.0988970628157226\n",
      "\n",
      "0.0 3.0 -1.7705017991769383 3.7384397245649907\n",
      "0.5 1.0988970723351044\n",
      "\n",
      "0.0 3.0 -1.7704926410917248 3.738438475299593\n",
      "1.0 1.0988970818697779\n",
      "\n",
      "0.0 3.0 -1.770483485720547 3.7384372252382096\n",
      "1.5 1.0988970914197211\n",
      "\n",
      "0.0 3.0 -1.770474333061308 3.7384359743813254\n",
      "2.0 1.0988971009849111\n",
      "\n",
      "0.0 3.0 -1.7704651831119091 3.7384347227294246\n",
      "2.5 1.0988971105653247\n",
      "\n",
      "0.0 3.0 -1.770456035870252 3.7384334702829882\n",
      "3.0 1.0988971201609397\n",
      "\n",
      "0.0 3.0 -1.7704468913342426 3.738432217042496\n",
      "3.5 1.0988971297717331\n",
      "\n"
     ]
    },
    {
     "data": {
      "text/plain": [
       "[<matplotlib.lines.Line2D at 0x7ff0412be080>]"
      ]
     },
     "execution_count": 121,
     "metadata": {},
     "output_type": "execute_result"
    },
    {
     "data": {
      "image/png": "[encoded data removed]",
      "text/plain": [
       "<Figure size 432x288 with 1 Axes>"
      ]
     },
     "metadata": {
      "needs_background": "light"
     },
     "output_type": "display_data"
    }
   ],
   "source": [
    "rmses = []\n",
    "alphas = np.arange( 0, 4, 0.5 )\n",
    "for alpha in alphas:\n",
    "    \n",
    "    model = linear_model.Ridge(alpha=alpha)\n",
    "    model.fit(X_train, y_train)\n",
    "    y_predict = model.predict(X_test)\n",
    "    print( min(y_train), max(y_train), min(y_predict), max(y_predict) )\n",
    "    rmse = mean_squared_error(y_test,  y_predict, squared=False)\n",
    "    print(alpha,rmse)\n",
    "    rmses.append( rmse )\n",
    "    print(\"\")\n",
    "plt.plot( alphas, rmses )"
   ]
  },
  {
   "cell_type": "markdown",
   "id": "1725c415-c714-4f70-9b31-9abc2530a75a",
   "metadata": {},
   "source": [
    "<details>\n",
    "    <summary>Click here for Hints</summary>\n",
    "    \n",
    "You can call `model.predict()` method with `X_test` parameter to get model predictions. Then use `mean_squared_error()` with `y_test, your_predictions` parameters to calculate the RMSE. \n"
   ]
  },
  {
   "cell_type": "markdown",
   "id": "3e29b0ba-55b9-413b-b1b4-40ec8d3d99d9",
   "metadata": {},
   "source": [
    "_TODO: Try different regression models such as Ridge, Lasso, ElasticNet and tune their hyperparameters to see which one has the best performance_\n"
   ]
  },
  {
   "cell_type": "code",
   "execution_count": 122,
   "id": "21112e72-fca8-4056-b966-d91dee039b4f",
   "metadata": {},
   "outputs": [
    {
     "name": "stdout",
     "output_type": "stream",
     "text": [
      "0.0 3.0 -1.7103495161365192 3.6869850046107686\n",
      "0.01 1.0991286698756189\n",
      "0.0 3.0 1.2922981725839373 1.2922981725839373\n",
      "0.51 1.4714875253924538\n"
     ]
    },
    {
     "data": {
      "text/plain": [
       "[<matplotlib.lines.Line2D at 0x7ff04d67d600>]"
      ]
     },
     "execution_count": 122,
     "metadata": {},
     "output_type": "execute_result"
    },
    {
     "data": {
      "image/png": "[encoded data removed]",
      "text/plain": [
       "<Figure size 432x288 with 1 Axes>"
      ]
     },
     "metadata": {
      "needs_background": "light"
     },
     "output_type": "display_data"
    }
   ],
   "source": [
    "### WRITE YOUR CODE HERE\n",
    "rmses = []\n",
    "alphas = np.arange( 0.01,1,0.5 )\n",
    "for alpha in alphas:\n",
    "    model = linear_model.Lasso(alpha=alpha)\n",
    "    model.fit(X_train, y_train)\n",
    "    y_predict = model.predict(X_test)\n",
    "    print( min(y_train), max(y_train), min(y_predict), max(y_predict) )\n",
    "    rmse = mean_squared_error(y_test,  y_predict, squared=False)\n",
    "    print(alpha,rmse)\n",
    "    rmses.append( rmse )\n",
    "    \n",
    "plt.plot( rmses )"
   ]
  },
  {
   "cell_type": "code",
   "execution_count": 123,
   "metadata": {},
   "outputs": [
    {
     "data": {
      "text/plain": [
       "(1.2922981725839373, 1.2922981725839373)"
      ]
     },
     "execution_count": 123,
     "metadata": {},
     "output_type": "execute_result"
    }
   ],
   "source": [
    "min(y_predict), max(y_predict)"
   ]
  },
  {
   "cell_type": "code",
   "execution_count": 124,
   "metadata": {},
   "outputs": [
    {
     "name": "stdout",
     "output_type": "stream",
     "text": [
      "0.0 3.0 -1.770510957233224 3.738440906414368\n",
      "1e-08 1.0988970622545546\n",
      "0.0 3.0 -1.7705042748996929 3.7384377498116237\n",
      "1e-06 1.098897069430556\n",
      "0.0 3.0 -1.7698399381600687 3.7380761955329618\n",
      "0.0001 1.0988974995896281\n",
      "0.0 3.0 -1.7157707295169538 3.705463811099123\n",
      "0.01 1.0990745779269597\n",
      "0.0 3.0 -1.3230969193526232 3.395715702765221\n",
      "0.1 1.1081793186395417\n"
     ]
    },
    {
     "data": {
      "text/plain": [
       "[<matplotlib.lines.Line2D at 0x7ff04d6f0640>]"
      ]
     },
     "execution_count": 124,
     "metadata": {},
     "output_type": "execute_result"
    },
    {
     "data": {
      "image/png": "[encoded data removed]",
      "text/plain": [
       "<Figure size 432x288 with 1 Axes>"
      ]
     },
     "metadata": {
      "needs_background": "light"
     },
     "output_type": "display_data"
    }
   ],
   "source": [
    "### WRITE YOUR CODE HERE\n",
    "rmses = []\n",
    "alphas = [ 0.00000001, 0.000001, 0.0001,0.01,0.1]\n",
    "for alpha in alphas:\n",
    "    model = linear_model.ElasticNet(alpha=alpha)\n",
    "    model.fit(X_train, y_train)\n",
    "    y_predict = model.predict(X_test)\n",
    "    print( min(y_train), max(y_train), min(y_predict), max(y_predict) )\n",
    "    rmse = mean_squared_error(y_test,  y_predict, squared=False)\n",
    "    print(alpha,rmse)\n",
    "    rmses.append( rmse )\n",
    "    \n",
    "plt.plot( rmses )"
   ]
  },
  {
   "cell_type": "markdown",
   "id": "91b2b82d-9525-441f-be28-0e803072e131",
   "metadata": {},
   "source": [
    "### Summary\n"
   ]
  },
  {
   "cell_type": "markdown",
   "id": "c40eb683-0bfd-4a2c-9c2f-3823453c46ad",
   "metadata": {},
   "source": [
    "In this lab, you have built regression models to predict numerical course ratings using the embedding feature vectors extracted from neural networks. In the next lab, we can treat the prediction problem as a classification problem as rating only has two categorical values so classification can be a more natural problem statement.\n"
   ]
  },
  {
   "cell_type": "markdown",
   "id": "600b79a4-2aa0-437e-894f-9fc9aa0580cc",
   "metadata": {},
   "source": [
    "## Authors\n"
   ]
  },
  {
   "cell_type": "markdown",
   "id": "39980484-9643-433f-a0b4-3ea8d522d8a4",
   "metadata": {},
   "source": [
    "[Yan Luo](https://www.linkedin.com/in/yan-luo-96288783/?utm_medium=Exinfluencer&utm_source=Exinfluencer&utm_content=000026UJ&utm_term=10006555&utm_id=NA-SkillsNetwork-Channel-SkillsNetworkCoursesIBMML321ENSkillsNetwork817-2022-01-01)\n"
   ]
  },
  {
   "cell_type": "markdown",
   "id": "7755011b-2382-4ad2-972f-1e59a712f34a",
   "metadata": {},
   "source": [
    "### Other Contributors\n"
   ]
  },
  {
   "cell_type": "markdown",
   "id": "5c132092-59a3-4f50-bfd4-526258cb672c",
   "metadata": {},
   "source": [
    "## Change Log\n"
   ]
  },
  {
   "cell_type": "markdown",
   "id": "6aa7b7b7-73fb-4dc8-9386-d5ca3d381b49",
   "metadata": {},
   "source": [
    "|Date (YYYY-MM-DD)|Version|Changed By|Change Description|\n",
    "|-|-|-|-|\n",
    "|2021-10-25|1.0|Yan|Created the initial version|\n"
   ]
  },
  {
   "cell_type": "markdown",
   "id": "04062d00-c4db-41d9-b72b-0a33c520effa",
   "metadata": {},
   "source": [
    "Copyright © 2021 IBM Corporation. All rights reserved.\n"
   ]
  }
 ],
 "metadata": {
  "kernelspec": {
   "display_name": "Python 3 (ipykernel)",
   "language": "python",
   "name": "python3"
  },
  "language_info": {
   "codemirror_mode": {
    "name": "ipython",
    "version": 3
   },
   "file_extension": ".py",
   "mimetype": "text/x-python",
   "name": "python",
   "nbconvert_exporter": "python",
   "pygments_lexer": "ipython3",
   "version": "3.10.12"
  }
 },
 "nbformat": 4,
 "nbformat_minor": 4
}
